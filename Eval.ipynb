{
 "cells": [
  {
   "cell_type": "code",
   "execution_count": 1,
   "metadata": {},
   "outputs": [
    {
     "name": "stderr",
     "output_type": "stream",
     "text": [
      "Using TensorFlow backend.\n"
     ]
    }
   ],
   "source": [
    "from keras.models import load_model\n",
    "import numpy as np\n",
    "import pandas as pd"
   ]
  },
  {
   "cell_type": "code",
   "execution_count": 2,
   "metadata": {},
   "outputs": [],
   "source": [
    "modelvna = load_model('Trained Models/model-vna.h5')\n",
    "modelClamp = load_model('Trained Models/model-clamp-10000.h5')"
   ]
  },
  {
   "cell_type": "code",
   "execution_count": 3,
   "metadata": {},
   "outputs": [],
   "source": [
    "data=pd.DataFrame()\n",
    "data=pd.read_pickle('data-vna.pkl')\n",
    "datac=pd.read_pickle('data-clamp.pkl')"
   ]
  },
  {
   "cell_type": "code",
   "execution_count": 4,
   "metadata": {},
   "outputs": [],
   "source": [
    "data['diet']=data.label.map(lambda x: x[5])"
   ]
  },
  {
   "cell_type": "code",
   "execution_count": 5,
   "metadata": {},
   "outputs": [
    {
     "data": {
      "text/html": [
       "<div>\n",
       "<style>\n",
       "    .dataframe thead tr:only-child th {\n",
       "        text-align: right;\n",
       "    }\n",
       "\n",
       "    .dataframe thead th {\n",
       "        text-align: left;\n",
       "    }\n",
       "\n",
       "    .dataframe tbody tr th {\n",
       "        vertical-align: top;\n",
       "    }\n",
       "</style>\n",
       "<table border=\"1\" class=\"dataframe\">\n",
       "  <thead>\n",
       "    <tr style=\"text-align: right;\">\n",
       "      <th></th>\n",
       "      <th>text</th>\n",
       "      <th>label</th>\n",
       "      <th>split</th>\n",
       "      <th>ind</th>\n",
       "      <th>diet</th>\n",
       "    </tr>\n",
       "  </thead>\n",
       "  <tbody>\n",
       "    <tr>\n",
       "      <th>0</th>\n",
       "      <td>associate  circle     .D.   Jr. 845-41-54-4 ...</td>\n",
       "      <td>[0, 1, 0, 1, 0, 1, 0, 1, 0, 0, 1, 1, 1]</td>\n",
       "      <td>[associate, circle, year, old, pound, gentlema...</td>\n",
       "      <td>[552, 1419, 9356, 5815, 6504, 3301, 7026, 1691...</td>\n",
       "      <td>1</td>\n",
       "    </tr>\n",
       "    <tr>\n",
       "      <th>1</th>\n",
       "      <td>MERCY care CENTER    associate    AR 72985   M...</td>\n",
       "      <td>[0, 1, 0, 1, 0, 0, 0, 1, 0, 0, 0, 1, 0]</td>\n",
       "      <td>[mercy, care, center, associate, come, further...</td>\n",
       "      <td>[5059, 1169, 1289, 552, 1575, 3213, 2786, 4334...</td>\n",
       "      <td>0</td>\n",
       "    </tr>\n",
       "    <tr>\n",
       "      <th>2</th>\n",
       "      <td>Personal  Overall   be 81 yr\\nold male present...</td>\n",
       "      <td>[1, 1, 0, 1, 0, 0, 0, 1, 0, 0, 1, 1, 0]</td>\n",
       "      <td>[personal, overall, old, male, present, multip...</td>\n",
       "      <td>[6245, 5963, 5815, 4901, 6576, 5334, 8531, 286...</td>\n",
       "      <td>0</td>\n",
       "    </tr>\n",
       "    <tr>\n",
       "      <th>3</th>\n",
       "      <td>HUNTINGTON EMERGENCY DEPT visit THOMAS-YOSEF,J...</td>\n",
       "      <td>[0, 1, 0, 1, 0, 0, 0, 1, 0, 0, 0, 1, 0]</td>\n",
       "      <td>[huntington, emergency, dept, visit, julium, v...</td>\n",
       "      <td>[3831, 2586, 2073, 9082, 4419, 9082, 1953, 612...</td>\n",
       "      <td>0</td>\n",
       "    </tr>\n",
       "    <tr>\n",
       "      <th>4</th>\n",
       "      <td>JENNIFER BOOKER LC Unit No NASHUA MEMORIAL HOS...</td>\n",
       "      <td>[0, 1, 0, 0, 0, 0, 0, 1, 1, 0, 1, 1, 1]</td>\n",
       "      <td>[jennifer, booker, unit, nashua, memorial, hos...</td>\n",
       "      <td>[4393, 942, 8808, 5427, 5040, 3779, 144, 1953,...</td>\n",
       "      <td>0</td>\n",
       "    </tr>\n",
       "  </tbody>\n",
       "</table>\n",
       "</div>"
      ],
      "text/plain": [
       "                                                text  \\\n",
       "0    associate  circle     .D.   Jr. 845-41-54-4 ...   \n",
       "1  MERCY care CENTER    associate    AR 72985   M...   \n",
       "2  Personal  Overall   be 81 yr\\nold male present...   \n",
       "3  HUNTINGTON EMERGENCY DEPT visit THOMAS-YOSEF,J...   \n",
       "4  JENNIFER BOOKER LC Unit No NASHUA MEMORIAL HOS...   \n",
       "\n",
       "                                     label  \\\n",
       "0  [0, 1, 0, 1, 0, 1, 0, 1, 0, 0, 1, 1, 1]   \n",
       "1  [0, 1, 0, 1, 0, 0, 0, 1, 0, 0, 0, 1, 0]   \n",
       "2  [1, 1, 0, 1, 0, 0, 0, 1, 0, 0, 1, 1, 0]   \n",
       "3  [0, 1, 0, 1, 0, 0, 0, 1, 0, 0, 0, 1, 0]   \n",
       "4  [0, 1, 0, 0, 0, 0, 0, 1, 1, 0, 1, 1, 1]   \n",
       "\n",
       "                                               split  \\\n",
       "0  [associate, circle, year, old, pound, gentlema...   \n",
       "1  [mercy, care, center, associate, come, further...   \n",
       "2  [personal, overall, old, male, present, multip...   \n",
       "3  [huntington, emergency, dept, visit, julium, v...   \n",
       "4  [jennifer, booker, unit, nashua, memorial, hos...   \n",
       "\n",
       "                                                 ind  diet  \n",
       "0  [552, 1419, 9356, 5815, 6504, 3301, 7026, 1691...     1  \n",
       "1  [5059, 1169, 1289, 552, 1575, 3213, 2786, 4334...     0  \n",
       "2  [6245, 5963, 5815, 4901, 6576, 5334, 8531, 286...     0  \n",
       "3  [3831, 2586, 2073, 9082, 4419, 9082, 1953, 612...     0  \n",
       "4  [4393, 942, 8808, 5427, 5040, 3779, 144, 1953,...     0  "
      ]
     },
     "execution_count": 5,
     "metadata": {},
     "output_type": "execute_result"
    }
   ],
   "source": [
    "data.head()"
   ]
  },
  {
   "cell_type": "code",
   "execution_count": 6,
   "metadata": {},
   "outputs": [
    {
     "data": {
      "text/html": [
       "<div>\n",
       "<style>\n",
       "    .dataframe thead tr:only-child th {\n",
       "        text-align: right;\n",
       "    }\n",
       "\n",
       "    .dataframe thead th {\n",
       "        text-align: left;\n",
       "    }\n",
       "\n",
       "    .dataframe tbody tr th {\n",
       "        vertical-align: top;\n",
       "    }\n",
       "</style>\n",
       "<table border=\"1\" class=\"dataframe\">\n",
       "  <thead>\n",
       "    <tr style=\"text-align: right;\">\n",
       "      <th></th>\n",
       "      <th>text</th>\n",
       "      <th>label</th>\n",
       "      <th>name</th>\n",
       "      <th>clean</th>\n",
       "      <th>diet</th>\n",
       "      <th>ind</th>\n",
       "    </tr>\n",
       "  </thead>\n",
       "  <tbody>\n",
       "    <tr>\n",
       "      <th>0</th>\n",
       "      <td>\\n\\nRecord date: 2106-02-12\\n\\nCampbell Orthop...</td>\n",
       "      <td>[0, 1, 0, 1, 0, 1, 0, 1, 0, 0, 1, 1, 1]</td>\n",
       "      <td>100</td>\n",
       "      <td>[problem, present, an, injury, to, his, left, ...</td>\n",
       "      <td>1</td>\n",
       "      <td>[6942, 6905, 1163, 4673, 8626, 4244, 5042, 122...</td>\n",
       "    </tr>\n",
       "    <tr>\n",
       "      <th>1</th>\n",
       "      <td>\\n\\nRecord date: 2079-05-12\\n\\n\\n\\n\\n\\nMERCY C...</td>\n",
       "      <td>[0, 1, 0, 1, 0, 0, 0, 1, 0, 0, 0, 1, 0]</td>\n",
       "      <td>101</td>\n",
       "      <td>[test, present, further, evaluation, problem, ...</td>\n",
       "      <td>0</td>\n",
       "      <td>[8463, 6905, 3806, 3405, 6942, 6905, 4114, 458...</td>\n",
       "    </tr>\n",
       "    <tr>\n",
       "      <th>2</th>\n",
       "      <td>\\n\\nRecord date: 2120-09-19\\n\\nPersonal Data a...</td>\n",
       "      <td>[1, 1, 0, 1, 0, 0, 0, 1, 0, 0, 1, 1, 0]</td>\n",
       "      <td>102</td>\n",
       "      <td>[treatment, present, multiple, tooth, extracti...</td>\n",
       "      <td>0</td>\n",
       "      <td>[8743, 6905, 5723, 8655, 3469, 6942, 6905, 865...</td>\n",
       "    </tr>\n",
       "    <tr>\n",
       "      <th>3</th>\n",
       "      <td>\\n\\nRecord date: 2067-11-24\\n\\n               ...</td>\n",
       "      <td>[0, 1, 0, 1, 0, 0, 0, 1, 0, 0, 0, 1, 0]</td>\n",
       "      <td>103</td>\n",
       "      <td>[problem, present, asthma, problem, present, n...</td>\n",
       "      <td>0</td>\n",
       "      <td>[6942, 6905, 1440, 6942, 6905, 6021, 2844, 694...</td>\n",
       "    </tr>\n",
       "    <tr>\n",
       "      <th>4</th>\n",
       "      <td>\\n\\nRecord date: 2094-02-16\\n\\nJENNIFER BOOKER...</td>\n",
       "      <td>[0, 1, 0, 0, 0, 0, 0, 1, 1, 0, 1, 1, 1]</td>\n",
       "      <td>104</td>\n",
       "      <td>[problem, present, urinary, urgency, problem, ...</td>\n",
       "      <td>0</td>\n",
       "      <td>[6942, 6905, 8968, 8964, 6942, 6905, 8243, 292...</td>\n",
       "    </tr>\n",
       "  </tbody>\n",
       "</table>\n",
       "</div>"
      ],
      "text/plain": [
       "                                                text  \\\n",
       "0  \\n\\nRecord date: 2106-02-12\\n\\nCampbell Orthop...   \n",
       "1  \\n\\nRecord date: 2079-05-12\\n\\n\\n\\n\\n\\nMERCY C...   \n",
       "2  \\n\\nRecord date: 2120-09-19\\n\\nPersonal Data a...   \n",
       "3  \\n\\nRecord date: 2067-11-24\\n\\n               ...   \n",
       "4  \\n\\nRecord date: 2094-02-16\\n\\nJENNIFER BOOKER...   \n",
       "\n",
       "                                     label  name  \\\n",
       "0  [0, 1, 0, 1, 0, 1, 0, 1, 0, 0, 1, 1, 1]   100   \n",
       "1  [0, 1, 0, 1, 0, 0, 0, 1, 0, 0, 0, 1, 0]   101   \n",
       "2  [1, 1, 0, 1, 0, 0, 0, 1, 0, 0, 1, 1, 0]   102   \n",
       "3  [0, 1, 0, 1, 0, 0, 0, 1, 0, 0, 0, 1, 0]   103   \n",
       "4  [0, 1, 0, 0, 0, 0, 0, 1, 1, 0, 1, 1, 1]   104   \n",
       "\n",
       "                                               clean  diet  \\\n",
       "0  [problem, present, an, injury, to, his, left, ...     1   \n",
       "1  [test, present, further, evaluation, problem, ...     0   \n",
       "2  [treatment, present, multiple, tooth, extracti...     0   \n",
       "3  [problem, present, asthma, problem, present, n...     0   \n",
       "4  [problem, present, urinary, urgency, problem, ...     0   \n",
       "\n",
       "                                                 ind  \n",
       "0  [6942, 6905, 1163, 4673, 8626, 4244, 5042, 122...  \n",
       "1  [8463, 6905, 3806, 3405, 6942, 6905, 4114, 458...  \n",
       "2  [8743, 6905, 5723, 8655, 3469, 6942, 6905, 865...  \n",
       "3  [6942, 6905, 1440, 6942, 6905, 6021, 2844, 694...  \n",
       "4  [6942, 6905, 8968, 8964, 6942, 6905, 8243, 292...  "
      ]
     },
     "execution_count": 6,
     "metadata": {},
     "output_type": "execute_result"
    }
   ],
   "source": [
    "datac.head()"
   ]
  },
  {
   "cell_type": "code",
   "execution_count": 7,
   "metadata": {},
   "outputs": [
    {
     "data": {
      "text/plain": [
       "((162, 5), (40, 5))"
      ]
     },
     "execution_count": 7,
     "metadata": {},
     "output_type": "execute_result"
    }
   ],
   "source": [
    "train=data.sample(frac=0.8,random_state=200)\n",
    "test=data.drop(train.index)\n",
    "\n",
    "train.shape, test.shape"
   ]
  },
  {
   "cell_type": "code",
   "execution_count": 8,
   "metadata": {},
   "outputs": [
    {
     "data": {
      "text/plain": [
       "((162, 6), (40, 6))"
      ]
     },
     "execution_count": 8,
     "metadata": {},
     "output_type": "execute_result"
    }
   ],
   "source": [
    "trainc=datac.sample(frac=0.8,random_state=200)\n",
    "testc=datac.drop(trainc.index)\n",
    "\n",
    "trainc.shape, testc.shape"
   ]
  },
  {
   "cell_type": "code",
   "execution_count": 9,
   "metadata": {},
   "outputs": [
    {
     "data": {
      "text/plain": [
       "3293"
      ]
     },
     "execution_count": 9,
     "metadata": {},
     "output_type": "execute_result"
    }
   ],
   "source": [
    "from keras.preprocessing import sequence\n",
    "\n",
    "data['lens'] = data.ind.map(lambda x: len(x))\n",
    "maxlen = max(data.lens)\n",
    "data = data[data.lens != 0]\n",
    "maxlen"
   ]
  },
  {
   "cell_type": "code",
   "execution_count": 10,
   "metadata": {},
   "outputs": [],
   "source": [
    "X_test = sequence.pad_sequences(test.ind, maxlen=maxlen)\n",
    "X_test = np.array([x.ravel() for x in X_test])"
   ]
  },
  {
   "cell_type": "code",
   "execution_count": 11,
   "metadata": {},
   "outputs": [
    {
     "data": {
      "text/plain": [
       "array([0, 0, 0, 1, 0, 1, 0, 1, 1, 0, 0, 1, 1, 1, 1, 0, 1, 0, 1, 0, 0, 0, 0,\n",
       "       0, 0, 1, 1, 0, 1, 1, 1, 1, 1, 0, 1, 1, 1, 0, 1, 1], dtype=int64)"
      ]
     },
     "execution_count": 11,
     "metadata": {},
     "output_type": "execute_result"
    }
   ],
   "source": [
    "Y_test = np.array([x for x in test.diet])\n",
    "Y_test"
   ]
  },
  {
   "cell_type": "code",
   "execution_count": 12,
   "metadata": {},
   "outputs": [
    {
     "name": "stdout",
     "output_type": "stream",
     "text": [
      "Test score: 0.479739284515\n",
      "Test accuracy: 0.875\n"
     ]
    }
   ],
   "source": [
    "score = modelvna.evaluate(X_test, Y_test, verbose=0)\n",
    "print('Test score:', score[0])\n",
    "print('Test accuracy:', score[1])"
   ]
  },
  {
   "cell_type": "code",
   "execution_count": 13,
   "metadata": {},
   "outputs": [
    {
     "data": {
      "text/plain": [
       "121675"
      ]
     },
     "execution_count": 13,
     "metadata": {},
     "output_type": "execute_result"
    }
   ],
   "source": [
    "from keras.preprocessing import sequence\n",
    "\n",
    "datac['lens'] = datac.ind.map(lambda x: len(x))\n",
    "maxlenc = max(datac.lens)\n",
    "datac = datac[datac.lens != 0]\n",
    "maxlenc"
   ]
  },
  {
   "cell_type": "code",
   "execution_count": 14,
   "metadata": {},
   "outputs": [
    {
     "data": {
      "text/plain": [
       "9820"
      ]
     },
     "execution_count": 14,
     "metadata": {},
     "output_type": "execute_result"
    }
   ],
   "source": [
    "datac = datac[datac.lens < 10000]\n",
    "maxlenc = max(datac.lens)\n",
    "maxlenc"
   ]
  },
  {
   "cell_type": "code",
   "execution_count": null,
   "metadata": {},
   "outputs": [
    {
     "data": {
      "text/plain": [
       "array([0, 0, 0, 1, 0, 1, 0, 1, 1, 0, 0, 1, 1, 1, 1, 0, 1, 0, 1, 0, 0, 0, 0,\n",
       "       0, 0, 1, 1, 0, 1, 1, 1, 1, 1, 0, 1, 1, 1, 0, 1, 1], dtype=int64)"
      ]
     },
     "execution_count": 15,
     "metadata": {},
     "output_type": "execute_result"
    }
   ],
   "source": [
    "X_testc = sequence.pad_sequences(testc.ind, maxlen=maxlenc)\n",
    "X_testc = np.array([x.ravel() for x in X_testc])\n",
    "Y_testc = np.array([x for x in testc.diet])\n",
    "Y_testc"
   ]
  },
  {
   "cell_type": "code",
   "execution_count": null,
   "metadata": {},
   "outputs": [],
   "source": [
    "score = modelClamp.evaluate(X_testc, Y_testc, verbose=0)\n",
    "print('Test score:', score[0])\n",
    "print('Test accuracy:', score[1])"
   ]
  }
 ],
 "metadata": {
  "kernelspec": {
   "display_name": "Python [default]",
   "language": "python",
   "name": "python3"
  },
  "language_info": {
   "codemirror_mode": {
    "name": "ipython",
    "version": 3
   },
   "file_extension": ".py",
   "mimetype": "text/x-python",
   "name": "python",
   "nbconvert_exporter": "python",
   "pygments_lexer": "ipython3",
   "version": "3.6.3"
  }
 },
 "nbformat": 4,
 "nbformat_minor": 2
}
