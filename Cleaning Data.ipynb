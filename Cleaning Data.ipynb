{
 "cells": [
  {
   "cell_type": "markdown",
   "metadata": {},
   "source": [
    "# Installing needed libraries"
   ]
  },
  {
   "cell_type": "code",
   "execution_count": 8,
   "metadata": {
    "colab": {
     "autoexec": {
      "startup": false,
      "wait_interval": 0
     },
     "base_uri": "https://localhost:8080/",
     "height": 35,
     "output_extras": [
      {
       "item_id": 1
      }
     ]
    },
    "colab_type": "code",
    "executionInfo": {
     "elapsed": 1406,
     "status": "ok",
     "timestamp": 1521491090875,
     "user": {
      "displayName": "Rezvan Josh",
      "photoUrl": "https://lh3.googleusercontent.com/a/default-user=s128",
      "userId": "115628599899859852021"
     },
     "user_tz": 360
    },
    "id": "fSyOG7qxZQB9",
    "outputId": "6eeeea16-308b-4b89-9b5a-6a17792832a3"
   },
   "outputs": [
    {
     "name": "stdout",
     "output_type": "stream",
     "text": [
      "Requirement already satisfied: nlpre in c:\\users\\rezvanjoshaghani\\anaconda\\lib\\site-packages\n"
     ]
    }
   ],
   "source": [
    "!pip install nlpre"
   ]
  },
  {
   "cell_type": "code",
   "execution_count": null,
   "metadata": {
    "colab": {
     "autoexec": {
      "startup": false,
      "wait_interval": 0
     },
     "base_uri": "https://localhost:8080/",
     "height": 35,
     "output_extras": [
      {
       "item_id": 1
      }
     ]
    },
    "colab_type": "code",
    "executionInfo": {
     "elapsed": 1357,
     "status": "ok",
     "timestamp": 1521491092377,
     "user": {
      "displayName": "Rezvan Josh",
      "photoUrl": "https://lh3.googleusercontent.com/a/default-user=s128",
      "userId": "115628599899859852021"
     },
     "user_tz": 360
    },
    "id": "z_-ODq7KZjM2",
    "outputId": "ab3e2d82-322b-40fc-a129-5c446e77fde8"
   },
   "outputs": [],
   "source": [
    "!pip install flashtext"
   ]
  },
  {
   "cell_type": "code",
   "execution_count": null,
   "metadata": {
    "colab": {
     "autoexec": {
      "startup": false,
      "wait_interval": 0
     },
     "base_uri": "https://localhost:8080/",
     "height": 35,
     "output_extras": [
      {
       "item_id": 1
      }
     ]
    },
    "colab_type": "code",
    "executionInfo": {
     "elapsed": 1302,
     "status": "ok",
     "timestamp": 1521491093777,
     "user": {
      "displayName": "Rezvan Josh",
      "photoUrl": "https://lh3.googleusercontent.com/a/default-user=s128",
      "userId": "115628599899859852021"
     },
     "user_tz": 360
    },
    "id": "GfJRijg8Zpnt",
    "outputId": "416ccffb-58fc-4cef-bb70-1e0a24a928d8"
   },
   "outputs": [],
   "source": [
    "!pip install unidecode"
   ]
  },
  {
   "cell_type": "code",
   "execution_count": null,
   "metadata": {
    "colab": {
     "autoexec": {
      "startup": false,
      "wait_interval": 0
     },
     "base_uri": "https://localhost:8080/",
     "height": 35,
     "output_extras": [
      {
       "item_id": 1
      }
     ]
    },
    "colab_type": "code",
    "executionInfo": {
     "elapsed": 1303,
     "status": "ok",
     "timestamp": 1521491095154,
     "user": {
      "displayName": "Rezvan Josh",
      "photoUrl": "https://lh3.googleusercontent.com/a/default-user=s128",
      "userId": "115628599899859852021"
     },
     "user_tz": 360
    },
    "id": "vOawT2s1Zpv1",
    "outputId": "82557da1-b3a3-4815-c9ac-e456f2d44cf9"
   },
   "outputs": [],
   "source": [
    "!pip install pyparsing"
   ]
  },
  {
   "cell_type": "code",
   "execution_count": null,
   "metadata": {
    "colab": {
     "autoexec": {
      "startup": false,
      "wait_interval": 0
     },
     "base_uri": "https://localhost:8080/",
     "height": 35,
     "output_extras": [
      {
       "item_id": 1
      }
     ]
    },
    "colab_type": "code",
    "executionInfo": {
     "elapsed": 1367,
     "status": "ok",
     "timestamp": 1521491096573,
     "user": {
      "displayName": "Rezvan Josh",
      "photoUrl": "https://lh3.googleusercontent.com/a/default-user=s128",
      "userId": "115628599899859852021"
     },
     "user_tz": 360
    },
    "id": "7XlGU05kZp7N",
    "outputId": "6a896c7a-1d3b-4f0b-99aa-855ea5f24eaf"
   },
   "outputs": [],
   "source": [
    "!pip install pattern"
   ]
  },
  {
   "cell_type": "code",
   "execution_count": null,
   "metadata": {
    "colab": {
     "autoexec": {
      "startup": false,
      "wait_interval": 0
     },
     "base_uri": "https://localhost:8080/",
     "height": 108,
     "output_extras": [
      {
       "item_id": 1
      }
     ]
    },
    "colab_type": "code",
    "executionInfo": {
     "elapsed": 1444,
     "status": "ok",
     "timestamp": 1521491098040,
     "user": {
      "displayName": "Rezvan Josh",
      "photoUrl": "https://lh3.googleusercontent.com/a/default-user=s128",
      "userId": "115628599899859852021"
     },
     "user_tz": 360
    },
    "id": "Glt3QN326ym2",
    "outputId": "c46d68ad-5569-462a-9ede-2ec6bba5c2e5"
   },
   "outputs": [],
   "source": [
    "!pip install scrubadub"
   ]
  },
  {
   "cell_type": "markdown",
   "metadata": {},
   "source": [
    "# Reading  all files from the frolder"
   ]
  },
  {
   "cell_type": "code",
   "execution_count": 18,
   "metadata": {
    "colab": {
     "autoexec": {
      "startup": false,
      "wait_interval": 0
     }
    },
    "colab_type": "code",
    "id": "RAB_iSbHaKET"
   },
   "outputs": [],
   "source": [
    "from os.path import join\n",
    "import numpy as np\n",
    "import pandas as pd\n",
    "from os import listdir\n",
    "from os.path import isfile"
   ]
  },
  {
   "cell_type": "code",
   "execution_count": 19,
   "metadata": {
    "colab": {
     "autoexec": {
      "startup": false,
      "wait_interval": 0
     },
     "base_uri": "https://localhost:8080/",
     "height": 162,
     "output_extras": [
      {
       "item_id": 1
      }
     ]
    },
    "colab_type": "code",
    "executionInfo": {
     "elapsed": 1692,
     "status": "ok",
     "timestamp": 1521501529800,
     "user": {
      "displayName": "Rezvan Josh",
      "photoUrl": "https://lh3.googleusercontent.com/a/default-user=s128",
      "userId": "115628599899859852021"
     },
     "user_tz": 360
    },
    "id": "Ahlp7aZBaD3S",
    "outputId": "2d058cb6-62d9-46b6-f09f-45aecddb8533"
   },
   "outputs": [
    {
     "data": {
      "text/plain": [
       "202"
      ]
     },
     "execution_count": 19,
     "metadata": {},
     "output_type": "execute_result"
    }
   ],
   "source": [
    "path='train/'\n",
    "\n",
    "files = [f for f in listdir(path) if isfile(join(path, f))]\n",
    "\n",
    "len(files)"
   ]
  },
  {
   "cell_type": "code",
   "execution_count": 20,
   "metadata": {},
   "outputs": [
    {
     "name": "stdout",
     "output_type": "stream",
     "text": [
      "<?xml version=\"1.0\" encoding=\"UTF-8\" ?>\n",
      "<PatientMatching>\n",
      "<TEXT><![CDATA[\n",
      "\n",
      "Record date: 2106-02-12\n",
      "\n",
      "Campbell Orthopedic Associates\n",
      "4 Madera Circle\n",
      "Omak, GA 28172\n",
      "\n",
      "Habib Valenzuela, M.D.\n",
      "\n",
      "\n",
      "Valdez, Harlan Jr.\n",
      "845-41-54-4\n",
      "February 12, 2106\n",
      "Har is a 43 year old 6' 214 pound gentleman who is referred for\n",
      "consultation by Dr. Harlan Oneil.  About a week ago he slipped on\n",
      "the driveway at home and sustained an injury to his left ankle.\n",
      "He was seen at Tri-City Hospital and was told he had a\n",
      "fracture.  He was placed in an air splint and advised to be\n",
      "partial weight bearing, and he is using a cane.  He is here for\n",
      "routine follow-up.\n",
      "Past medical history is notable for no ankle injuries previously.\n",
      "He has a history of diabetes and sleep apnea.  He takes Prozac,\n",
      "Cardizem, Glucophage and Amaryl.  He is also followed by Dr. Harold\n",
      "Nutter for an arrhythmia.  He does not smoke.  He drinks\n",
      "minimally.  He is a set designer at Columbia Pictures.\n",
      "\n",
      "On examination today he has slight tenderness of the left ankle\n",
      "about four fingerbreadths above the malleolus.  The malleolus is\n",
      "non-tender medially or laterally with no ligamentous tenderness\n",
      "either.  Dorsal flexion and plantar flexion is without pain.\n",
      "There is no significant swelling.  There are no some skin changes\n",
      "with some small abrasions proximally.  There is no fibular\n",
      "tenderness proximally.  No anterior pain is noted.  No hindfoot,\n",
      "midfoot or forefoot tenderness is noted.\n",
      "I would like him to use a tube sock with his air cast.  He is\n",
      "using a cane for ambulation.  His x-rays do not show a notable\n",
      "fracture pattern today, and we will await the Radiology opinion.\n",
      "I would like him to stay in the air splint with the sock.  I will\n",
      "see him back in six weeks for review at the Boxborough office.\n",
      "\n",
      "\n",
      "Diagnosis:  Left ankle fracture.\n",
      "\n",
      "\n",
      "\n",
      "\n",
      "\n",
      "__________________________________________\n",
      "Habib Valenzuela, M.D.\n",
      "\n",
      "HV/kuntz\n",
      "Mmedical\n",
      "\n",
      "cc:  Harlan Oneil, M.D.\n",
      "\n",
      "Harold Nutter, M.D.\n",
      "Doctors Hospital North\n",
      "64 Bruce St\n",
      "Omak, GA 72196\n",
      "\n",
      "Habib Valenzuela, M.D.\n",
      "\n",
      "DD: 02/12/06\n",
      "DT: 02/17/06\n",
      "DV: 02/12/06\n",
      "******** Not reviewed by Attending Physician ********\n",
      "\n",
      "\n",
      "\n",
      "\n",
      "****************************************************************************************************\n",
      "Record date: 2108-03-14\n",
      "\n",
      "CAMPBELL EMERGENCY DEPT VISIT\n",
      "\n",
      "\n",
      "\n",
      "VALDEZ,HARLAN,JR.   845-41-54-4                VISIT DATE: 03/14/08\n",
      "\n",
      "The patient was seen and examined in the emergency department.  The\n",
      "\n",
      "patient was seen by the Emergency Medicine resident.  I have\n",
      "\n",
      "discussed the management with the resident.  I have also seen the\n",
      "\n",
      "patient primarily and reviewed the medical record.  This is a brief\n",
      "\n",
      "addendum to the medical record.\n",
      "\n",
      "HISTORY OF PRESENTING COMPLAINT:  Briefly, this is a 45-year-old\n",
      "\n",
      "male who complains of several days of nausea, vomiting, and left\n",
      "\n",
      "lower quadrant discomfort.  He also describes intermittent chest\n",
      "\n",
      "pain, which he has had for a number of months without significant\n",
      "\n",
      "change.  He was sent in from his primary care doctor today with\n",
      "\n",
      "this pain and was also noted to have some EKG changes.  The patient\n",
      "\n",
      "has no chest pain at the time of evaluation in the emergency\n",
      "\n",
      "department and no shortness of breath.\n",
      "\n",
      "REVIEW OF SYSTEMS:  As indicated and otherwise negative.\n",
      "\n",
      "PAST MEDICAL HISTORY:  As indicated in the chart.\n",
      "\n",
      "SOCIAL HISTORY AND FAMILY HISTORY:  As indicated in the chart.\n",
      "\n",
      "PHYSICAL EXAMINATION:  On physical examination, the patient is very\n",
      "\n",
      "well-appearing, a smiling, very pleasant gentleman in no acute\n",
      "\n",
      "distress.  The blood pressure is 119/90, the pulse 82, and the\n",
      "\n",
      "temperature 97.9 degrees.  Normocephalic and atraumatic.  The chest\n",
      "\n",
      "is clear to auscultation.  The heart has a regular rate and rhythm.\n",
      "\n",
      "The abdomen is soft.  He has left lower quadrant tenderness.  He\n",
      "\n",
      "also, of note on cardiovascular examination, has a soft murmur\n",
      "\n",
      "which he says he has had since childhood.  The extremities are\n",
      "\n",
      "normal.  The neurologic examination is non-focal.\n",
      "\n",
      "THERAPY RENDERED/COURSE IN ED:  This is a gentleman with abdominal\n",
      "\n",
      "pain who will receive a CAT scan to rule out diverticulitis.  He\n",
      "\n",
      "has also had some non-specific ST changes on his EKG.  He is\n",
      "\n",
      "pain-free at this time.  He does not describe a classic exertional\n",
      "\n",
      "pattern for his chest pain, but given that he is a diabetic and\n",
      "\n",
      "with EKG changes, he will also be admitted for rule out MI.  A CT\n",
      "\n",
      "is pending at the time of this dictation.\n",
      "\n",
      "DISPOSITION (including condition upon discharge):  As above.  The\n",
      "\n",
      "patient's condition is currently stable.\n",
      "\n",
      "___________________________________                    CK498/89095\n",
      "\n",
      "JAY CARROLL, M.D.  JC72                                 D:03/14/08\n",
      "\n",
      "T:03/14/08\n",
      "\n",
      "Dictated by:  JAY CARROLL, M.D.  JC72\n",
      "\n",
      "******** Not reviewed by Attending Physician ********\n",
      "\n",
      "\n",
      "\n",
      "\n",
      "\n",
      "****************************************************************************************************\n",
      "Record date: 2109-09-14\n",
      "\n",
      "\n",
      "September 14, 2109\n",
      "\n",
      "Vicente Blair, M.D.\n",
      "Internal Medical\n",
      "Doctors Hospital North\n",
      "Omak, Georgia 72196\n",
      "\n",
      "RE: VALDEZ, Harlan\n",
      "DHN#: 7672624\n",
      "DATE OF BIRTH: 11/09/2062\n",
      "CURRENT CLINIC VISIT DATE: 09/14/2109\n",
      "\n",
      "Dear Vicente,\n",
      "\n",
      "Thank you in advance for allowing me to share in the medical care of Mr. Harlan B. Valdez, a 46-year-old male patient with prior polysomnographic evidence of sleep disordered breathing, as well as a history of difficulty in sleep, reinitiation and maintenance and increased early morning awakenings, as well as mixed systemic medical conditions.\n",
      "\n",
      "HISTORY OF PRESENT ILLNESS: As you already know, Mr. Valdez who demonstrates a history of difficulties of sleep reinitiation and maintenance, as well as increased early morning awakenings, has noted an exacerbation of these sleep difficulties, occurring in temporal association with his loss of his wife from pancreatic cancer last year. He is now placed in the unfortunate situation of being a single parent to a 15-year-old son and a 10-year-old daughter and describes a modification of his current employment duties of a set designer. In particular, Mr. Valdez describes undergoing on frequent international travelling which has bee markedly curtailed as he is tending to his family situation closer to home.\n",
      "\n",
      "He described a history of intermittent snoring symptomatology but is unaware of specific nocturnal respiratory pauses. He is unaware of a \"restless\" lower limb sensory complaints which may impact on his ability to initiate or reinitiate sleep. He denies a history of a \" night owl\" personality or circadian rhythm dysfunction which may have played a role with respect to nocturnal sleep disruptions or sleep difficulties.\n",
      "He denies a history of paroxysmal abnormal disturbances or associated narcoleptic symptoms.\n",
      "\n",
      "Mr. Valdez underwent an initial formal polysomnographic evaluation at the center for sleep diagnostics at Holy Cross on 11/26/05, during which time he was noted to demonstrate a respiratory disturbance index of 81/hour, particularly exacerbated in the supine position and characterized predominantly by hypopneas, with equal distribution during non-REM and stage REM sleep and with associated O2 desaturation Nadir of 88% The respiratory disturbances were predominantly obstructive or mixed hypopneas. In addition, loud snoring was noted.\n",
      "\n",
      "There was evidence of a sleep efficiency of 88% and a short sleep onset latency of 4 minutes. There was a predominance of \"light\" non-REM stages I-II sleep, and a concomitant inability to achieve significant \"slow-wave\" or stage REM sleep. There was also \"alpha intrusions and alpha delta sleep\" evident during the initial sleep study. In addition premature ventricular contractions were noted.\n",
      "\n",
      "The patient underwent a CPAP titration on 01/15/06, also at the Tenacre Foundation Nursing Home in Boxborough, during which time there was a marked reduction in the frequency of hypopneas (respiratory disturbance index equals 2/hour) with CPAP titrations between 4-6 cm. Sleep efficiency improved to 91%, a short sleep onset latency was also noted (3 minutes). There was once again an increased predominance of \"light\" non-REM stage I-II sleep, with concomitant inability to achieve sustained \"slow wave sleep\".\n",
      "\n",
      "Since his initial trial of nocturnal CPAP titration (at 6 cm of water pressure) and with various CPAP mask modifications (including CPAP nasal face mask and a Mallinckrodt \"Breeze\" supportive head gear with \"nasal pillows\". The patient describes associated claustrophobic symptomatology, relative difficulties with sustained nocturnal home CPAP use, and difficulties with regards to CPAP to being and complications by the bulkiness of the CPAP machine in general. As a result, he has not utilized nocturnal CPAP therapy for a period of time, although he still maintains the CPAP equipment in his house.\n",
      "\n",
      "Of particular note, and exacerbation of the past year, the patient demonstrates increased early morning awakenings (averaging 2-4 in number) with typical awakenings occurring approximately two hours after sleep initiation at 9:30 p.m. (the patient describes one awakening at 11:30 p.m. and the second awakening at 11:45 a.m., of unclear causative etiology). The patient then might awaken at 3 a.m. and be \"ready for the day\".  If he is able to reinitiate sleep thereafter, the patient may demonstrate additional two early morning awakenings after a final awakening at 6 a.m.\n",
      "\n",
      "The patient is noted to have a history of mixed systemic conditions including diabetes, coronary artery disease, depressive disorder, as well as a relatively stable gastrointestinal condition, with no upper GI evidence of gastroparesis.\n",
      "\n",
      "MEDICATIONS:\n",
      "1. Provigil 200 mg p.o. q. a.m. PRN.\n",
      "2. Lithium.\n",
      "3. Valproate.\n",
      "4. Glucophage 850 mg t.i.d.\n",
      "5. Humulin 15 units at night.\n",
      "6. Folate.\n",
      "7. Metoprolol.\n",
      "8. Cardia.\n",
      "9. Vitamin E.\n",
      "10. Coated aspirin.\n",
      "\n",
      "ALLERGIES/ADVERSE REACTIONS: The patient describes an enhancement to suicidal tendencies in association with prior Prozac usage.\n",
      "SOCIAL HISTORY: The patient denies active tobacco or alcoholic beverage usage. He has lost 15-20 pounds over the past several years. His current weight is 195 pounds. He is desirous of losing some additional weight with regards to more regular exercise, but his hectic social situation makes this somewhat difficult at the present time.\n",
      "\n",
      "On examination, the patient demonstrates a blood pressure of 146/88, (seated, left arm), respiratory rate 16.\n",
      "\n",
      "HEENT EXAMINATION: Borderline small posterior oropharyngeal aperture, with slightly increased redundant tissue evident posteriorly and a slightly elongated uvula noted.\n",
      "\n",
      "The patient appears awake, alert, with speech clear and fluent and receptive language function essentially intact. He is presently wearing dental braces. No obvious cranial nerve deficits are appreciated. No focal, sensory, motor or neurologic deficits are noted. No significant appendicular dystaxias or dysmetrias are currently in evidence. The routine gait appears to be normal based, without evidence of significant gait dystaxias.  No current clinical ictal manifestations are present. No acute evidence of \"micro-sleeps\" are noted.\n",
      "\n",
      "IMPRESSION:\n",
      "1. Sleep stage/arrousal dysfunction (780.56): Manifested by subjective complaints of nonrestorative sleep, increased daytime fatigue and alternating hypersomnia, and recurrent polysomnographic evidence of \"lightened\" sleep pattern, with increased predominance of non-REM stages 1-2 sleep, and with the presence of \"alpha\" intrusions and \"alpha delta\" component to deeper sleep. These latter EEG findings have been described in association with subjective complaints of nonrestorative sleep, as well as clinical setting of chronic pain related complaints, depressive or anxiety disorder or intercurrent psychotropics agents used (but more usually associated with benzodiazepine or barbituate usage).\n",
      "2. Sleep disordered breathing: As evidenced during prior polysomnographic evaluations, mostly of obstructive and or mixed hypopnea. The patient appears largely refractory to a trial of CPAP therapy, particularly in so far as he demonstrates associated claustrophobic symptoms in association with it's usage, despite relatively modest CPAP water pressures (6 cm). In addition, he has tried various nasal CPAP face mask, including the Mallinckrodt \"Breeze\" supportive head gear with \"nasal pillows\" and with limited success. One might consider repeating a polysomnographic evaluation in the future, and if so, utilizing a potential trial of BIPAP titration, which may help to improve claustrophobic symptoms, but the patient will still be left with the issues referable to \"tangled tubing at night\" and issues referable to nasal face mask usage, as noted above.  3. Relative difficulties in sleep reinitiation and maintenance:  The patient describes at least 2-4 early morning awakenings with difficulty in sleep reinitiation and maintenance, thereby compounding his current sleep problem. While there would logically be a relationship between his current sleep exacerbations and the recent death of his wife from pancreatic cancer last year, there may also be evidence of other nocturnal sleep disturbances for which a repeat polysomnographic evaluation; i.e. in particular looking for the presence of increased spontaneous arousals or limb associated arousals or periodic limb movements of sleep may be of a special clinical benefit.\n",
      "\n",
      "PLAN:\n",
      "1. In the short course, in so far as the patient describes himself as being exceedingly tired, and unable to perform the routine daily tasks of work and managing a family in the absence of his deceased wife, I have suggested initiation of PRN Zolpidem tartrate therapy, 5 mg tablets, utilizing one to two tablets p.o.  q. h.s. PRN for difficulties of sleep reinitiation and maintenance.\n",
      "2. The patient is advised to take Zolpidem tartrate therapy no more than 2-3 times per week, in an effort to avoid any issues of physiologic dependency.\n",
      "3. The patient was advised against potential adverse behavioral and or systemic side effects of Zolpidem tartrate therapy including  hypersomnolence, gastric upset, loose stools, diarrhea, and or cardiac palpitations.\n",
      "Pending his clinical response of his Zolpidem tartrate therapy, I then might seek direct treatment for his sleep disordered breathing issues which may include a repeat sleep study with potential trial of BIPAP therapy (in an effort to modify or attenuate claustrophobic symptoms). If he proves poorly responsive to trial of BIPAP therapy however, I might consider supplemental O2 therapy at night and, with this in mind a follow up sleep study should have associated end-tidal CO2 monitoring as well.\n",
      "4. In the meantime, the patient was advised to contact the sleep disorders clinic for any acute sleep related concerns in the interim.\n",
      "5. The patient may also benefit from nonpharmacologic approaches with regards to sleep reinitiation such as hypnotherapy, but I will hold off on these strategies pending follow up sleep disorders clinic evaluation (in approximately four months time).\n",
      "Once again, thank you again for allowing me to share in the medical care of Mr. Harlan Valdez. I hope this letter finds you well.\n",
      "\n",
      "Sincerely yours,\n",
      "\n",
      "\n",
      "Yovani Vergara, M.D.\n",
      "Sleep Clinic\n",
      "Doctors Hospital North\n",
      "\n",
      "\n",
      "cc: Sleep Clinic DHN\n",
      "\n",
      "DD:09/14/2109\n",
      "DT:09/15/2109\n",
      "TX:24217     :1991\n",
      "\n",
      "\n",
      "\n",
      "\n",
      "\n",
      "****************************************************************************************************\n",
      "Record date: 2111-10-10\n",
      "\n",
      "\n",
      "\n",
      "\n",
      "\n",
      "CCU JAR Transfer Note\n",
      "\n",
      "Admission Date: 10/8/11\n",
      "\n",
      "Transfer: 10/10/11\n",
      "\n",
      "Patient Name: Valdez, Harlan\n",
      "\n",
      "MRN#: 7672624\n",
      "\n",
      "Cardiologist:  Dr. Nutter\n",
      "\n",
      "PCP:  Vicente Barker\n",
      "\n",
      "\n",
      "\n",
      "CC: Chest Pain    Cath    VF arrest    RCA stenting\n",
      "\n",
      "\n",
      "\n",
      "History of Present Illness (obtained on admission):  Pt is a 48 yo male with h/o DMII, hypercholesterolemia, Bipolar d/o, and depression who began to have sub-sternal day prior to admission in car and pre-syncope + profound weakness.  This CP was minimal, but the weakness made him pull over.  He had a repeat of these symptoms day of admission.  His EKG c/w 2/2107 showed flattened T-wave in V2 and TWI in V3 and flattened T-waves in I, aVL. His trop was negative, but MB index was elevated.  Due to T-wave flattening, history and elevated index it was decided to start on heparin and ASA and take to cath lab.\n",
      "\n",
      "\n",
      "\n",
      "Cath showed right dominant system with prox Cx 40%, LAD clear, RCA prox 70-80% lesion and ostial PDA 90%.  During final dye injection, pt had VF arrest and 2 shocks.  Pt regained puls and was in AF (new) with RVR. Pt was started on amio.  Pt then began to experience discomfort in the RVR and it was decided to intervene.  POBA was done to ostial PDA.  A first no-eluting stent was placed in prox RCA and pt had dissection and thus 2cd stent was placed.  On admission to CCU, pt still in AF with RVR (120's).  He was on amio drip, BB, loaded on plavix, ASA, lipitor, integrilin and was placed on Avandia study.  His complaint of some mild chest pain (not same as anginal pain day before) thought to be from defibrillation.\n",
      "\n",
      "\n",
      "\n",
      "Past Medical History: DMII, hyperchol, bipolar,HTN, depression (s/p ECT)\n",
      "\n",
      "\n",
      "\n",
      "Medications on admission: ASA, Lipitor 20, lopressor 50 bid, folate, norvasc 5 qd; lithium, 300 bid; depakote 500 bid; sonata 10 mg qhs, doxylamine 25 qhs, mirtazapine 45 qd\n",
      "\n",
      "\n",
      "\n",
      "Meds on Transfer: please see green sheets\n",
      "\n",
      "\n",
      "\n",
      "Medications: ASA, Lipitor 20, lopressor 50 bid, folate, norvasc 5 qd; lithium, 300 bid; depakote 500 bid; sonata 10 mg qhs, doxylamine 25 qhs, mirtazapine 45 qd\n",
      "\n",
      "\n",
      "\n",
      "Allergies:  NKDA\n",
      "\n",
      "\n",
      "\n",
      "Family History:  family h/o CAD\n",
      "\n",
      "\n",
      "\n",
      "Social History: No EtOH, no tob, no illicits\n",
      "\n",
      "\n",
      "\n",
      "Review of Systems:  per HPI\n",
      "\n",
      "\n",
      "\n",
      "Allergies:  NKDA\n",
      "\n",
      "\n",
      "\n",
      "Family History:  family h/o CAD\n",
      "\n",
      "\n",
      "\n",
      "Social History: No EtOH, no tob, no illicits\n",
      "\n",
      "\n",
      "\n",
      "Review of Systems:  per HPI\n",
      "\n",
      "\n",
      "\n",
      "CCU course + plan:\n",
      "\n",
      "1)\tCards\n",
      "\n",
      "a.\tRhythm - on night of admission patient was started on an esmolol drip as well as amio bloused and rhythm converted to NSR.  Esmolol drip as well as amio was stopped and BB was escalated and patient has remained in NSR.\n",
      "\n",
      "i.\tRamp up lopressor as tolerated by BP\n",
      "\n",
      "b.\tPump - patient has remained euvolemic and had a Echo with EF 84% and aortic stenosis\n",
      "\n",
      "c.\tIschemia - was stented x 2 to the prox RCA lesion and was on integrilin x 24hrs prior.  He was started on plavix.\n",
      "\n",
      "i.\tCont plavix, lopressor, lisinopril, lipitor, ASA\n",
      "\n",
      "\n",
      "\n",
      "2)\tPsych - patient with long history of bipolar disorder + depression.  He was on depakote, lithium and remeron as outpt.  He was seen by psychiatry here.\n",
      "\n",
      "a.\tContinue depakote and lithium (had subthereapeutic level that psych thought was likely  due to non-compliance.\n",
      "\n",
      "b.\tContinue remeron qhs\n",
      "\n",
      "c.\tF/u TSH\n",
      "\n",
      "\n",
      "\n",
      "3)\tDM - Blood sugars were originally elevated as amio drip he was originally on for AF contained dextrose. He has remained on NPH with RISS.\n",
      "\n",
      "a.\tNPH, RISS\n",
      "\n",
      "\n",
      "\n",
      "4)\tProphy - Fragmin nexium\n",
      "\n",
      "\n",
      "\n",
      "\n",
      "\n",
      "LABS + PE - see today's progress note\n",
      "\n",
      "\n",
      "\n",
      "\n",
      "\n",
      "EKG - AFIB with RVR, diffuse t-wave flattening\n",
      "\n",
      "\n",
      "\n",
      "Impression:  48 yo male with h/o DMII, hypercholesterolemia, Bipolar d/o, and depression and CAD p/w CP and pre-sycope found to have RCA prox 70-80% lesion and ostial PDA 90% (stents to RCA and POBA to PDA).  Cath c/b VF arrest after dye load and resultant afib with RVR.\n",
      "\n",
      "\n",
      "\n",
      "Plan:\n",
      "\n",
      "As outlined in CCU course.\n",
      "\n",
      "\n",
      "\n",
      "\n",
      "\n",
      "Victor Shepard MD\n",
      "\n",
      "39693\n",
      "\n",
      "\n",
      "\n",
      "\n",
      "\n",
      "****************************************************************************************************\n",
      "Record date: 2111-12-14\n",
      "\n",
      "\n",
      "\n",
      "\n",
      "\n",
      "NEUROLOGY CMF ADMISSION NOTE\n",
      "\n",
      "\n",
      "\n",
      "Name: \tVALDEZ, Harlan\n",
      "\n",
      "DOB:\t11-9-2062\n",
      "\n",
      "MR#: \t7672624\n",
      "\n",
      "Date:\t12/13/11, 9:30pm\n",
      "\n",
      "\n",
      "\n",
      "FOR DETAILS, PLEASE SEE AALIYAH IRAHETA'S NOTE\n",
      "\n",
      "\n",
      "\n",
      "ID/CC: 49yoRHM w/ PMH signif for CAD, Afib, DM, Bipolar, who presents w/ RLE weakness/decreased sensation x 24hrs\n",
      "\n",
      "\n",
      "\n",
      "HPI: 49yoRHM w/ PMH signif for CAD, Afib, DM, Bipolar, who was in USOH until 10d ago, when had weakness in his L arm.  Thought this was 2/2 sleeping on it.  Involved whole arm from shoulder down.  Was still doing his ADL's but felt like the arm was slightly weaker, took 4-5 days to get back to normal.\n",
      "\n",
      "\n",
      "\n",
      "Then, 12/12/11, was eating dinner w/ a friend, got up to go to BR, found he had RLE weakness/stiffness.  Noticed it was hard to climb stairs.  Went to sleep    woke up at 2am    nearly fell 2/2 weakness in his leg.  In addition, has sensory loss in RLE, esp foot - felt    cold and dead.     The sensory loss was worst distally, but extended up to his thigh.  Never had trouble speaking or understanding others, did not have a facial droop, no problems w/ his RUE.  Stayed in bed until am, when he called his PCP, who told him to come to ED.\n",
      "\n",
      "\n",
      "\n",
      "Of note, in Oct-Nov 2111, had cardiac cath x 2.  Had NSTEMI on Oct 8, 2111    taken to cardiac cath    cath showed significant RCA disease and 40% prox LCx    c/b Vfib needing defib    stent placed for stenotic RCA lesion, c/b dissection needing 2nd stent placed.  Post cath had Afib requiring amiodarone.  Then had subsequent cath Nov 1 after an episode of CP, stents patent, other vessels stable.  After his inpt cardiac hospitalization, was admitted to psych for 1 wk for suicidality/depression.\n",
      "\n",
      "\n",
      "\n",
      "Previously, in spring 2110, had L eye visual disturbance    nearly blind    went to GHIC where was dx'ed w/ retinal venous occlusion, treated w/ cortisone and laser surgery, w/ mild improvement in vision (now blurred in that eye).\n",
      "\n",
      "\n",
      "\n",
      "No HA, no tinnitus, no vertigo.  No blurry vision except in L eye from venous occlusion, no diplopia.  No problems w/ speech.\n",
      "\n",
      "\n",
      "\n",
      "PMH:\n",
      "\n",
      "DM - insulin x years\n",
      "\n",
      "CAD s/p NSTEMI as above\n",
      "\n",
      "Bipolar disorder - on lithium and depakote, has required inpt hospitalization and ECT in past\n",
      "\n",
      "Afib as above\n",
      "\n",
      "Hyperchol\n",
      "\n",
      "\n",
      "\n",
      "MEDS:\n",
      "\n",
      "Insulin 70/30  22 units bid\n",
      "\n",
      "Asa 81\n",
      "\n",
      "Plavix 75\n",
      "\n",
      "Lithium ? dose (600 bid on prior note)\n",
      "\n",
      "Norvasc ? dose (5 on prior note)\n",
      "\n",
      "Mirtazapine ? dose (45 on prior note)\n",
      "\n",
      "Naltrexone\n",
      "\n",
      "Nexium (20 on prior note)\n",
      "\n",
      "Lipitor (40 on prior note)\n",
      "\n",
      "Cozaar ? dose\n",
      "\n",
      "Depakote ? dose (500 bid on prior note)\n",
      "\n",
      "(Lopressor 75 po q8 per prior notes)\n",
      "\n",
      "Folate\n",
      "\n",
      "\n",
      "\n",
      "ALL: Lisinopril    cough\n",
      "\n",
      "\n",
      "\n",
      "SH:  \tTob:\toccas cigar\tEtOH: 0 (used to have EtOH problems)       IVDA:      0\n",
      "\n",
      "Lives w/ 17yo son.  Has 13yo daughter who lives w/ his sister.  Widower x 3yrs.\n",
      "\n",
      "\n",
      "\n",
      "FH:\tMom w/ PM at age 50, died of MI at 71.  Father w/ EtOH, HTN.  Sister w/ 4 miscarriages.\n",
      "\n",
      "\n",
      "\n",
      "VS:  \t129/80\t\t89\t20\t97% on RA\n",
      "\n",
      "General:\tWNWD, NAD\n",
      "\n",
      "HEENT:\tNC/AT.  No scleral icterus.  MMM.  OP benign.\n",
      "\n",
      "Neck:\tSupple, no carotid bruits.\n",
      "\n",
      "CV:\t\tRRR S1, S2.  II-III/VI sys murmur best at RUSB rad to clav and neck. ? second murmur at axilla systolic as well vs. Galiverdin's sign.\n",
      "\n",
      "Resp:\tCTAB.  No r/w/r\n",
      "\n",
      "Abd:\t\t+BS.    Soft/NT/ND.\n",
      "\n",
      "Ext:\t\tNo C/C/E, DP 2+ bilat.\n",
      "\n",
      "Skin:\t\tNo rashes, intact.\n",
      "\n",
      "\n",
      "\n",
      "Neuro:\n",
      "\n",
      "MS:\tConversationally intact.\n",
      "\n",
      "\n",
      "\n",
      "CN: \tII,III- Pupils 5mm, round , reactive to light to 3mm; visual field full to confrontation; optic discs sharp\n",
      "\n",
      "III,IV,VI-extraocular movements full, w/o nystagmus, L eyelid is slightly weaker longstanding since L eye problem\n",
      "\n",
      "V--sensation to LT and pin-prick intact bilaterally\n",
      "\n",
      "VII-facial expression muscles symmetric without weakness\n",
      "\n",
      "IX,X--palate elevates symmetrically\n",
      "\n",
      "XI--SCMs 5/5\n",
      "\n",
      "XII--tongue protrudes midline\n",
      "\n",
      "\n",
      "\n",
      "Motor:\tnormal bulk and tone; no tremor. No pronator drift.\n",
      "\n",
      "\n",
      "\n",
      "Delt\tElF\tElE\tWrE\tFE\tIO\tHpF\tKnE\tKnF\tDors\tPlan\tEHL\n",
      "\n",
      "L\t5\t5\t5\t5\t5\t5\t5\t5\t5\t5\t5\t5\n",
      "\n",
      "R\t5\t5\t5\t5\t5\t5\t5\t5\t5\t4+\t5\t5\n",
      "\n",
      "\n",
      "\n",
      "Sensory: \tendorses a difference in sensation to LT and temp RLE vs. LLE.  Zone of difference (feels colder) is most pronounced R lateral calf area, not a particular dermatomal distribution, also w/ toe position sense mildly decreased R great toe.  Mild vibratory loss to ankles bilat symmetrical.\n",
      "\n",
      "Reflex:\n",
      "\n",
      "Bic\tTric\tBra\tHoff\tPat\tAnk\tToes\n",
      "\n",
      "L\t2\t2\t2\tNeg\t2\t2\tDown\n",
      "\n",
      "R\t2+\t2\t2+\tNeg\t3\t2\tUp?\n",
      "\n",
      "\n",
      "\n",
      "Coord:\tno dysmetria on finger-nose-finger or heel-knee-shin\n",
      "\n",
      "Gait:\tfavors L leg slightly when walking\n",
      "\n",
      "\n",
      "\n",
      "Romberg:  normal\n",
      "\n",
      "\n",
      "\n",
      "LABS/STUDIES:\n",
      "\n",
      "Chemistry\n",
      "\n",
      "Lytes/Renal/Glucose\n",
      "\n",
      "Sodium                 136   135-145 mmol/L     12/13/11 18:35     133(L) 12/13/11 09:43\n",
      "\n",
      "Potassium              3.6   3.4-4.8 mmol/L     12/13/11 18:35     4.9(H) 10/31/11 12:55\n",
      "\n",
      "Chloride               109H  100-108 mmol/L     12/13/11 18:35     109(H) 12/13/11 18:35\n",
      "\n",
      "Carbon Dioxide        27.0   23.0-31.9 mmol/L   12/13/11 18:35    22.9(L) 12/10/11 20:33\n",
      "\n",
      "BUN                     11   8-25 mg/dl         12/13/11 18:35\n",
      "\n",
      "Creatinine             1.0   0.6-1.5 mg/dl      12/13/11 18:35\n",
      "\n",
      "Glucose                216H  70-110 mg/dl       12/13/11 18:35     216(H) 12/13/11 18:35\n",
      "\n",
      "General Chemistries\n",
      "\n",
      "Calcium                9.4   8.5-10.5 mg/dl     12/13/11 10:40     8.3(L) 10/10/11 06:15\n",
      "\n",
      "Phosphorus             3.2   2.6-4.5 mg/dl      12/13/11 10:40     2.4(L) 11/02/11 15:10\n",
      "\n",
      "Magnesium              1.6   1.4-2.0 meq/L      12/13/11 10:40\n",
      "\n",
      "Lipid Tests\n",
      "\n",
      "Cholesterol            173   mg/dl              12/10/11 20:33     228(H) 09/03/07 10:46\n",
      "\n",
      "Triglycerides          547H  40-150 mg/dl       12/10/11 20:33     547(H) 12/10/11 20:33\n",
      "\n",
      "HDL Cholesterol         25L  35-100 mg/dl       12/10/11 20:33      25(L) 12/10/11 20:33\n",
      "\n",
      "LDL Cholesterol         --   mg/dl              12/10/11 20:33\n",
      "\n",
      "Chol/HDL Ratio         6.9                      12/10/11 20:33\n",
      "\n",
      "Chemistry Miscellaneous\n",
      "\n",
      "Calc Mean Bld...       254   mg%                12/12/11 10:34\n",
      "\n",
      "Chemistry Com...  see detail                    05/09/08 21:58\n",
      "\n",
      "Hemoglobin A1C       10.20H  3.80-6.40 %        12/12/11 10:34   10.20(H) 12/12/11 10:34\n",
      "\n",
      "Hematology\n",
      "\n",
      "Complete Blood Count\n",
      "\n",
      "WBC                    6.1   4.5-11.0 th/cmm    12/13/11 09:51    11.1(H) 10/08/11 20:16\n",
      "\n",
      "RBC                   4.51   4.50-5.90 mil/cm   12/13/11 09:51    4.37(L) 11/03/11 11:15\n",
      "\n",
      "Hgb                   13.7   13.5-17.5 gm/dl    12/13/11 09:51    13.1(L) 11/01/11 04:52\n",
      "\n",
      "HCT                   39.4L  41.0-53.0 %        12/13/11 09:51    39.4(L) 12/13/11 09:51\n",
      "\n",
      "MCV                     87   80-100 fl          12/13/11 09:51\n",
      "\n",
      "MCH                   30.4   26.0-34.0 pg/rbc   12/13/11 09:51\n",
      "\n",
      "MCHC                  34.9   31.0-37.0 g/dl     12/13/11 09:51\n",
      "\n",
      "PLT                    210   150-350 th/cumm    12/13/11 09:51\n",
      "\n",
      "RDW                   13.5   11.5-14.5 %        12/13/11 09:51\n",
      "\n",
      "Other Hematology\n",
      "\n",
      "ESR                     14   0-17 mm/hr         12/13/11 19:51\n",
      "\n",
      "Urinalysis\tNegative\n",
      "\n",
      "Therapeutic Drugs\n",
      "\n",
      "Therapeutic Drug Monitoring\n",
      "\n",
      "Lithium              <0.10L  0.50-1.50 mmol/L   12/13/11 20:40   <0.10(L) 12/13/11 20:40\n",
      "\n",
      "\n",
      "\n",
      "MRI brain: Acute/subacute infarcts (DWI bright/ADC dark/FLAIR bright) in L cerebellum (punctate) and R precentral gyrus (small elliptical area).\n",
      "\n",
      "\n",
      "\n",
      "CT-A head/neck: has aberrant origin of R vert from CCA, both ACA's come off of L carotid, also w/ bilateral fetal PCA's and likely congenitally small vertebrobasilar vessels.  No significant focal stenoses or atheromatous calcifications.\n",
      "\n",
      "\n",
      "\n",
      "EKG: pending\n",
      "\n",
      "\n",
      "\n",
      "MRI L/S spine: negative\n",
      "\n",
      "\n",
      "\n",
      "IMPRESSION:\n",
      "\n",
      "49yoRHM w/ PMH signif for CAD, DM, Bipolar disorder, afib, s/p recent cardiac cath who presents w/ LUE weakness 10d prior to admission resolving after 4-5 days, and RLE weakness?/sensory deficit? Imaging reveals R precentral gyrus small infarct, L cerebellar infarct, no significant vessel stenoses.  Neuro exam w/ brisker reflexes on R, equivocal RLE weakness, R sensory sx, ? R upgoing toe.  Clinical picture and imaging are not consistent.  Unclear if pt is a poor historian and current sx are non-objective sensory findings and meaningful event was LUE weakness 4-5d ago.\n",
      "\n",
      "NEURO: stroke w/u including TTE/Holter, lipids/lipoprotein/homocysteine.\n",
      "\n",
      "--Will also send hypercoag w/u (including hypercoag panel, PT20210, Factor V Leiden, APLA, lupus anticoagulant) given hx of retinal venous thrombus and young age.\n",
      "\n",
      "--Will also send BCx2 given recent cardiac cath, although ESR wnl reassuring re ? of endocarditis.\n",
      "\n",
      "--Will check A1c re ? of adequate DM control.\n",
      "\n",
      "--Given psych hx, will check tox screen and LFT's.\n",
      "\n",
      "--Unclear if afib was only in context of post-cath, post Vfib.  Will look for LAE, holter abnl.  Could make a case to anti-coagulate regardless as has had documented afib.\n",
      "\n",
      "CV: hold anti-htn meds now.  Continue lipitor at outpt dose.  Allow SBP up to 180.\n",
      "\n",
      "PSYCH: continue w/ depakote and lithium.  Mood is ok now, but will need to be monitored.\n",
      "\n",
      "FEN: no IVF, ada 1800 low chol/low fat diet.\n",
      "\n",
      "ENDO: NPH 20 bid for now, titrate up as needed, RISS.  Checking A1c.\n",
      "\n",
      "PPX: put on sc fragmin, nexium.  Pneumoboots.\n",
      "\n",
      "\n",
      "\n",
      "Anna V. Wendy-Bird, MD\n",
      "\n",
      "HPC Neuro Resident #48600\n",
      "\n",
      "Case discussed w/ Vern Snow, senior resident.\n",
      "\n",
      "\n",
      "\n",
      "\n",
      "\n",
      "\n",
      "\n",
      "\n",
      "\n",
      "\n",
      "\n",
      "****************************************************************************************************\n",
      "]]></TEXT>\n",
      "<TAGS>\n",
      "<ABDOMINAL met=\"not met\" />\n",
      "<ADVANCED-CAD met=\"met\" />\n",
      "<ALCOHOL-ABUSE met=\"not met\" />\n",
      "<ASP-FOR-MI met=\"met\" />\n",
      "<CREATININE met=\"not met\" />\n",
      "<DIETSUPP-2MOS met=\"met\" />\n",
      "<DRUG-ABUSE met=\"not met\" />\n",
      "<ENGLISH met=\"met\" />\n",
      "<HBA1C met=\"not met\" />\n",
      "<KETO-1YR met=\"not met\" />\n",
      "<MAJOR-DIABETES met=\"met\" />\n",
      "<MAKES-DECISIONS met=\"met\" />\n",
      "<MI-6MOS met=\"met\" />\n",
      "</TAGS>\n",
      "</PatientMatching>\n"
     ]
    }
   ],
   "source": [
    "for line in open(join(path, files[0])).readlines(): print(line.strip())"
   ]
  },
  {
   "cell_type": "markdown",
   "metadata": {},
   "source": [
    "# Data Cleaner function\n",
    "\n",
    "This function pars the XML tree and get the text and labels and clean the text.\n",
    "\n",
    "To clean the text:\n",
    "* Remove the \\*\\*\\*\\*\\*\\*\\*\\*\\*\\*\\*\\*\\*\\*\\*\\*\\*\\*\\*\\* string that sprates the records (For Now!)\n",
    "* Remove the dates (For Now!)\n",
    "* Remove all the other words that are not verb,noun,adjective\n",
    "* Remove all the names\n",
    "* Replace acronyms \n"
   ]
  },
  {
   "cell_type": "code",
   "execution_count": 33,
   "metadata": {
    "colab": {
     "autoexec": {
      "startup": false,
      "wait_interval": 0
     }
    },
    "colab_type": "code",
    "id": "q-oy8SPUaV38"
   },
   "outputs": [],
   "source": [
    "import xml.etree.ElementTree as ET\n",
    "import re\n",
    "from nlpre import titlecaps, dedash, identify_parenthetical_phrases\n",
    "from nlpre import replace_acronyms, replace_from_dictionary, pos_tokenizer\n",
    "import scrubadub\n",
    "\n",
    "\n",
    "def xml2df(xml_data):\n",
    "\n",
    "    #xml_data=re.sub(u\"(\\u2018|\\u2019)\", \"'\", xml_data)\n",
    "    tree = ET.parse(xml_data) #Initiates the tree Ex: <user-agents>\n",
    "    \n",
    "    all_records = [] #This is our record list which we will convert into a dataframe\n",
    "    headers = [] #Subchildren tags will be parsed and appended here\n",
    "    record = []\n",
    "    attrib=[]\n",
    "    values=[]\n",
    "    label=[]\n",
    "    tex=\"\"\n",
    "    for elem in tree.iter(): #Begin looping through our root tree\n",
    "        if(elem.tag!='PatientMatching' and elem.tag!='TAGS'):\n",
    "            headers.append(elem.tag)\n",
    "            record.append(elem.text)\n",
    "            attrib.append(elem.attrib.get('met'))\n",
    "            \n",
    "    text = re.sub(\"\\n\\*+\\n\", \"\", record[0])\n",
    "    text = re.sub(\"Record date: \\d\\d\\d\\d-\\d\\d-\\d\\d\", \"\", text)\n",
    "\n",
    "    v = ['pronoun','quote', 'symbol', 'adverb', 'unknown', 'punctuation', 'connector', 'modal_verb', 'cardinal', 'w_word']\n",
    "    ABBR = identify_parenthetical_phrases()(text)\n",
    "    parsers = [dedash(), titlecaps(), replace_acronyms(ABBR),pos_tokenizer(v)]\n",
    "\n",
    "    for f in parsers:\n",
    "        text = f(text)\n",
    "    res=text.text\n",
    "    res=scrubadub.clean(res, replace_with='identifier')\n",
    "    \n",
    "    res = re.sub(\"{{NAME-\\d+}}\", \"\", res)\n",
    "    \n",
    "    all_records.append(res)\n",
    "    for a in attrib[1:]:\n",
    "        if(a == 'met'):\n",
    "            label.append(1)\n",
    "        else:\n",
    "             label.append(0)\n",
    "    all_records.append(label)\n",
    "    return pd.DataFrame([all_records], columns=['text','label']) "
   ]
  },
  {
   "cell_type": "markdown",
   "metadata": {},
   "source": [
    "## Read files and clean them"
   ]
  },
  {
   "cell_type": "code",
   "execution_count": 22,
   "metadata": {
    "colab": {
     "autoexec": {
      "startup": false,
      "wait_interval": 0
     },
     "base_uri": "https://localhost:8080/",
     "height": 3764,
     "output_extras": [
      {
       "item_id": 167
      },
      {
       "item_id": 202
      },
      {
       "item_id": 203
      }
     ]
    },
    "colab_type": "code",
    "executionInfo": {
     "elapsed": 356541,
     "status": "ok",
     "timestamp": 1521501886865,
     "user": {
      "displayName": "Rezvan Josh",
      "photoUrl": "https://lh3.googleusercontent.com/a/default-user=s128",
      "userId": "115628599899859852021"
     },
     "user_tz": 360
    },
    "id": "MMe4a-mZab3s",
    "outputId": "bdba7a8d-29d1-4046-b8f8-ec4e71a265dc",
    "scrolled": true
   },
   "outputs": [
    {
     "name": "stdout",
     "output_type": "stream",
     "text": [
      "202/202\r"
     ]
    },
    {
     "name": "stderr",
     "output_type": "stream",
     "text": [
      "C:\\Users\\rezvanjoshaghani\\Anaconda\\envs\\py27\\lib\\site-packages\\ipykernel_launcher.py:12: FutureWarning: convert_objects is deprecated.  To re-infer data dtypes for object columns, use DataFrame.infer_objects()\n",
      "For all other conversions use the data-type specific converters pd.to_datetime, pd.to_timedelta and pd.to_numeric.\n",
      "  if sys.path[0] == '':\n"
     ]
    }
   ],
   "source": [
    "from __future__ import print_function\n",
    "\n",
    "data = None\n",
    "i=0\n",
    "for file in files:\n",
    "    i=i+1\n",
    "    print(str(i)+\"/\"+str(len(files)), end='\\r')\n",
    "    df = xml2df(join(path,file))\n",
    "    if data is None: data = df\n",
    "    else: data = data.append(df,ignore_index=True)\n",
    "    \n",
    "data = data.convert_objects(convert_numeric=True)"
   ]
  },
  {
   "cell_type": "code",
   "execution_count": 23,
   "metadata": {
    "colab": {
     "autoexec": {
      "startup": false,
      "wait_interval": 0
     },
     "base_uri": "https://localhost:8080/",
     "height": 138,
     "output_extras": [
      {
       "item_id": 1
      }
     ]
    },
    "colab_type": "code",
    "executionInfo": {
     "elapsed": 347,
     "status": "ok",
     "timestamp": 1521501887249,
     "user": {
      "displayName": "Rezvan Josh",
      "photoUrl": "https://lh3.googleusercontent.com/a/default-user=s128",
      "userId": "115628599899859852021"
     },
     "user_tz": 360
    },
    "id": "P5bFXrp8aglt",
    "outputId": "0b01aa0c-0487-47e2-cdb7-8a272cf2a75c"
   },
   "outputs": [
    {
     "data": {
      "text/html": [
       "<div>\n",
       "<style scoped>\n",
       "    .dataframe tbody tr th:only-of-type {\n",
       "        vertical-align: middle;\n",
       "    }\n",
       "\n",
       "    .dataframe tbody tr th {\n",
       "        vertical-align: top;\n",
       "    }\n",
       "\n",
       "    .dataframe thead th {\n",
       "        text-align: right;\n",
       "    }\n",
       "</style>\n",
       "<table border=\"1\" class=\"dataframe\">\n",
       "  <thead>\n",
       "    <tr style=\"text-align: right;\">\n",
       "      <th></th>\n",
       "      <th>text</th>\n",
       "      <th>label</th>\n",
       "    </tr>\n",
       "  </thead>\n",
       "  <tbody>\n",
       "    <tr>\n",
       "      <th>0</th>\n",
       "      <td>associate  circle     .D.   Jr. 845-41-54-4 ...</td>\n",
       "      <td>[0, 1, 0, 1, 0, 1, 0, 1, 0, 0, 1, 1, 1]</td>\n",
       "    </tr>\n",
       "    <tr>\n",
       "      <th>1</th>\n",
       "      <td>MERCY care CENTER    associate    AR 72985   M...</td>\n",
       "      <td>[0, 1, 0, 1, 0, 0, 0, 1, 0, 0, 0, 1, 0]</td>\n",
       "    </tr>\n",
       "    <tr>\n",
       "      <th>2</th>\n",
       "      <td>Personal  Overall   be 81 yr\\nold male present...</td>\n",
       "      <td>[1, 1, 0, 1, 0, 0, 0, 1, 0, 0, 1, 1, 0]</td>\n",
       "    </tr>\n",
       "  </tbody>\n",
       "</table>\n",
       "</div>"
      ],
      "text/plain": [
       "                                                text  \\\n",
       "0    associate  circle     .D.   Jr. 845-41-54-4 ...   \n",
       "1  MERCY care CENTER    associate    AR 72985   M...   \n",
       "2  Personal  Overall   be 81 yr\\nold male present...   \n",
       "\n",
       "                                     label  \n",
       "0  [0, 1, 0, 1, 0, 1, 0, 1, 0, 0, 1, 1, 1]  \n",
       "1  [0, 1, 0, 1, 0, 0, 0, 1, 0, 0, 0, 1, 0]  \n",
       "2  [1, 1, 0, 1, 0, 0, 0, 1, 0, 0, 1, 1, 0]  "
      ]
     },
     "execution_count": 23,
     "metadata": {},
     "output_type": "execute_result"
    }
   ],
   "source": [
    "data[:3]"
   ]
  },
  {
   "cell_type": "markdown",
   "metadata": {},
   "source": [
    "# Split the text into Words"
   ]
  },
  {
   "cell_type": "code",
   "execution_count": 24,
   "metadata": {
    "colab": {
     "autoexec": {
      "startup": false,
      "wait_interval": 0
     }
    },
    "colab_type": "code",
    "id": "Oh9sYkAWa-Iy"
   },
   "outputs": [],
   "source": [
    "from nltk.tokenize import TweetTokenizer\n",
    "tknzr = TweetTokenizer(strip_handles=True, reduce_len=True) \n",
    "\n",
    "data['split'] = data.text.map(lambda x: tknzr.tokenize(x.lower()))"
   ]
  },
  {
   "cell_type": "markdown",
   "metadata": {},
   "source": [
    "### Remove all the other charachter that are not words (Removing numbers)"
   ]
  },
  {
   "cell_type": "code",
   "execution_count": 25,
   "metadata": {
    "colab": {
     "autoexec": {
      "startup": false,
      "wait_interval": 0
     }
    },
    "colab_type": "code",
    "id": "SlBcgpjsZaE2"
   },
   "outputs": [],
   "source": [
    "data.split=data.split.map(lambda x: [w for w in x if w.isalpha()])"
   ]
  },
  {
   "cell_type": "markdown",
   "metadata": {},
   "source": [
    "### Remove all 2 char words"
   ]
  },
  {
   "cell_type": "code",
   "execution_count": 26,
   "metadata": {
    "colab": {
     "autoexec": {
      "startup": false,
      "wait_interval": 0
     }
    },
    "colab_type": "code",
    "id": "53Wzbrz4hRF_"
   },
   "outputs": [],
   "source": [
    "data.split=data.split.map(lambda x: [w for w in x if len(w)>2])"
   ]
  },
  {
   "cell_type": "markdown",
   "metadata": {},
   "source": [
    "# Stem and Encod the Words"
   ]
  },
  {
   "cell_type": "code",
   "execution_count": 27,
   "metadata": {
    "colab": {
     "autoexec": {
      "startup": false,
      "wait_interval": 0
     }
    },
    "colab_type": "code",
    "id": "0G7pcXObiQtj"
   },
   "outputs": [],
   "source": [
    "import nltk\n",
    "from sklearn import preprocessing\n",
    "we = preprocessing.LabelEncoder()\n",
    "pstemmer = nltk.lancaster.LancasterStemmer()\n",
    "\n",
    "vocab  = set([pstemmer.stem(i) for x in data.split for i in x])"
   ]
  },
  {
   "cell_type": "code",
   "execution_count": 28,
   "metadata": {
    "colab": {
     "autoexec": {
      "startup": false,
      "wait_interval": 0
     },
     "base_uri": "https://localhost:8080/",
     "height": 35,
     "output_extras": [
      {
       "item_id": 1
      }
     ]
    },
    "colab_type": "code",
    "executionInfo": {
     "elapsed": 373,
     "status": "ok",
     "timestamp": 1521501894293,
     "user": {
      "displayName": "Rezvan Josh",
      "photoUrl": "https://lh3.googleusercontent.com/a/default-user=s128",
      "userId": "115628599899859852021"
     },
     "user_tz": 360
    },
    "id": "1JCq4d4qxL1H",
    "outputId": "7714bdec-1d0d-483d-b40a-c170201d1077"
   },
   "outputs": [
    {
     "data": {
      "text/plain": [
       "9426"
      ]
     },
     "execution_count": 28,
     "metadata": {},
     "output_type": "execute_result"
    }
   ],
   "source": [
    "len(vocab)"
   ]
  },
  {
   "cell_type": "code",
   "execution_count": 29,
   "metadata": {
    "colab": {
     "autoexec": {
      "startup": false,
      "wait_interval": 0
     },
     "base_uri": "https://localhost:8080/",
     "height": 35,
     "output_extras": [
      {
       "item_id": 1
      }
     ]
    },
    "colab_type": "code",
    "executionInfo": {
     "elapsed": 355,
     "status": "ok",
     "timestamp": 1521501895237,
     "user": {
      "displayName": "Rezvan Josh",
      "photoUrl": "https://lh3.googleusercontent.com/a/default-user=s128",
      "userId": "115628599899859852021"
     },
     "user_tz": 360
    },
    "id": "Mm8rQxTDxOvw",
    "outputId": "dd2d1333-f3f7-46ce-a5c7-87bd3ad6683f"
   },
   "outputs": [
    {
     "data": {
      "text/plain": [
       "LabelEncoder()"
      ]
     },
     "execution_count": 29,
     "metadata": {},
     "output_type": "execute_result"
    }
   ],
   "source": [
    "we.fit(list(vocab)) "
   ]
  },
  {
   "cell_type": "code",
   "execution_count": 30,
   "metadata": {
    "colab": {
     "autoexec": {
      "startup": false,
      "wait_interval": 0
     }
    },
    "colab_type": "code",
    "id": "flcUOEyExV4P"
   },
   "outputs": [],
   "source": [
    "data['ind'] = data.split.map(lambda x: [we.transform([pstemmer.stem(i)])[0] for i in x])"
   ]
  },
  {
   "cell_type": "code",
   "execution_count": 31,
   "metadata": {
    "colab": {
     "autoexec": {
      "startup": false,
      "wait_interval": 0
     },
     "base_uri": "https://localhost:8080/",
     "height": 138,
     "output_extras": [
      {
       "item_id": 1
      }
     ]
    },
    "colab_type": "code",
    "executionInfo": {
     "elapsed": 384,
     "status": "ok",
     "timestamp": 1521502259398,
     "user": {
      "displayName": "Rezvan Josh",
      "photoUrl": "https://lh3.googleusercontent.com/a/default-user=s128",
      "userId": "115628599899859852021"
     },
     "user_tz": 360
    },
    "id": "pXK_ithTxiwl",
    "outputId": "2c13f871-6fd5-4325-bd1b-cd72b49c23d7"
   },
   "outputs": [
    {
     "data": {
      "text/html": [
       "<div>\n",
       "<style scoped>\n",
       "    .dataframe tbody tr th:only-of-type {\n",
       "        vertical-align: middle;\n",
       "    }\n",
       "\n",
       "    .dataframe tbody tr th {\n",
       "        vertical-align: top;\n",
       "    }\n",
       "\n",
       "    .dataframe thead th {\n",
       "        text-align: right;\n",
       "    }\n",
       "</style>\n",
       "<table border=\"1\" class=\"dataframe\">\n",
       "  <thead>\n",
       "    <tr style=\"text-align: right;\">\n",
       "      <th></th>\n",
       "      <th>text</th>\n",
       "      <th>label</th>\n",
       "      <th>split</th>\n",
       "      <th>ind</th>\n",
       "    </tr>\n",
       "  </thead>\n",
       "  <tbody>\n",
       "    <tr>\n",
       "      <th>0</th>\n",
       "      <td>associate  circle     .D.   Jr. 845-41-54-4 ...</td>\n",
       "      <td>[0, 1, 0, 1, 0, 1, 0, 1, 0, 0, 1, 1, 1]</td>\n",
       "      <td>[associate, circle, year, old, pound, gentlema...</td>\n",
       "      <td>[552, 1419, 9356, 5815, 6504, 3301, 7026, 1691...</td>\n",
       "    </tr>\n",
       "    <tr>\n",
       "      <th>1</th>\n",
       "      <td>MERCY care CENTER    associate    AR 72985   M...</td>\n",
       "      <td>[0, 1, 0, 1, 0, 0, 0, 1, 0, 0, 0, 1, 0]</td>\n",
       "      <td>[mercy, care, center, associate, come, further...</td>\n",
       "      <td>[5059, 1169, 1289, 552, 1575, 3213, 2786, 4334...</td>\n",
       "    </tr>\n",
       "    <tr>\n",
       "      <th>2</th>\n",
       "      <td>Personal  Overall   be 81 yr\\nold male present...</td>\n",
       "      <td>[1, 1, 0, 1, 0, 0, 0, 1, 0, 0, 1, 1, 0]</td>\n",
       "      <td>[personal, overall, old, male, present, multip...</td>\n",
       "      <td>[6245, 5963, 5815, 4901, 6576, 5334, 8531, 286...</td>\n",
       "    </tr>\n",
       "  </tbody>\n",
       "</table>\n",
       "</div>"
      ],
      "text/plain": [
       "                                                text  \\\n",
       "0    associate  circle     .D.   Jr. 845-41-54-4 ...   \n",
       "1  MERCY care CENTER    associate    AR 72985   M...   \n",
       "2  Personal  Overall   be 81 yr\\nold male present...   \n",
       "\n",
       "                                     label  \\\n",
       "0  [0, 1, 0, 1, 0, 1, 0, 1, 0, 0, 1, 1, 1]   \n",
       "1  [0, 1, 0, 1, 0, 0, 0, 1, 0, 0, 0, 1, 0]   \n",
       "2  [1, 1, 0, 1, 0, 0, 0, 1, 0, 0, 1, 1, 0]   \n",
       "\n",
       "                                               split  \\\n",
       "0  [associate, circle, year, old, pound, gentlema...   \n",
       "1  [mercy, care, center, associate, come, further...   \n",
       "2  [personal, overall, old, male, present, multip...   \n",
       "\n",
       "                                                 ind  \n",
       "0  [552, 1419, 9356, 5815, 6504, 3301, 7026, 1691...  \n",
       "1  [5059, 1169, 1289, 552, 1575, 3213, 2786, 4334...  \n",
       "2  [6245, 5963, 5815, 4901, 6576, 5334, 8531, 286...  "
      ]
     },
     "execution_count": 31,
     "metadata": {},
     "output_type": "execute_result"
    }
   ],
   "source": [
    "data[:3]"
   ]
  },
  {
   "cell_type": "markdown",
   "metadata": {},
   "source": [
    "# Create a pickle from the clean data"
   ]
  },
  {
   "cell_type": "code",
   "execution_count": 32,
   "metadata": {},
   "outputs": [],
   "source": [
    "data.to_pickle('data-vna.pkl')"
   ]
  },
  {
   "cell_type": "markdown",
   "metadata": {},
   "source": [
    "## Labels Distribution"
   ]
  },
  {
   "cell_type": "code",
   "execution_count": 34,
   "metadata": {},
   "outputs": [],
   "source": [
    "met=[0, 0, 0, 0, 0, 0, 0, 0, 0, 0, 0, 0, 0]\n",
    "notmet=[0, 0, 0, 0, 0, 0, 0, 0, 0, 0, 0, 0, 0]\n",
    "for x in data.label:\n",
    "    for i in range(0,len(met)):\n",
    "        if(x[i]==1):\n",
    "            met[i]=met[i]+1\n",
    "        else:\n",
    "            notmet[i]=notmet[i]+1"
   ]
  },
  {
   "cell_type": "code",
   "execution_count": 35,
   "metadata": {},
   "outputs": [
    {
     "ename": "NameError",
     "evalue": "name 'headers' is not defined",
     "output_type": "error",
     "traceback": [
      "\u001b[1;31m---------------------------------------------------------------------------\u001b[0m",
      "\u001b[1;31mNameError\u001b[0m                                 Traceback (most recent call last)",
      "\u001b[1;32m<ipython-input-35-4c041d665d88>\u001b[0m in \u001b[0;36m<module>\u001b[1;34m()\u001b[0m\n\u001b[1;32m----> 1\u001b[1;33m \u001b[0mhd\u001b[0m\u001b[1;33m=\u001b[0m\u001b[0mheaders\u001b[0m\u001b[1;33m[\u001b[0m\u001b[1;36m1\u001b[0m\u001b[1;33m:\u001b[0m\u001b[1;36m14\u001b[0m\u001b[1;33m]\u001b[0m\u001b[1;33m\u001b[0m\u001b[0m\n\u001b[0m",
      "\u001b[1;31mNameError\u001b[0m: name 'headers' is not defined"
     ]
    }
   ],
   "source": [
    "hd=headers[1:14]"
   ]
  },
  {
   "cell_type": "code",
   "execution_count": null,
   "metadata": {},
   "outputs": [],
   "source": [
    "for i in range(0,len(met)):\n",
    "    print('{:d}{:-<20}{:6.2f}'.format(i,\". \"+hd[i],(met[i]/200)*100))"
   ]
  }
 ],
 "metadata": {
  "accelerator": "GPU",
  "colab": {
   "default_view": {},
   "name": "Untitled0.ipynb",
   "provenance": [],
   "version": "0.3.2",
   "views": {}
  },
  "kernelspec": {
   "display_name": "Python 2",
   "language": "python",
   "name": "python2"
  },
  "language_info": {
   "codemirror_mode": {
    "name": "ipython",
    "version": 2
   },
   "file_extension": ".py",
   "mimetype": "text/x-python",
   "name": "python",
   "nbconvert_exporter": "python",
   "pygments_lexer": "ipython2",
   "version": "2.7.14"
  }
 },
 "nbformat": 4,
 "nbformat_minor": 1
}
