{
 "cells": [
  {
   "cell_type": "code",
   "execution_count": 1,
   "metadata": {},
   "outputs": [],
   "source": [
    "from os.path import join\n",
    "import numpy as np\n",
    "import pandas as pd\n",
    "from os import listdir\n",
    "from os.path import isfile"
   ]
  },
  {
   "cell_type": "code",
   "execution_count": 2,
   "metadata": {},
   "outputs": [
    {
     "data": {
      "text/plain": [
       "202"
      ]
     },
     "execution_count": 2,
     "metadata": {},
     "output_type": "execute_result"
    }
   ],
   "source": [
    "path='train/'\n",
    "\n",
    "files = [f for f in listdir(path) if isfile(join(path, f))]\n",
    "\n",
    "len(files)"
   ]
  },
  {
   "cell_type": "code",
   "execution_count": 3,
   "metadata": {},
   "outputs": [],
   "source": [
    "import xml.etree.ElementTree as ET\n",
    "import re\n",
    "\n",
    "\n",
    "def xml2df(xml_data,i):\n",
    "    #xml_data=re.sub(u\"(\\u2018|\\u2019)\", \"'\", xml_data)\n",
    "    tree = ET.parse(xml_data) #Initiates the tree Ex: <user-agents>\n",
    "    \n",
    "    all_records = [] #This is our record list which we will convert into a dataframe\n",
    "    headers = [] #Subchildren tags will be parsed and appended here\n",
    "    record = []\n",
    "    attrib=[]\n",
    "    values=[]\n",
    "    label=[]\n",
    "    tex=\"\"\n",
    "    for elem in tree.iter(): #Begin looping through our root tree\n",
    "        if(elem.tag!='PatientMatching' and elem.tag!='TAGS'):\n",
    "            headers.append(elem.tag)\n",
    "            record.append(elem.text)\n",
    "            attrib.append(elem.attrib.get('met'))\n",
    "            \n",
    "    text = record[0]\n",
    "    \n",
    "    file = open(\"TEXT/\"+str(i)+\".txt\",\"w+\") \n",
    "    file.write(record[0])\n",
    "    file.close() \n",
    "    \n",
    "    all_records.append(text)\n",
    "    for a in attrib[1:]:\n",
    "        if(a == 'met'):\n",
    "            label.append(1)\n",
    "        else:\n",
    "             label.append(0)\n",
    "    all_records.append(label)\n",
    "    all_records.append(i)\n",
    "    return pd.DataFrame([all_records], columns=['text','label','name']) "
   ]
  },
  {
   "cell_type": "code",
   "execution_count": 4,
   "metadata": {},
   "outputs": [
    {
     "name": "stderr",
     "output_type": "stream",
     "text": [
      "C:\\Users\\rezvanjoshaghani\\AppData\\Roaming\\Python\\Python36\\site-packages\\ipykernel\\__main__.py:8: FutureWarning: convert_objects is deprecated.  Use the data-type specific converters pd.to_datetime, pd.to_timedelta and pd.to_numeric.\n"
     ]
    }
   ],
   "source": [
    "data = None\n",
    "for file in files:\n",
    "    #print(str(i)+\"/\"+str(len(files)), end='\\r')\n",
    "    df = xml2df(join(path,file),file.split(\".\")[0])\n",
    "    if data is None: data = df\n",
    "    else: data = data.append(df,ignore_index=True)\n",
    "    \n",
    "data = data.convert_objects(convert_numeric=True)"
   ]
  },
  {
   "cell_type": "code",
   "execution_count": 5,
   "metadata": {},
   "outputs": [
    {
     "data": {
      "text/html": [
       "<div>\n",
       "<style>\n",
       "    .dataframe thead tr:only-child th {\n",
       "        text-align: right;\n",
       "    }\n",
       "\n",
       "    .dataframe thead th {\n",
       "        text-align: left;\n",
       "    }\n",
       "\n",
       "    .dataframe tbody tr th {\n",
       "        vertical-align: top;\n",
       "    }\n",
       "</style>\n",
       "<table border=\"1\" class=\"dataframe\">\n",
       "  <thead>\n",
       "    <tr style=\"text-align: right;\">\n",
       "      <th></th>\n",
       "      <th>text</th>\n",
       "      <th>label</th>\n",
       "      <th>name</th>\n",
       "    </tr>\n",
       "  </thead>\n",
       "  <tbody>\n",
       "    <tr>\n",
       "      <th>0</th>\n",
       "      <td>\\n\\nRecord date: 2106-02-12\\n\\nCampbell Orthop...</td>\n",
       "      <td>[0, 1, 0, 1, 0, 1, 0, 1, 0, 0, 1, 1, 1]</td>\n",
       "      <td>100</td>\n",
       "    </tr>\n",
       "    <tr>\n",
       "      <th>1</th>\n",
       "      <td>\\n\\nRecord date: 2079-05-12\\n\\n\\n\\n\\n\\nMERCY C...</td>\n",
       "      <td>[0, 1, 0, 1, 0, 0, 0, 1, 0, 0, 0, 1, 0]</td>\n",
       "      <td>101</td>\n",
       "    </tr>\n",
       "    <tr>\n",
       "      <th>2</th>\n",
       "      <td>\\n\\nRecord date: 2120-09-19\\n\\nPersonal Data a...</td>\n",
       "      <td>[1, 1, 0, 1, 0, 0, 0, 1, 0, 0, 1, 1, 0]</td>\n",
       "      <td>102</td>\n",
       "    </tr>\n",
       "    <tr>\n",
       "      <th>3</th>\n",
       "      <td>\\n\\nRecord date: 2067-11-24\\n\\n               ...</td>\n",
       "      <td>[0, 1, 0, 1, 0, 0, 0, 1, 0, 0, 0, 1, 0]</td>\n",
       "      <td>103</td>\n",
       "    </tr>\n",
       "    <tr>\n",
       "      <th>4</th>\n",
       "      <td>\\n\\nRecord date: 2094-02-16\\n\\nJENNIFER BOOKER...</td>\n",
       "      <td>[0, 1, 0, 0, 0, 0, 0, 1, 1, 0, 1, 1, 1]</td>\n",
       "      <td>104</td>\n",
       "    </tr>\n",
       "  </tbody>\n",
       "</table>\n",
       "</div>"
      ],
      "text/plain": [
       "                                                text  \\\n",
       "0  \\n\\nRecord date: 2106-02-12\\n\\nCampbell Orthop...   \n",
       "1  \\n\\nRecord date: 2079-05-12\\n\\n\\n\\n\\n\\nMERCY C...   \n",
       "2  \\n\\nRecord date: 2120-09-19\\n\\nPersonal Data a...   \n",
       "3  \\n\\nRecord date: 2067-11-24\\n\\n               ...   \n",
       "4  \\n\\nRecord date: 2094-02-16\\n\\nJENNIFER BOOKER...   \n",
       "\n",
       "                                     label  name  \n",
       "0  [0, 1, 0, 1, 0, 1, 0, 1, 0, 0, 1, 1, 1]   100  \n",
       "1  [0, 1, 0, 1, 0, 0, 0, 1, 0, 0, 0, 1, 0]   101  \n",
       "2  [1, 1, 0, 1, 0, 0, 0, 1, 0, 0, 1, 1, 0]   102  \n",
       "3  [0, 1, 0, 1, 0, 0, 0, 1, 0, 0, 0, 1, 0]   103  \n",
       "4  [0, 1, 0, 0, 0, 0, 0, 1, 1, 0, 1, 1, 1]   104  "
      ]
     },
     "execution_count": 5,
     "metadata": {},
     "output_type": "execute_result"
    }
   ],
   "source": [
    "data.head()"
   ]
  },
  {
   "cell_type": "code",
   "execution_count": 6,
   "metadata": {},
   "outputs": [],
   "source": [
    "data['a1c']=data.label.map(lambda x: x[8])"
   ]
  },
  {
   "cell_type": "code",
   "execution_count": 7,
   "metadata": {},
   "outputs": [],
   "source": [
    "from nltk.tokenize import sent_tokenize, word_tokenize\n",
    "\n",
    "data['sen'] = data.text.map(lambda x: sent_tokenize(x.replace(\"\\n\",\". \")))"
   ]
  },
  {
   "cell_type": "code",
   "execution_count": 8,
   "metadata": {},
   "outputs": [],
   "source": [
    "def isgood(x):\n",
    "    gs=\"\"\n",
    "    expr = re.compile('.*a1c.*')\n",
    "    for s in x:\n",
    "        w=word_tokenize(s)\n",
    "        for a in w:  \n",
    "            if re.match(expr,a.lower()):\n",
    "                gs=gs+s\n",
    "                break\n",
    "    return gs\n",
    "    "
   ]
  },
  {
   "cell_type": "code",
   "execution_count": 9,
   "metadata": {},
   "outputs": [],
   "source": [
    "data['sen']=data.sen.map(lambda x: isgood(x) )"
   ]
  },
  {
   "cell_type": "code",
   "execution_count": 10,
   "metadata": {},
   "outputs": [],
   "source": [
    "import re\n",
    "def removeDates(s):\n",
    "    expr = re.compile('\\d{2}/\\d{2}/\\d{4}')\n",
    "    line = re.sub(expr, '', s)\n",
    "    return line"
   ]
  },
  {
   "cell_type": "code",
   "execution_count": 11,
   "metadata": {},
   "outputs": [
    {
     "data": {
      "text/plain": [
       "0    Hemoglobin A1C       10.20H  3.80-6.40 %      ...\n",
       "1                                                     \n",
       "2    A1c, CBC, Fe, TIBC, ferritin, SGOT, SGPT, alka...\n",
       "3                                                     \n",
       "4    Diabetes mellitus, most recent Hgb A1c 7.30 6/...\n",
       "Name: clean, dtype: object"
      ]
     },
     "execution_count": 11,
     "metadata": {},
     "output_type": "execute_result"
    }
   ],
   "source": [
    "data['clean']=data.sen.map(lambda x: removeDates(x))\n",
    "data.clean.head()"
   ]
  },
  {
   "cell_type": "code",
   "execution_count": 12,
   "metadata": {},
   "outputs": [],
   "source": [
    "data['split']=data.clean.map(lambda x: word_tokenize(x.lower()))"
   ]
  },
  {
   "cell_type": "code",
   "execution_count": 13,
   "metadata": {},
   "outputs": [],
   "source": [
    "import nltk\n",
    "from sklearn import preprocessing\n",
    "we = preprocessing.LabelEncoder()\n",
    "pstemmer = nltk.lancaster.LancasterStemmer()\n",
    "\n",
    "vocab  = set([pstemmer.stem(i) for x in data.split for i in x])"
   ]
  },
  {
   "cell_type": "code",
   "execution_count": 14,
   "metadata": {},
   "outputs": [
    {
     "data": {
      "text/plain": [
       "1335"
      ]
     },
     "execution_count": 14,
     "metadata": {},
     "output_type": "execute_result"
    }
   ],
   "source": [
    "len(vocab)"
   ]
  },
  {
   "cell_type": "code",
   "execution_count": 15,
   "metadata": {},
   "outputs": [
    {
     "data": {
      "text/plain": [
       "LabelEncoder()"
      ]
     },
     "execution_count": 15,
     "metadata": {},
     "output_type": "execute_result"
    }
   ],
   "source": [
    "we.fit(list(vocab)) "
   ]
  },
  {
   "cell_type": "code",
   "execution_count": 16,
   "metadata": {},
   "outputs": [],
   "source": [
    "data['ind'] = data.split.map(lambda x: [we.transform([pstemmer.stem(i)])[0] for i in x])"
   ]
  },
  {
   "cell_type": "code",
   "execution_count": 17,
   "metadata": {},
   "outputs": [],
   "source": [
    "data.to_pickle(\"a1c-1.pkl\")"
   ]
  },
  {
   "cell_type": "code",
   "execution_count": 18,
   "metadata": {},
   "outputs": [
    {
     "name": "stderr",
     "output_type": "stream",
     "text": [
      "Using TensorFlow backend.\n"
     ]
    },
    {
     "data": {
      "text/plain": [
       "347"
      ]
     },
     "execution_count": 18,
     "metadata": {},
     "output_type": "execute_result"
    }
   ],
   "source": [
    "from keras.preprocessing import sequence\n",
    "\n",
    "data['lens'] = data.ind.map(lambda x: len(x))\n",
    "maxlen = max(data.lens)\n",
    "maxlen"
   ]
  },
  {
   "cell_type": "code",
   "execution_count": 19,
   "metadata": {},
   "outputs": [
    {
     "data": {
      "text/plain": [
       "((162, 9), (40, 9))"
      ]
     },
     "execution_count": 19,
     "metadata": {},
     "output_type": "execute_result"
    }
   ],
   "source": [
    "#datac=datac.sample(frac=0.05)\n",
    "train=data.sample(frac=0.8,random_state=200)\n",
    "test=data.drop(train.index)\n",
    "\n",
    "train.shape, test.shape"
   ]
  },
  {
   "cell_type": "code",
   "execution_count": 20,
   "metadata": {},
   "outputs": [],
   "source": [
    "X_train = sequence.pad_sequences(train.ind, maxlen=maxlen)\n",
    "X_train = np.array([x.ravel() for x in X_train])"
   ]
  },
  {
   "cell_type": "code",
   "execution_count": 21,
   "metadata": {},
   "outputs": [
    {
     "data": {
      "text/plain": [
       "(162,)"
      ]
     },
     "execution_count": 21,
     "metadata": {},
     "output_type": "execute_result"
    }
   ],
   "source": [
    "y_train = np.array([x for x in train.a1c])\n",
    "y_train.shape"
   ]
  },
  {
   "cell_type": "code",
   "execution_count": 22,
   "metadata": {},
   "outputs": [
    {
     "name": "stdout",
     "output_type": "stream",
     "text": [
      "_________________________________________________________________\n",
      "Layer (type)                 Output Shape              Param #   \n",
      "=================================================================\n",
      "embedding_1 (Embedding)      (None, 347, 347)          463245    \n",
      "_________________________________________________________________\n",
      "dense_1 (Dense)              (None, 347, 200)          69600     \n",
      "_________________________________________________________________\n",
      "dropout_1 (Dropout)          (None, 347, 200)          0         \n",
      "_________________________________________________________________\n",
      "lstm_1 (LSTM)                (None, 100)               120400    \n",
      "_________________________________________________________________\n",
      "dense_2 (Dense)              (None, 1)                 101       \n",
      "=================================================================\n",
      "Total params: 653,346\n",
      "Trainable params: 653,346\n",
      "Non-trainable params: 0\n",
      "_________________________________________________________________\n",
      "None\n"
     ]
    }
   ],
   "source": [
    "import numpy\n",
    "import keras\n",
    "from keras.datasets import imdb\n",
    "from keras.models import Sequential\n",
    "from keras.layers import Dense\n",
    "from keras.layers import LSTM\n",
    "from keras.layers import GRU\n",
    "from keras.layers.convolutional import Conv1D\n",
    "from keras.layers.convolutional import MaxPooling1D\n",
    "from keras.layers.embeddings import Embedding\n",
    "from keras.layers import Flatten\n",
    "from keras.layers import Dropout\n",
    "from keras.preprocessing import sequence\n",
    "import numpy as np\n",
    "import random\n",
    "\n",
    "\n",
    "model = Sequential()\n",
    "model.add(Embedding(len(vocab), maxlen, input_length=X_train.shape[1]))\n",
    "model.add(Dense(200, activation='tanh'))\n",
    "model.add(Dropout(0.5))\n",
    "model.add(LSTM(100))\n",
    "model.add(Dense(1, activation='sigmoid'))\n",
    "model.compile(loss='binary_crossentropy', optimizer='adagrad', metrics=['accuracy'])\n",
    "print(model.summary())"
   ]
  },
  {
   "cell_type": "code",
   "execution_count": 23,
   "metadata": {},
   "outputs": [
    {
     "name": "stdout",
     "output_type": "stream",
     "text": [
      "Epoch 1/10\n",
      "162/162 [==============================] - 6s 40ms/step - loss: 0.6660 - acc: 0.6914\n",
      "Epoch 2/10\n",
      "162/162 [==============================] - 5s 29ms/step - loss: 0.6590 - acc: 0.4691\n",
      "Epoch 3/10\n",
      "162/162 [==============================] - 5s 29ms/step - loss: 0.3698 - acc: 0.8457\n",
      "Epoch 4/10\n",
      "162/162 [==============================] - 5s 32ms/step - loss: 0.2366 - acc: 0.9198\n",
      "Epoch 5/10\n",
      "162/162 [==============================] - 5s 29ms/step - loss: 0.1434 - acc: 0.9815\n",
      "Epoch 6/10\n",
      "162/162 [==============================] - 4s 27ms/step - loss: 0.0744 - acc: 0.9877\n",
      "Epoch 7/10\n",
      "162/162 [==============================] - 5s 29ms/step - loss: 0.0574 - acc: 0.9877\n",
      "Epoch 8/10\n",
      "162/162 [==============================] - 5s 28ms/step - loss: 0.0420 - acc: 0.9877\n",
      "Epoch 9/10\n",
      "162/162 [==============================] - 5s 29ms/step - loss: 0.0302 - acc: 0.9877\n",
      "Epoch 10/10\n",
      "162/162 [==============================] - 5s 30ms/step - loss: 0.0225 - acc: 0.9938\n"
     ]
    },
    {
     "data": {
      "text/plain": [
       "<keras.callbacks.History at 0x13a29e8c0f0>"
      ]
     },
     "execution_count": 23,
     "metadata": {},
     "output_type": "execute_result"
    }
   ],
   "source": [
    "model.fit(X_train, y_train, batch_size=128, epochs=10)"
   ]
  },
  {
   "cell_type": "code",
   "execution_count": 24,
   "metadata": {},
   "outputs": [],
   "source": [
    "model.save('Trained Models/model-a1c-1.h5')"
   ]
  },
  {
   "cell_type": "code",
   "execution_count": 25,
   "metadata": {},
   "outputs": [],
   "source": [
    "X_test = sequence.pad_sequences(test.ind, maxlen=maxlen)\n",
    "X_test = np.array([x.ravel() for x in X_test])"
   ]
  },
  {
   "cell_type": "code",
   "execution_count": 26,
   "metadata": {},
   "outputs": [
    {
     "data": {
      "text/plain": [
       "array([0, 0, 0, 0, 1, 1, 0, 1, 1, 1, 0, 0, 1, 1, 0, 1, 0, 0, 0, 0, 0, 0, 0,\n",
       "       0, 1, 0, 0, 0, 0, 0, 0, 0, 1, 0, 1, 1, 0, 1, 1, 1], dtype=int64)"
      ]
     },
     "execution_count": 26,
     "metadata": {},
     "output_type": "execute_result"
    }
   ],
   "source": [
    "Y_test = np.array([x for x in test.a1c])\n",
    "Y_test"
   ]
  },
  {
   "cell_type": "code",
   "execution_count": 27,
   "metadata": {},
   "outputs": [
    {
     "name": "stdout",
     "output_type": "stream",
     "text": [
      "Test score: 0.295413959026\n",
      "Test accuracy: 0.9\n"
     ]
    }
   ],
   "source": [
    "score = model.evaluate(X_test, Y_test, verbose=0)\n",
    "print('Test score:', score[0])\n",
    "print('Test accuracy:', score[1])"
   ]
  },
  {
   "cell_type": "code",
   "execution_count": 28,
   "metadata": {},
   "outputs": [],
   "source": [
    "prediction = model.predict(np.array(X_test))\n",
    "df=pd.DataFrame(columns=[\"pr\", \"lb\"])"
   ]
  },
  {
   "cell_type": "code",
   "execution_count": 29,
   "metadata": {},
   "outputs": [],
   "source": [
    "df.pr=list(prediction)\n",
    "df.lb=list(Y_test)\n",
    "df['res']=df.pr.map(lambda x: 1 if x>0.5 else 0)\n",
    "df['id']=list(test.name)\n",
    "df['idlb']=list(test.label.map(lambda x: x[8]))"
   ]
  },
  {
   "cell_type": "code",
   "execution_count": 30,
   "metadata": {},
   "outputs": [
    {
     "data": {
      "text/html": [
       "<div>\n",
       "<style>\n",
       "    .dataframe thead tr:only-child th {\n",
       "        text-align: right;\n",
       "    }\n",
       "\n",
       "    .dataframe thead th {\n",
       "        text-align: left;\n",
       "    }\n",
       "\n",
       "    .dataframe tbody tr th {\n",
       "        vertical-align: top;\n",
       "    }\n",
       "</style>\n",
       "<table border=\"1\" class=\"dataframe\">\n",
       "  <thead>\n",
       "    <tr style=\"text-align: right;\">\n",
       "      <th></th>\n",
       "      <th>pr</th>\n",
       "      <th>lb</th>\n",
       "      <th>res</th>\n",
       "      <th>id</th>\n",
       "      <th>idlb</th>\n",
       "    </tr>\n",
       "  </thead>\n",
       "  <tbody>\n",
       "    <tr>\n",
       "      <th>0</th>\n",
       "      <td>[0.00129525]</td>\n",
       "      <td>0</td>\n",
       "      <td>0</td>\n",
       "      <td>101</td>\n",
       "      <td>0</td>\n",
       "    </tr>\n",
       "    <tr>\n",
       "      <th>1</th>\n",
       "      <td>[0.00129525]</td>\n",
       "      <td>0</td>\n",
       "      <td>0</td>\n",
       "      <td>107</td>\n",
       "      <td>0</td>\n",
       "    </tr>\n",
       "    <tr>\n",
       "      <th>2</th>\n",
       "      <td>[0.00129525]</td>\n",
       "      <td>0</td>\n",
       "      <td>0</td>\n",
       "      <td>116</td>\n",
       "      <td>0</td>\n",
       "    </tr>\n",
       "    <tr>\n",
       "      <th>3</th>\n",
       "      <td>[0.00129525]</td>\n",
       "      <td>0</td>\n",
       "      <td>0</td>\n",
       "      <td>121</td>\n",
       "      <td>0</td>\n",
       "    </tr>\n",
       "    <tr>\n",
       "      <th>4</th>\n",
       "      <td>[0.995972]</td>\n",
       "      <td>1</td>\n",
       "      <td>1</td>\n",
       "      <td>125</td>\n",
       "      <td>1</td>\n",
       "    </tr>\n",
       "  </tbody>\n",
       "</table>\n",
       "</div>"
      ],
      "text/plain": [
       "             pr  lb  res   id  idlb\n",
       "0  [0.00129525]   0    0  101     0\n",
       "1  [0.00129525]   0    0  107     0\n",
       "2  [0.00129525]   0    0  116     0\n",
       "3  [0.00129525]   0    0  121     0\n",
       "4    [0.995972]   1    1  125     1"
      ]
     },
     "execution_count": 30,
     "metadata": {},
     "output_type": "execute_result"
    }
   ],
   "source": [
    "df.head()"
   ]
  },
  {
   "cell_type": "code",
   "execution_count": 31,
   "metadata": {},
   "outputs": [
    {
     "data": {
      "text/plain": [
       "0.8"
      ]
     },
     "execution_count": 31,
     "metadata": {},
     "output_type": "execute_result"
    }
   ],
   "source": [
    "i=0\n",
    "a=0\n",
    "for index, row in df.iterrows():\n",
    "    if row.lb==1:\n",
    "        a=a+1\n",
    "        if (row.lb==row.res) :\n",
    "            i=i+1\n",
    "i/a"
   ]
  },
  {
   "cell_type": "code",
   "execution_count": 32,
   "metadata": {},
   "outputs": [
    {
     "data": {
      "text/plain": [
       "0.96"
      ]
     },
     "execution_count": 32,
     "metadata": {},
     "output_type": "execute_result"
    }
   ],
   "source": [
    "i=0\n",
    "a=0\n",
    "for index, row in df.iterrows():\n",
    "    if row.lb==0:\n",
    "        a=a+1\n",
    "        if (row.lb==row.res) :\n",
    "            i=i+1\n",
    "i/a"
   ]
  },
  {
   "cell_type": "code",
   "execution_count": 33,
   "metadata": {},
   "outputs": [
    {
     "data": {
      "text/plain": [
       "0.89010989010989006"
      ]
     },
     "execution_count": 33,
     "metadata": {},
     "output_type": "execute_result"
    }
   ],
   "source": [
    "from collections import defaultdict\n",
    "import operator\n",
    "from sklearn.metrics import accuracy_score, f1_score\n",
    "\n",
    "I = [1,0]\n",
    "\n",
    "\n",
    "f1_score(df.lb, df.res, labels=I, average='macro')"
   ]
  },
  {
   "cell_type": "code",
   "execution_count": 34,
   "metadata": {},
   "outputs": [
    {
     "data": {
      "text/plain": [
       "0.67500000000000004"
      ]
     },
     "execution_count": 34,
     "metadata": {},
     "output_type": "execute_result"
    }
   ],
   "source": [
    "from sklearn.linear_model import LogisticRegression\n",
    "\n",
    "lr = LogisticRegression()\n",
    "lr.fit(X_train,y_train)\n",
    "lr.score(X_test, Y_test)"
   ]
  },
  {
   "cell_type": "code",
   "execution_count": 35,
   "metadata": {},
   "outputs": [
    {
     "data": {
      "text/plain": [
       "([0, 0, 0, 0, 1], array([0, 0, 0, 0, 1], dtype=int64))"
      ]
     },
     "execution_count": 35,
     "metadata": {},
     "output_type": "execute_result"
    }
   ],
   "source": [
    "guess = model.predict_classes(X_test)\n",
    "guess = [g[0] for g in guess]\n",
    "gold = Y_test\n",
    "guess[:5], gold[:5]"
   ]
  },
  {
   "cell_type": "code",
   "execution_count": 37,
   "metadata": {},
   "outputs": [
    {
     "data": {
      "image/png": "[encoded data removed]",
      "text/plain": [
       "<matplotlib.figure.Figure at 0x13a2b841c50>"
      ]
     },
     "metadata": {},
     "output_type": "display_data"
    }
   ],
   "source": [
    "from sklearn import metrics\n",
    "import matplotlib.pyplot as plt\n",
    "%matplotlib inline \n",
    "\n",
    "x, y, _ = metrics.roc_curve(gold, guess)\n",
    "auc = metrics.auc(x, y)\n",
    "\n",
    "plt.figure()\n",
    "lw = 2\n",
    "plt.plot(x, y, color='darkorange',\n",
    "         lw=lw, label='ROC curve (area = %0.2f)' % auc)\n",
    "plt.plot([0, 1], [0, 1], color='navy', lw=lw, linestyle='--')\n",
    "plt.xlim([0.0, 1.0])\n",
    "plt.ylim([0.0, 1.05])\n",
    "plt.xlabel('False Positive Rate')\n",
    "plt.ylabel('True Positive Rate')\n",
    "plt.title('ROC curve of HBA1C')\n",
    "plt.legend(loc=\"lower right\")\n",
    "plt.show()\n",
    "\n"
   ]
  },
  {
   "cell_type": "code",
   "execution_count": null,
   "metadata": {},
   "outputs": [],
   "source": []
  }
 ],
 "metadata": {
  "kernelspec": {
   "display_name": "Python [conda root]",
   "language": "python",
   "name": "conda-root-py"
  },
  "language_info": {
   "codemirror_mode": {
    "name": "ipython",
    "version": 3
   },
   "file_extension": ".py",
   "mimetype": "text/x-python",
   "name": "python",
   "nbconvert_exporter": "python",
   "pygments_lexer": "ipython3",
   "version": "3.6.3"
  }
 },
 "nbformat": 4,
 "nbformat_minor": 2
}
