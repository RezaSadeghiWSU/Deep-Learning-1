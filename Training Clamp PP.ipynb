{
 "cells": [
  {
   "cell_type": "code",
   "execution_count": 1,
   "metadata": {},
   "outputs": [],
   "source": [
    "import numpy as np\n",
    "import pandas as pd"
   ]
  },
  {
   "cell_type": "markdown",
   "metadata": {},
   "source": [
    "# Read the data"
   ]
  },
  {
   "cell_type": "code",
   "execution_count": 2,
   "metadata": {},
   "outputs": [],
   "source": [
    "data=pd.DataFrame()\n",
    "datac=pd.read_pickle('abc.pkl')"
   ]
  },
  {
   "cell_type": "code",
   "execution_count": 3,
   "metadata": {},
   "outputs": [
    {
     "data": {
      "text/html": [
       "<div>\n",
       "<style>\n",
       "    .dataframe thead tr:only-child th {\n",
       "        text-align: right;\n",
       "    }\n",
       "\n",
       "    .dataframe thead th {\n",
       "        text-align: left;\n",
       "    }\n",
       "\n",
       "    .dataframe tbody tr th {\n",
       "        vertical-align: top;\n",
       "    }\n",
       "</style>\n",
       "<table border=\"1\" class=\"dataframe\">\n",
       "  <thead>\n",
       "    <tr style=\"text-align: right;\">\n",
       "      <th></th>\n",
       "      <th>text</th>\n",
       "      <th>label</th>\n",
       "      <th>name</th>\n",
       "      <th>clean</th>\n",
       "      <th>ind</th>\n",
       "      <th>diet</th>\n",
       "      <th>db</th>\n",
       "      <th>split</th>\n",
       "    </tr>\n",
       "  </thead>\n",
       "  <tbody>\n",
       "    <tr>\n",
       "      <th>0</th>\n",
       "      <td>\\n\\nRecord date: 2106-02-12\\n\\nCampbell Orthop...</td>\n",
       "      <td>[0, 1, 0, 1, 0, 1, 0, 1, 0, 0, 1, 1, 1]</td>\n",
       "      <td>100</td>\n",
       "      <td>[diabetes, a, diabetic, diabetes, L, eye, visu...</td>\n",
       "      <td>[126, 16, 126, 126, 231, 169, 451, 142, 375, 4...</td>\n",
       "      <td>1</td>\n",
       "      <td>1</td>\n",
       "      <td>[diabetes, a, diabetic, diabetes, L, eye, visu...</td>\n",
       "    </tr>\n",
       "    <tr>\n",
       "      <th>1</th>\n",
       "      <td>\\n\\nRecord date: 2079-05-12\\n\\n\\n\\n\\n\\nMERCY C...</td>\n",
       "      <td>[0, 1, 0, 1, 0, 0, 0, 1, 0, 0, 0, 1, 0]</td>\n",
       "      <td>101</td>\n",
       "      <td>[]</td>\n",
       "      <td>[]</td>\n",
       "      <td>0</td>\n",
       "      <td>0</td>\n",
       "      <td>[]</td>\n",
       "    </tr>\n",
       "    <tr>\n",
       "      <th>2</th>\n",
       "      <td>\\n\\nRecord date: 2120-09-19\\n\\nPersonal Data a...</td>\n",
       "      <td>[1, 1, 0, 1, 0, 0, 0, 1, 0, 0, 1, 1, 0]</td>\n",
       "      <td>102</td>\n",
       "      <td>[diabetes, Diabetic, medications, diabetes, Re...</td>\n",
       "      <td>[126, 126, 266, 126, 352, 448, 271, 126, 352, ...</td>\n",
       "      <td>0</td>\n",
       "      <td>1</td>\n",
       "      <td>[diabetes, Diabetic, medications, diabetes, Re...</td>\n",
       "    </tr>\n",
       "    <tr>\n",
       "      <th>3</th>\n",
       "      <td>\\n\\nRecord date: 2067-11-24\\n\\n               ...</td>\n",
       "      <td>[0, 1, 0, 1, 0, 0, 0, 1, 0, 0, 0, 1, 0]</td>\n",
       "      <td>103</td>\n",
       "      <td>[non-insulin-dependent, diabetes, diabetes, me...</td>\n",
       "      <td>[290, 126, 126, 268, 126, 126, 126, 126]</td>\n",
       "      <td>0</td>\n",
       "      <td>0</td>\n",
       "      <td>[non-insulin-dependent, diabetes, diabetes, me...</td>\n",
       "    </tr>\n",
       "    <tr>\n",
       "      <th>4</th>\n",
       "      <td>\\n\\nRecord date: 2094-02-16\\n\\nJENNIFER BOOKER...</td>\n",
       "      <td>[0, 1, 0, 0, 0, 0, 0, 1, 1, 0, 1, 1, 1]</td>\n",
       "      <td>104</td>\n",
       "      <td>[UTI, in, diabetic, Diabetes, mellitus, Neurop...</td>\n",
       "      <td>[446, 211, 126, 126, 268, 283, 126, 268, 126, ...</td>\n",
       "      <td>0</td>\n",
       "      <td>1</td>\n",
       "      <td>[UTI, in, diabetic, Diabetes, mellitus, Neurop...</td>\n",
       "    </tr>\n",
       "  </tbody>\n",
       "</table>\n",
       "</div>"
      ],
      "text/plain": [
       "                                                text  \\\n",
       "0  \\n\\nRecord date: 2106-02-12\\n\\nCampbell Orthop...   \n",
       "1  \\n\\nRecord date: 2079-05-12\\n\\n\\n\\n\\n\\nMERCY C...   \n",
       "2  \\n\\nRecord date: 2120-09-19\\n\\nPersonal Data a...   \n",
       "3  \\n\\nRecord date: 2067-11-24\\n\\n               ...   \n",
       "4  \\n\\nRecord date: 2094-02-16\\n\\nJENNIFER BOOKER...   \n",
       "\n",
       "                                     label  name  \\\n",
       "0  [0, 1, 0, 1, 0, 1, 0, 1, 0, 0, 1, 1, 1]   100   \n",
       "1  [0, 1, 0, 1, 0, 0, 0, 1, 0, 0, 0, 1, 0]   101   \n",
       "2  [1, 1, 0, 1, 0, 0, 0, 1, 0, 0, 1, 1, 0]   102   \n",
       "3  [0, 1, 0, 1, 0, 0, 0, 1, 0, 0, 0, 1, 0]   103   \n",
       "4  [0, 1, 0, 0, 0, 0, 0, 1, 1, 0, 1, 1, 1]   104   \n",
       "\n",
       "                                               clean  \\\n",
       "0  [diabetes, a, diabetic, diabetes, L, eye, visu...   \n",
       "1                                                 []   \n",
       "2  [diabetes, Diabetic, medications, diabetes, Re...   \n",
       "3  [non-insulin-dependent, diabetes, diabetes, me...   \n",
       "4  [UTI, in, diabetic, Diabetes, mellitus, Neurop...   \n",
       "\n",
       "                                                 ind  diet  db  \\\n",
       "0  [126, 16, 126, 126, 231, 169, 451, 142, 375, 4...     1   1   \n",
       "1                                                 []     0   0   \n",
       "2  [126, 126, 266, 126, 352, 448, 271, 126, 352, ...     0   1   \n",
       "3           [290, 126, 126, 268, 126, 126, 126, 126]     0   0   \n",
       "4  [446, 211, 126, 126, 268, 283, 126, 268, 126, ...     0   1   \n",
       "\n",
       "                                               split  \n",
       "0  [diabetes, a, diabetic, diabetes, L, eye, visu...  \n",
       "1                                                 []  \n",
       "2  [diabetes, Diabetic, medications, diabetes, Re...  \n",
       "3  [non-insulin-dependent, diabetes, diabetes, me...  \n",
       "4  [UTI, in, diabetic, Diabetes, mellitus, Neurop...  "
      ]
     },
     "execution_count": 3,
     "metadata": {},
     "output_type": "execute_result"
    }
   ],
   "source": [
    "datac.head()"
   ]
  },
  {
   "cell_type": "markdown",
   "metadata": {},
   "source": [
    "# Compute the size of Vocab and text"
   ]
  },
  {
   "cell_type": "code",
   "execution_count": 4,
   "metadata": {},
   "outputs": [],
   "source": [
    "import nltk\n",
    "from sklearn import preprocessing\n",
    "we = preprocessing.LabelEncoder()\n",
    "pstemmer = nltk.lancaster.LancasterStemmer()\n",
    "\n",
    "vocabc  = set([pstemmer.stem(i) for x in datac.split for i in x])"
   ]
  },
  {
   "cell_type": "code",
   "execution_count": 5,
   "metadata": {},
   "outputs": [
    {
     "data": {
      "text/plain": [
       "462"
      ]
     },
     "execution_count": 5,
     "metadata": {},
     "output_type": "execute_result"
    }
   ],
   "source": [
    "len(vocabc) "
   ]
  },
  {
   "cell_type": "code",
   "execution_count": 6,
   "metadata": {},
   "outputs": [
    {
     "name": "stderr",
     "output_type": "stream",
     "text": [
      "Using TensorFlow backend.\n"
     ]
    },
    {
     "data": {
      "text/plain": [
       "13710"
      ]
     },
     "execution_count": 6,
     "metadata": {},
     "output_type": "execute_result"
    }
   ],
   "source": [
    "from keras.preprocessing import sequence\n",
    "\n",
    "datac['lens'] = datac.ind.map(lambda x: len(x))\n",
    "maxlenc = max(datac.lens)\n",
    "maxlenc"
   ]
  },
  {
   "cell_type": "code",
   "execution_count": 7,
   "metadata": {
    "scrolled": false
   },
   "outputs": [
    {
     "data": {
      "image/png": "[encoded data removed]",
      "text/plain": [
       "<matplotlib.figure.Figure at 0x242a0185710>"
      ]
     },
     "metadata": {},
     "output_type": "display_data"
    }
   ],
   "source": [
    "import matplotlib.pyplot as plt\n",
    "plt.hist(datac.lens)\n",
    "plt.show()"
   ]
  },
  {
   "cell_type": "code",
   "execution_count": 8,
   "metadata": {},
   "outputs": [],
   "source": [
    "datac = datac[datac.lens < 5000]\n",
    "maxlenc = max(datac.lens)"
   ]
  },
  {
   "cell_type": "code",
   "execution_count": 9,
   "metadata": {
    "scrolled": true
   },
   "outputs": [
    {
     "data": {
      "image/png": "[encoded data removed]",
      "text/plain": [
       "<matplotlib.figure.Figure at 0x242a29170f0>"
      ]
     },
     "metadata": {},
     "output_type": "display_data"
    }
   ],
   "source": [
    "import matplotlib.pyplot as plt\n",
    "plt.hist(datac.lens)\n",
    "plt.show()"
   ]
  },
  {
   "cell_type": "code",
   "execution_count": 10,
   "metadata": {},
   "outputs": [],
   "source": [
    "datac['db']=datac.label.map(lambda x: x[10])"
   ]
  },
  {
   "cell_type": "markdown",
   "metadata": {},
   "source": [
    "# Labels Dist\n",
    "\n",
    "0. ABDOMINAL--------- 38.50\n",
    "1. ADVANCED-CAD------ 62.50\n",
    "2. ALCOHOL-ABUSE-----  3.50\n",
    "3. ASP-FOR-MI-------- 81.00\n",
    "4. CREATININE-------- 41.00\n",
    "5. DIETSUPP-2MOS----- 52.50\n",
    "6. DRUG-ABUSE--------  6.00\n",
    "7. ENGLISH----------- 96.00\n",
    "8. HBA1C------------- 33.50\n",
    "9. KETO-1YR----------  0.50\n",
    "10. MAJOR-DIABETES---- 56.50\n",
    "11. MAKES-DECISIONS--- 97.00\n",
    "12. MI-6MOS-----------  9.00\n"
   ]
  },
  {
   "cell_type": "markdown",
   "metadata": {},
   "source": [
    "### Creating Train data"
   ]
  },
  {
   "cell_type": "code",
   "execution_count": 11,
   "metadata": {},
   "outputs": [
    {
     "data": {
      "text/plain": [
       "((160, 9), (40, 9))"
      ]
     },
     "execution_count": 11,
     "metadata": {},
     "output_type": "execute_result"
    }
   ],
   "source": [
    "#datac=datac.sample(frac=0.05)\n",
    "trainc=datac.sample(frac=0.8,random_state=100)\n",
    "testc=datac.drop(trainc.index)\n",
    "\n",
    "trainc.shape, testc.shape"
   ]
  },
  {
   "cell_type": "code",
   "execution_count": 12,
   "metadata": {},
   "outputs": [],
   "source": [
    "X_trainc = sequence.pad_sequences(trainc.ind, maxlen=maxlenc)\n",
    "X_trainc = np.array([x.ravel() for x in X_trainc])"
   ]
  },
  {
   "cell_type": "code",
   "execution_count": 13,
   "metadata": {},
   "outputs": [
    {
     "data": {
      "text/plain": [
       "(160,)"
      ]
     },
     "execution_count": 13,
     "metadata": {},
     "output_type": "execute_result"
    }
   ],
   "source": [
    "y_trainc = np.array([x for x in trainc.db])\n",
    "y_trainc.shape"
   ]
  },
  {
   "cell_type": "markdown",
   "metadata": {},
   "source": [
    "# Creating and Training NN Model - Clamp"
   ]
  },
  {
   "cell_type": "code",
   "execution_count": 14,
   "metadata": {},
   "outputs": [
    {
     "name": "stdout",
     "output_type": "stream",
     "text": [
      "_________________________________________________________________\n",
      "Layer (type)                 Output Shape              Param #   \n",
      "=================================================================\n",
      "embedding_1 (Embedding)      (None, 82, 82)            37884     \n",
      "_________________________________________________________________\n",
      "dense_1 (Dense)              (None, 82, 200)           16600     \n",
      "_________________________________________________________________\n",
      "dropout_1 (Dropout)          (None, 82, 200)           0         \n",
      "_________________________________________________________________\n",
      "lstm_1 (LSTM)                (None, 100)               120400    \n",
      "_________________________________________________________________\n",
      "dense_2 (Dense)              (None, 1)                 101       \n",
      "=================================================================\n",
      "Total params: 174,985\n",
      "Trainable params: 174,985\n",
      "Non-trainable params: 0\n",
      "_________________________________________________________________\n",
      "None\n"
     ]
    }
   ],
   "source": [
    "import numpy\n",
    "import keras\n",
    "from keras.datasets import imdb\n",
    "from keras.models import Sequential\n",
    "from keras.layers import Dense\n",
    "from keras.layers import LSTM\n",
    "from keras.layers import GRU\n",
    "from keras.layers.convolutional import Conv1D\n",
    "from keras.layers.convolutional import MaxPooling1D\n",
    "from keras.layers.embeddings import Embedding\n",
    "from keras.layers import Flatten\n",
    "from keras.layers import Dropout\n",
    "from keras.preprocessing import sequence\n",
    "import numpy as np\n",
    "import random\n",
    "\n",
    "\n",
    "modelc = Sequential()\n",
    "modelc.add(Embedding(len(vocabc), maxlenc, input_length=X_trainc.shape[1]))\n",
    "modelc.add(Dense(200, activation='tanh'))\n",
    "modelc.add(Dropout(0.5))\n",
    "modelc.add(LSTM(100))\n",
    "modelc.add(Dense(1, activation='sigmoid'))\n",
    "modelc.compile(loss='binary_crossentropy', optimizer='adagrad', metrics=['accuracy'])\n",
    "print(modelc.summary())"
   ]
  },
  {
   "cell_type": "code",
   "execution_count": 15,
   "metadata": {},
   "outputs": [
    {
     "name": "stdout",
     "output_type": "stream",
     "text": [
      "Epoch 1/10\n",
      "160/160 [==============================] - 2s 9ms/step - loss: 0.6775 - acc: 0.5625\n",
      "Epoch 2/10\n",
      "160/160 [==============================] - 1s 5ms/step - loss: 2.0243 - acc: 0.4375\n",
      "Epoch 3/10\n",
      "160/160 [==============================] - 1s 4ms/step - loss: 0.5679 - acc: 0.7000\n",
      "Epoch 4/10\n",
      "160/160 [==============================] - 1s 4ms/step - loss: 0.5197 - acc: 0.7562\n",
      "Epoch 5/10\n",
      "160/160 [==============================] - 1s 4ms/step - loss: 0.4536 - acc: 0.7875\n",
      "Epoch 6/10\n",
      "160/160 [==============================] - 1s 4ms/step - loss: 0.5685 - acc: 0.6688\n",
      "Epoch 7/10\n",
      "160/160 [==============================] - 1s 5ms/step - loss: 0.3848 - acc: 0.8438\n",
      "Epoch 8/10\n",
      "160/160 [==============================] - 1s 4ms/step - loss: 0.3181 - acc: 0.8875\n",
      "Epoch 9/10\n",
      "160/160 [==============================] - 1s 4ms/step - loss: 0.2676 - acc: 0.9125\n",
      "Epoch 10/10\n",
      "160/160 [==============================] - 1s 4ms/step - loss: 0.2302 - acc: 0.9250\n"
     ]
    },
    {
     "data": {
      "text/plain": [
       "<keras.callbacks.History at 0x242a2b737b8>"
      ]
     },
     "execution_count": 15,
     "metadata": {},
     "output_type": "execute_result"
    }
   ],
   "source": [
    "modelc.fit(X_trainc, y_trainc, batch_size=128, epochs=10)"
   ]
  },
  {
   "cell_type": "code",
   "execution_count": 16,
   "metadata": {},
   "outputs": [],
   "source": [
    "modelc.save('Trained Models/model-bca.h5')"
   ]
  },
  {
   "cell_type": "code",
   "execution_count": null,
   "metadata": {},
   "outputs": [],
   "source": []
  }
 ],
 "metadata": {
  "kernelspec": {
   "display_name": "Python [default]",
   "language": "python",
   "name": "python3"
  },
  "language_info": {
   "codemirror_mode": {
    "name": "ipython",
    "version": 3
   },
   "file_extension": ".py",
   "mimetype": "text/x-python",
   "name": "python",
   "nbconvert_exporter": "python",
   "pygments_lexer": "ipython3",
   "version": "3.6.3"
  }
 },
 "nbformat": 4,
 "nbformat_minor": 2
}
