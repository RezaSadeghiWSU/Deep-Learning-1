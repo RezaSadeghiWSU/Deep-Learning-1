{
 "cells": [
  {
   "cell_type": "code",
   "execution_count": 43,
   "metadata": {},
   "outputs": [],
   "source": [
    "import numpy as np\n",
    "import pandas as pd"
   ]
  },
  {
   "cell_type": "markdown",
   "metadata": {},
   "source": [
    "# Read the data"
   ]
  },
  {
   "cell_type": "code",
   "execution_count": 44,
   "metadata": {},
   "outputs": [],
   "source": [
    "data=pd.DataFrame()\n",
    "data=pd.read_pickle('data-vna.pkl')\n",
    "datac=pd.read_pickle('data-clamp.pkl')"
   ]
  },
  {
   "cell_type": "code",
   "execution_count": 45,
   "metadata": {},
   "outputs": [
    {
     "data": {
      "text/html": [
       "<div>\n",
       "<style>\n",
       "    .dataframe thead tr:only-child th {\n",
       "        text-align: right;\n",
       "    }\n",
       "\n",
       "    .dataframe thead th {\n",
       "        text-align: left;\n",
       "    }\n",
       "\n",
       "    .dataframe tbody tr th {\n",
       "        vertical-align: top;\n",
       "    }\n",
       "</style>\n",
       "<table border=\"1\" class=\"dataframe\">\n",
       "  <thead>\n",
       "    <tr style=\"text-align: right;\">\n",
       "      <th></th>\n",
       "      <th>text</th>\n",
       "      <th>label</th>\n",
       "      <th>name</th>\n",
       "      <th>clean</th>\n",
       "      <th>diet</th>\n",
       "      <th>ind</th>\n",
       "    </tr>\n",
       "  </thead>\n",
       "  <tbody>\n",
       "    <tr>\n",
       "      <th>0</th>\n",
       "      <td>\\n\\nRecord date: 2106-02-12\\n\\nCampbell Orthop...</td>\n",
       "      <td>[0, 1, 0, 1, 0, 1, 0, 1, 0, 0, 1, 1, 1]</td>\n",
       "      <td>100</td>\n",
       "      <td>[problem, present, an, injury, to, his, left, ...</td>\n",
       "      <td>1</td>\n",
       "      <td>[6942, 6905, 1163, 4673, 8626, 4244, 5042, 122...</td>\n",
       "    </tr>\n",
       "    <tr>\n",
       "      <th>1</th>\n",
       "      <td>\\n\\nRecord date: 2079-05-12\\n\\n\\n\\n\\n\\nMERCY C...</td>\n",
       "      <td>[0, 1, 0, 1, 0, 0, 0, 1, 0, 0, 0, 1, 0]</td>\n",
       "      <td>101</td>\n",
       "      <td>[test, present, further, evaluation, problem, ...</td>\n",
       "      <td>0</td>\n",
       "      <td>[8463, 6905, 3806, 3405, 6942, 6905, 4114, 458...</td>\n",
       "    </tr>\n",
       "    <tr>\n",
       "      <th>2</th>\n",
       "      <td>\\n\\nRecord date: 2120-09-19\\n\\nPersonal Data a...</td>\n",
       "      <td>[1, 1, 0, 1, 0, 0, 0, 1, 0, 0, 1, 1, 0]</td>\n",
       "      <td>102</td>\n",
       "      <td>[treatment, present, multiple, tooth, extracti...</td>\n",
       "      <td>0</td>\n",
       "      <td>[8743, 6905, 5723, 8655, 3469, 6942, 6905, 865...</td>\n",
       "    </tr>\n",
       "    <tr>\n",
       "      <th>3</th>\n",
       "      <td>\\n\\nRecord date: 2067-11-24\\n\\n               ...</td>\n",
       "      <td>[0, 1, 0, 1, 0, 0, 0, 1, 0, 0, 0, 1, 0]</td>\n",
       "      <td>103</td>\n",
       "      <td>[problem, present, asthma, problem, present, n...</td>\n",
       "      <td>0</td>\n",
       "      <td>[6942, 6905, 1440, 6942, 6905, 6021, 2844, 694...</td>\n",
       "    </tr>\n",
       "    <tr>\n",
       "      <th>4</th>\n",
       "      <td>\\n\\nRecord date: 2094-02-16\\n\\nJENNIFER BOOKER...</td>\n",
       "      <td>[0, 1, 0, 0, 0, 0, 0, 1, 1, 0, 1, 1, 1]</td>\n",
       "      <td>104</td>\n",
       "      <td>[problem, present, urinary, urgency, problem, ...</td>\n",
       "      <td>0</td>\n",
       "      <td>[6942, 6905, 8968, 8964, 6942, 6905, 8243, 292...</td>\n",
       "    </tr>\n",
       "  </tbody>\n",
       "</table>\n",
       "</div>"
      ],
      "text/plain": [
       "                                                text  \\\n",
       "0  \\n\\nRecord date: 2106-02-12\\n\\nCampbell Orthop...   \n",
       "1  \\n\\nRecord date: 2079-05-12\\n\\n\\n\\n\\n\\nMERCY C...   \n",
       "2  \\n\\nRecord date: 2120-09-19\\n\\nPersonal Data a...   \n",
       "3  \\n\\nRecord date: 2067-11-24\\n\\n               ...   \n",
       "4  \\n\\nRecord date: 2094-02-16\\n\\nJENNIFER BOOKER...   \n",
       "\n",
       "                                     label  name  \\\n",
       "0  [0, 1, 0, 1, 0, 1, 0, 1, 0, 0, 1, 1, 1]   100   \n",
       "1  [0, 1, 0, 1, 0, 0, 0, 1, 0, 0, 0, 1, 0]   101   \n",
       "2  [1, 1, 0, 1, 0, 0, 0, 1, 0, 0, 1, 1, 0]   102   \n",
       "3  [0, 1, 0, 1, 0, 0, 0, 1, 0, 0, 0, 1, 0]   103   \n",
       "4  [0, 1, 0, 0, 0, 0, 0, 1, 1, 0, 1, 1, 1]   104   \n",
       "\n",
       "                                               clean  diet  \\\n",
       "0  [problem, present, an, injury, to, his, left, ...     1   \n",
       "1  [test, present, further, evaluation, problem, ...     0   \n",
       "2  [treatment, present, multiple, tooth, extracti...     0   \n",
       "3  [problem, present, asthma, problem, present, n...     0   \n",
       "4  [problem, present, urinary, urgency, problem, ...     0   \n",
       "\n",
       "                                                 ind  \n",
       "0  [6942, 6905, 1163, 4673, 8626, 4244, 5042, 122...  \n",
       "1  [8463, 6905, 3806, 3405, 6942, 6905, 4114, 458...  \n",
       "2  [8743, 6905, 5723, 8655, 3469, 6942, 6905, 865...  \n",
       "3  [6942, 6905, 1440, 6942, 6905, 6021, 2844, 694...  \n",
       "4  [6942, 6905, 8968, 8964, 6942, 6905, 8243, 292...  "
      ]
     },
     "execution_count": 45,
     "metadata": {},
     "output_type": "execute_result"
    }
   ],
   "source": [
    "datac.head()"
   ]
  },
  {
   "cell_type": "code",
   "execution_count": 46,
   "metadata": {},
   "outputs": [
    {
     "data": {
      "text/html": [
       "<div>\n",
       "<style>\n",
       "    .dataframe thead tr:only-child th {\n",
       "        text-align: right;\n",
       "    }\n",
       "\n",
       "    .dataframe thead th {\n",
       "        text-align: left;\n",
       "    }\n",
       "\n",
       "    .dataframe tbody tr th {\n",
       "        vertical-align: top;\n",
       "    }\n",
       "</style>\n",
       "<table border=\"1\" class=\"dataframe\">\n",
       "  <thead>\n",
       "    <tr style=\"text-align: right;\">\n",
       "      <th></th>\n",
       "      <th>text</th>\n",
       "      <th>label</th>\n",
       "      <th>split</th>\n",
       "      <th>ind</th>\n",
       "    </tr>\n",
       "  </thead>\n",
       "  <tbody>\n",
       "    <tr>\n",
       "      <th>0</th>\n",
       "      <td>associate  circle     .D.   Jr. 845-41-54-4 ...</td>\n",
       "      <td>[0, 1, 0, 1, 0, 1, 0, 1, 0, 0, 1, 1, 1]</td>\n",
       "      <td>[associate, circle, year, old, pound, gentlema...</td>\n",
       "      <td>[552, 1419, 9356, 5815, 6504, 3301, 7026, 1691...</td>\n",
       "    </tr>\n",
       "    <tr>\n",
       "      <th>1</th>\n",
       "      <td>MERCY care CENTER    associate    AR 72985   M...</td>\n",
       "      <td>[0, 1, 0, 1, 0, 0, 0, 1, 0, 0, 0, 1, 0]</td>\n",
       "      <td>[mercy, care, center, associate, come, further...</td>\n",
       "      <td>[5059, 1169, 1289, 552, 1575, 3213, 2786, 4334...</td>\n",
       "    </tr>\n",
       "    <tr>\n",
       "      <th>2</th>\n",
       "      <td>Personal  Overall   be 81 yr\\nold male present...</td>\n",
       "      <td>[1, 1, 0, 1, 0, 0, 0, 1, 0, 0, 1, 1, 0]</td>\n",
       "      <td>[personal, overall, old, male, present, multip...</td>\n",
       "      <td>[6245, 5963, 5815, 4901, 6576, 5334, 8531, 286...</td>\n",
       "    </tr>\n",
       "    <tr>\n",
       "      <th>3</th>\n",
       "      <td>HUNTINGTON EMERGENCY DEPT visit THOMAS-YOSEF,J...</td>\n",
       "      <td>[0, 1, 0, 1, 0, 0, 0, 1, 0, 0, 0, 1, 0]</td>\n",
       "      <td>[huntington, emergency, dept, visit, julium, v...</td>\n",
       "      <td>[3831, 2586, 2073, 9082, 4419, 9082, 1953, 612...</td>\n",
       "    </tr>\n",
       "    <tr>\n",
       "      <th>4</th>\n",
       "      <td>JENNIFER BOOKER LC Unit No NASHUA MEMORIAL HOS...</td>\n",
       "      <td>[0, 1, 0, 0, 0, 0, 0, 1, 1, 0, 1, 1, 1]</td>\n",
       "      <td>[jennifer, booker, unit, nashua, memorial, hos...</td>\n",
       "      <td>[4393, 942, 8808, 5427, 5040, 3779, 144, 1953,...</td>\n",
       "    </tr>\n",
       "  </tbody>\n",
       "</table>\n",
       "</div>"
      ],
      "text/plain": [
       "                                                text  \\\n",
       "0    associate  circle     .D.   Jr. 845-41-54-4 ...   \n",
       "1  MERCY care CENTER    associate    AR 72985   M...   \n",
       "2  Personal  Overall   be 81 yr\\nold male present...   \n",
       "3  HUNTINGTON EMERGENCY DEPT visit THOMAS-YOSEF,J...   \n",
       "4  JENNIFER BOOKER LC Unit No NASHUA MEMORIAL HOS...   \n",
       "\n",
       "                                     label  \\\n",
       "0  [0, 1, 0, 1, 0, 1, 0, 1, 0, 0, 1, 1, 1]   \n",
       "1  [0, 1, 0, 1, 0, 0, 0, 1, 0, 0, 0, 1, 0]   \n",
       "2  [1, 1, 0, 1, 0, 0, 0, 1, 0, 0, 1, 1, 0]   \n",
       "3  [0, 1, 0, 1, 0, 0, 0, 1, 0, 0, 0, 1, 0]   \n",
       "4  [0, 1, 0, 0, 0, 0, 0, 1, 1, 0, 1, 1, 1]   \n",
       "\n",
       "                                               split  \\\n",
       "0  [associate, circle, year, old, pound, gentlema...   \n",
       "1  [mercy, care, center, associate, come, further...   \n",
       "2  [personal, overall, old, male, present, multip...   \n",
       "3  [huntington, emergency, dept, visit, julium, v...   \n",
       "4  [jennifer, booker, unit, nashua, memorial, hos...   \n",
       "\n",
       "                                                 ind  \n",
       "0  [552, 1419, 9356, 5815, 6504, 3301, 7026, 1691...  \n",
       "1  [5059, 1169, 1289, 552, 1575, 3213, 2786, 4334...  \n",
       "2  [6245, 5963, 5815, 4901, 6576, 5334, 8531, 286...  \n",
       "3  [3831, 2586, 2073, 9082, 4419, 9082, 1953, 612...  \n",
       "4  [4393, 942, 8808, 5427, 5040, 3779, 144, 1953,...  "
      ]
     },
     "execution_count": 46,
     "metadata": {},
     "output_type": "execute_result"
    }
   ],
   "source": [
    "data.head()"
   ]
  },
  {
   "cell_type": "markdown",
   "metadata": {},
   "source": [
    "# Compute the size of Vocab and text"
   ]
  },
  {
   "cell_type": "code",
   "execution_count": 47,
   "metadata": {},
   "outputs": [],
   "source": [
    "import nltk\n",
    "from sklearn import preprocessing\n",
    "we = preprocessing.LabelEncoder()\n",
    "pstemmer = nltk.lancaster.LancasterStemmer()\n",
    "\n",
    "vocab  = set([pstemmer.stem(i) for x in data.split for i in x])"
   ]
  },
  {
   "cell_type": "code",
   "execution_count": 48,
   "metadata": {},
   "outputs": [],
   "source": [
    "import nltk\n",
    "from sklearn import preprocessing\n",
    "we = preprocessing.LabelEncoder()\n",
    "pstemmer = nltk.lancaster.LancasterStemmer()\n",
    "\n",
    "vocabc  = set([pstemmer.stem(i) for x in datac.clean for i in x])"
   ]
  },
  {
   "cell_type": "code",
   "execution_count": 49,
   "metadata": {},
   "outputs": [
    {
     "data": {
      "text/plain": [
       "(9426, 9385)"
      ]
     },
     "execution_count": 49,
     "metadata": {},
     "output_type": "execute_result"
    }
   ],
   "source": [
    "len(vocab), len(vocabc) "
   ]
  },
  {
   "cell_type": "code",
   "execution_count": 50,
   "metadata": {},
   "outputs": [
    {
     "data": {
      "text/plain": [
       "3293"
      ]
     },
     "execution_count": 50,
     "metadata": {},
     "output_type": "execute_result"
    }
   ],
   "source": [
    "from keras.preprocessing import sequence\n",
    "\n",
    "data['lens'] = data.ind.map(lambda x: len(x))\n",
    "maxlen = max(data.lens)\n",
    "data = data[data.lens != 0]\n",
    "maxlen"
   ]
  },
  {
   "cell_type": "code",
   "execution_count": 51,
   "metadata": {},
   "outputs": [
    {
     "data": {
      "text/plain": [
       "121675"
      ]
     },
     "execution_count": 51,
     "metadata": {},
     "output_type": "execute_result"
    }
   ],
   "source": [
    "from keras.preprocessing import sequence\n",
    "\n",
    "datac['lens'] = datac.ind.map(lambda x: len(x))\n",
    "maxlenc = max(datac.lens)\n",
    "datac = datac[datac.lens != 0]\n",
    "maxlenc"
   ]
  },
  {
   "cell_type": "code",
   "execution_count": 52,
   "metadata": {
    "scrolled": false
   },
   "outputs": [
    {
     "data": {
      "image/png": "[encoded data removed]",
      "text/plain": [
       "<matplotlib.figure.Figure at 0x2a003f5a860>"
      ]
     },
     "metadata": {},
     "output_type": "display_data"
    }
   ],
   "source": [
    "import matplotlib.pyplot as plt\n",
    "plt.hist(datac.lens)\n",
    "plt.show()"
   ]
  },
  {
   "cell_type": "code",
   "execution_count": 53,
   "metadata": {},
   "outputs": [],
   "source": [
    "datac = datac[datac.lens < 100000]\n",
    "maxlenc = max(datac.lens)"
   ]
  },
  {
   "cell_type": "code",
   "execution_count": 54,
   "metadata": {
    "scrolled": true
   },
   "outputs": [
    {
     "data": {
      "image/png": "[encoded data removed]",
      "text/plain": [
       "<matplotlib.figure.Figure at 0x2a005674a58>"
      ]
     },
     "metadata": {},
     "output_type": "display_data"
    }
   ],
   "source": [
    "import matplotlib.pyplot as plt\n",
    "plt.hist(datac.lens)\n",
    "plt.show()"
   ]
  },
  {
   "cell_type": "markdown",
   "metadata": {},
   "source": [
    "# Labels Dist\n",
    "\n",
    "0. ABDOMINAL--------- 38.50\n",
    "1. ADVANCED-CAD------ 62.50\n",
    "2. ALCOHOL-ABUSE-----  3.50\n",
    "3. ASP-FOR-MI-------- 81.00\n",
    "4. CREATININE-------- 41.00\n",
    "5. DIETSUPP-2MOS----- 52.50\n",
    "6. DRUG-ABUSE--------  6.00\n",
    "7. ENGLISH----------- 96.00\n",
    "8. HBA1C------------- 33.50\n",
    "9. KETO-1YR----------  0.50\n",
    "10. MAJOR-DIABETES---- 56.50\n",
    "11. MAKES-DECISIONS--- 97.00\n",
    "12. MI-6MOS-----------  9.00\n"
   ]
  },
  {
   "cell_type": "markdown",
   "metadata": {},
   "source": [
    "### picking the label with almost 50/50 dist"
   ]
  },
  {
   "cell_type": "code",
   "execution_count": 55,
   "metadata": {},
   "outputs": [],
   "source": [
    "data['diet']=data.label.map(lambda x: x[5])"
   ]
  },
  {
   "cell_type": "markdown",
   "metadata": {},
   "source": [
    "### Creating Train data"
   ]
  },
  {
   "cell_type": "code",
   "execution_count": 56,
   "metadata": {},
   "outputs": [
    {
     "data": {
      "text/plain": [
       "((8, 6), (2, 6))"
      ]
     },
     "execution_count": 56,
     "metadata": {},
     "output_type": "execute_result"
    }
   ],
   "source": [
    "#data=data.sample(frac=0.05)\n",
    "train=data.sample(frac=0.8)\n",
    "test=data.drop(train.index)\n",
    "\n",
    "train.shape, test.shape"
   ]
  },
  {
   "cell_type": "code",
   "execution_count": 57,
   "metadata": {},
   "outputs": [
    {
     "data": {
      "text/plain": [
       "((8, 7), (2, 7))"
      ]
     },
     "execution_count": 57,
     "metadata": {},
     "output_type": "execute_result"
    }
   ],
   "source": [
    "#datac=datac.sample(frac=0.05)\n",
    "trainc=datac.sample(frac=0.8)\n",
    "testc=datac.drop(trainc.index)\n",
    "\n",
    "trainc.shape, testc.shape"
   ]
  },
  {
   "cell_type": "code",
   "execution_count": 58,
   "metadata": {},
   "outputs": [],
   "source": [
    "X_train = sequence.pad_sequences(train.ind, maxlen=maxlen)\n",
    "X_train = np.array([x.ravel() for x in X_train])"
   ]
  },
  {
   "cell_type": "code",
   "execution_count": 59,
   "metadata": {},
   "outputs": [
    {
     "data": {
      "text/plain": [
       "(8,)"
      ]
     },
     "execution_count": 59,
     "metadata": {},
     "output_type": "execute_result"
    }
   ],
   "source": [
    "y_train = np.array([x for x in train.diet])\n",
    "y_train.shape"
   ]
  },
  {
   "cell_type": "code",
   "execution_count": 60,
   "metadata": {},
   "outputs": [],
   "source": [
    "X_trainc = sequence.pad_sequences(trainc.ind, maxlen=maxlenc)\n",
    "X_trainc = np.array([x.ravel() for x in X_trainc])"
   ]
  },
  {
   "cell_type": "code",
   "execution_count": 61,
   "metadata": {},
   "outputs": [
    {
     "data": {
      "text/plain": [
       "(8,)"
      ]
     },
     "execution_count": 61,
     "metadata": {},
     "output_type": "execute_result"
    }
   ],
   "source": [
    "y_trainc = np.array([x for x in trainc.diet])\n",
    "y_trainc.shape"
   ]
  },
  {
   "cell_type": "markdown",
   "metadata": {},
   "source": [
    "# Creating NN Model - VNA"
   ]
  },
  {
   "cell_type": "code",
   "execution_count": 62,
   "metadata": {},
   "outputs": [
    {
     "name": "stdout",
     "output_type": "stream",
     "text": [
      "_________________________________________________________________\n",
      "Layer (type)                 Output Shape              Param #   \n",
      "=================================================================\n",
      "embedding_4 (Embedding)      (None, 3293, 3293)        31039818  \n",
      "_________________________________________________________________\n",
      "dense_7 (Dense)              (None, 3293, 100)         329400    \n",
      "_________________________________________________________________\n",
      "dropout_4 (Dropout)          (None, 3293, 100)         0         \n",
      "_________________________________________________________________\n",
      "lstm_4 (LSTM)                (None, 100)               80400     \n",
      "_________________________________________________________________\n",
      "dense_8 (Dense)              (None, 1)                 101       \n",
      "=================================================================\n",
      "Total params: 31,449,719\n",
      "Trainable params: 31,449,719\n",
      "Non-trainable params: 0\n",
      "_________________________________________________________________\n",
      "None\n"
     ]
    }
   ],
   "source": [
    "import numpy\n",
    "import keras\n",
    "from keras.datasets import imdb\n",
    "from keras.models import Sequential\n",
    "from keras.layers import Dense\n",
    "from keras.layers import LSTM\n",
    "from keras.layers import GRU\n",
    "from keras.layers.convolutional import Conv1D\n",
    "from keras.layers.convolutional import MaxPooling1D\n",
    "from keras.layers.embeddings import Embedding\n",
    "from keras.layers import Flatten\n",
    "from keras.layers import Dropout\n",
    "from keras.preprocessing import sequence\n",
    "import numpy as np\n",
    "import random\n",
    "\n",
    "model = Sequential()\n",
    "model.add(Embedding(len(vocab), maxlen, input_length=X_train.shape[1]))\n",
    "model.add(Dense(100, activation='sigmoid'))\n",
    "model.add(Dropout(0.5))\n",
    "model.add(LSTM(100))\n",
    "model.add(Dense(1, activation='sigmoid'))\n",
    "model.compile(loss='binary_crossentropy', optimizer='adagrad', metrics=['accuracy'])\n",
    "print(model.summary())"
   ]
  },
  {
   "cell_type": "markdown",
   "metadata": {},
   "source": [
    "# Training the Model - VNA"
   ]
  },
  {
   "cell_type": "code",
   "execution_count": 37,
   "metadata": {},
   "outputs": [
    {
     "name": "stdout",
     "output_type": "stream",
     "text": [
      "Epoch 1/2\n",
      "8/8 [==============================] - 23s 3s/step - loss: 0.6662 - acc: 0.6250\n",
      "Epoch 2/2\n",
      "8/8 [==============================] - 5s 563ms/step - loss: 1.6489 - acc: 0.6250\n"
     ]
    },
    {
     "data": {
      "text/plain": [
       "<keras.callbacks.History at 0x2a077a49630>"
      ]
     },
     "execution_count": 37,
     "metadata": {},
     "output_type": "execute_result"
    }
   ],
   "source": [
    "model.fit(X_train, y_train, batch_size=128, epochs=10)"
   ]
  },
  {
   "cell_type": "code",
   "execution_count": 38,
   "metadata": {},
   "outputs": [],
   "source": [
    "from keras.models import load_model\n",
    "\n",
    "model.save('model-vna.h5')"
   ]
  },
  {
   "cell_type": "markdown",
   "metadata": {},
   "source": [
    "# Creating and Training NN Model - Clamp"
   ]
  },
  {
   "cell_type": "code",
   "execution_count": 63,
   "metadata": {},
   "outputs": [
    {
     "name": "stdout",
     "output_type": "stream",
     "text": [
      "_________________________________________________________________\n",
      "Layer (type)                 Output Shape              Param #   \n",
      "=================================================================\n",
      "embedding_5 (Embedding)      (None, 61133, 61133)      573733205 \n",
      "_________________________________________________________________\n",
      "dense_9 (Dense)              (None, 61133, 100)        6113400   \n",
      "_________________________________________________________________\n",
      "dropout_5 (Dropout)          (None, 61133, 100)        0         \n",
      "_________________________________________________________________\n",
      "lstm_5 (LSTM)                (None, 100)               80400     \n",
      "_________________________________________________________________\n",
      "dense_10 (Dense)             (None, 1)                 101       \n",
      "=================================================================\n",
      "Total params: 579,927,106\n",
      "Trainable params: 579,927,106\n",
      "Non-trainable params: 0\n",
      "_________________________________________________________________\n",
      "None\n"
     ]
    }
   ],
   "source": [
    "modelc = Sequential()\n",
    "modelc.add(Embedding(len(vocabc), maxlenc, input_length=X_trainc.shape[1]))\n",
    "modelc.add(Dense(100, activation='sigmoid'))\n",
    "modelc.add(Dropout(0.5))\n",
    "modelc.add(LSTM(100))\n",
    "modelc.add(Dense(1, activation='sigmoid'))\n",
    "modelc.compile(loss='binary_crossentropy', optimizer='adagrad', metrics=['accuracy'])\n",
    "print(modelc.summary())"
   ]
  },
  {
   "cell_type": "code",
   "execution_count": 64,
   "metadata": {},
   "outputs": [
    {
     "name": "stderr",
     "output_type": "stream",
     "text": [
      "C:\\Users\\rezvanjoshaghani\\Anaconda\\lib\\site-packages\\tensorflow\\python\\ops\\gradients_impl.py:90: UserWarning: Converting sparse IndexedSlices to a dense Tensor with 573733205 elements. This may consume a large amount of memory.\n",
      "  \"This may consume a large amount of memory.\" % num_elements)\n"
     ]
    },
    {
     "name": "stdout",
     "output_type": "stream",
     "text": [
      "Epoch 1/2\n"
     ]
    },
    {
     "ename": "ResourceExhaustedError",
     "evalue": "OOM when allocating tensor with shape[8,61133,61133]\n\t [[Node: embedding_5/Gather = Gather[Tindices=DT_INT32, Tparams=DT_FLOAT, validate_indices=true, _device=\"/job:localhost/replica:0/task:0/cpu:0\"](embedding_5/embeddings/read, embedding_5/Cast)]]\n\nCaused by op 'embedding_5/Gather', defined at:\n  File \"C:\\Users\\rezvanjoshaghani\\Anaconda\\lib\\runpy.py\", line 193, in _run_module_as_main\n    \"__main__\", mod_spec)\n  File \"C:\\Users\\rezvanjoshaghani\\Anaconda\\lib\\runpy.py\", line 85, in _run_code\n    exec(code, run_globals)\n  File \"C:\\Users\\rezvanjoshaghani\\AppData\\Roaming\\Python\\Python36\\site-packages\\ipykernel\\__main__.py\", line 3, in <module>\n    app.launch_new_instance()\n  File \"C:\\Users\\rezvanjoshaghani\\AppData\\Roaming\\Python\\Python36\\site-packages\\traitlets\\config\\application.py\", line 658, in launch_instance\n    app.start()\n  File \"C:\\Users\\rezvanjoshaghani\\AppData\\Roaming\\Python\\Python36\\site-packages\\ipykernel\\kernelapp.py\", line 477, in start\n    ioloop.IOLoop.instance().start()\n  File \"C:\\Users\\rezvanjoshaghani\\AppData\\Roaming\\Python\\Python36\\site-packages\\zmq\\eventloop\\ioloop.py\", line 177, in start\n    super(ZMQIOLoop, self).start()\n  File \"C:\\Users\\rezvanjoshaghani\\AppData\\Roaming\\Python\\Python36\\site-packages\\tornado\\ioloop.py\", line 888, in start\n    handler_func(fd_obj, events)\n  File \"C:\\Users\\rezvanjoshaghani\\AppData\\Roaming\\Python\\Python36\\site-packages\\tornado\\stack_context.py\", line 277, in null_wrapper\n    return fn(*args, **kwargs)\n  File \"C:\\Users\\rezvanjoshaghani\\AppData\\Roaming\\Python\\Python36\\site-packages\\zmq\\eventloop\\zmqstream.py\", line 440, in _handle_events\n    self._handle_recv()\n  File \"C:\\Users\\rezvanjoshaghani\\AppData\\Roaming\\Python\\Python36\\site-packages\\zmq\\eventloop\\zmqstream.py\", line 472, in _handle_recv\n    self._run_callback(callback, msg)\n  File \"C:\\Users\\rezvanjoshaghani\\AppData\\Roaming\\Python\\Python36\\site-packages\\zmq\\eventloop\\zmqstream.py\", line 414, in _run_callback\n    callback(*args, **kwargs)\n  File \"C:\\Users\\rezvanjoshaghani\\AppData\\Roaming\\Python\\Python36\\site-packages\\tornado\\stack_context.py\", line 277, in null_wrapper\n    return fn(*args, **kwargs)\n  File \"C:\\Users\\rezvanjoshaghani\\AppData\\Roaming\\Python\\Python36\\site-packages\\ipykernel\\kernelbase.py\", line 283, in dispatcher\n    return self.dispatch_shell(stream, msg)\n  File \"C:\\Users\\rezvanjoshaghani\\AppData\\Roaming\\Python\\Python36\\site-packages\\ipykernel\\kernelbase.py\", line 235, in dispatch_shell\n    handler(stream, idents, msg)\n  File \"C:\\Users\\rezvanjoshaghani\\AppData\\Roaming\\Python\\Python36\\site-packages\\ipykernel\\kernelbase.py\", line 399, in execute_request\n    user_expressions, allow_stdin)\n  File \"C:\\Users\\rezvanjoshaghani\\AppData\\Roaming\\Python\\Python36\\site-packages\\ipykernel\\ipkernel.py\", line 196, in do_execute\n    res = shell.run_cell(code, store_history=store_history, silent=silent)\n  File \"C:\\Users\\rezvanjoshaghani\\AppData\\Roaming\\Python\\Python36\\site-packages\\ipykernel\\zmqshell.py\", line 533, in run_cell\n    return super(ZMQInteractiveShell, self).run_cell(*args, **kwargs)\n  File \"C:\\Users\\rezvanjoshaghani\\AppData\\Roaming\\Python\\Python36\\site-packages\\IPython\\core\\interactiveshell.py\", line 2728, in run_cell\n    interactivity=interactivity, compiler=compiler, result=result)\n  File \"C:\\Users\\rezvanjoshaghani\\AppData\\Roaming\\Python\\Python36\\site-packages\\IPython\\core\\interactiveshell.py\", line 2850, in run_ast_nodes\n    if self.run_code(code, result):\n  File \"C:\\Users\\rezvanjoshaghani\\AppData\\Roaming\\Python\\Python36\\site-packages\\IPython\\core\\interactiveshell.py\", line 2910, in run_code\n    exec(code_obj, self.user_global_ns, self.user_ns)\n  File \"<ipython-input-63-4b2e79ca6adc>\", line 2, in <module>\n    modelc.add(Embedding(len(vocabc), maxlenc, input_length=X_trainc.shape[1]))\n  File \"C:\\Users\\rezvanjoshaghani\\Anaconda\\lib\\site-packages\\keras\\models.py\", line 464, in add\n    layer(x)\n  File \"C:\\Users\\rezvanjoshaghani\\Anaconda\\lib\\site-packages\\keras\\engine\\topology.py\", line 603, in __call__\n    output = self.call(inputs, **kwargs)\n  File \"C:\\Users\\rezvanjoshaghani\\Anaconda\\lib\\site-packages\\keras\\layers\\embeddings.py\", line 134, in call\n    out = K.gather(self.embeddings, inputs)\n  File \"C:\\Users\\rezvanjoshaghani\\Anaconda\\lib\\site-packages\\keras\\backend\\tensorflow_backend.py\", line 1188, in gather\n    return tf.gather(reference, indices)\n  File \"C:\\Users\\rezvanjoshaghani\\Anaconda\\lib\\site-packages\\tensorflow\\python\\ops\\gen_array_ops.py\", line 1179, in gather\n    validate_indices=validate_indices, name=name)\n  File \"C:\\Users\\rezvanjoshaghani\\Anaconda\\lib\\site-packages\\tensorflow\\python\\framework\\op_def_library.py\", line 767, in apply_op\n    op_def=op_def)\n  File \"C:\\Users\\rezvanjoshaghani\\Anaconda\\lib\\site-packages\\tensorflow\\python\\framework\\ops.py\", line 2506, in create_op\n    original_op=self._default_original_op, op_def=op_def)\n  File \"C:\\Users\\rezvanjoshaghani\\Anaconda\\lib\\site-packages\\tensorflow\\python\\framework\\ops.py\", line 1269, in __init__\n    self._traceback = _extract_stack()\n\nResourceExhaustedError (see above for traceback): OOM when allocating tensor with shape[8,61133,61133]\n\t [[Node: embedding_5/Gather = Gather[Tindices=DT_INT32, Tparams=DT_FLOAT, validate_indices=true, _device=\"/job:localhost/replica:0/task:0/cpu:0\"](embedding_5/embeddings/read, embedding_5/Cast)]]\n",
     "output_type": "error",
     "traceback": [
      "\u001b[1;31m---------------------------------------------------------------------------\u001b[0m",
      "\u001b[1;31mResourceExhaustedError\u001b[0m                    Traceback (most recent call last)",
      "\u001b[1;32m~\\Anaconda\\lib\\site-packages\\tensorflow\\python\\client\\session.py\u001b[0m in \u001b[0;36m_do_call\u001b[1;34m(self, fn, *args)\u001b[0m\n\u001b[0;32m   1138\u001b[0m     \u001b[1;32mtry\u001b[0m\u001b[1;33m:\u001b[0m\u001b[1;33m\u001b[0m\u001b[0m\n\u001b[1;32m-> 1139\u001b[1;33m       \u001b[1;32mreturn\u001b[0m \u001b[0mfn\u001b[0m\u001b[1;33m(\u001b[0m\u001b[1;33m*\u001b[0m\u001b[0margs\u001b[0m\u001b[1;33m)\u001b[0m\u001b[1;33m\u001b[0m\u001b[0m\n\u001b[0m\u001b[0;32m   1140\u001b[0m     \u001b[1;32mexcept\u001b[0m \u001b[0merrors\u001b[0m\u001b[1;33m.\u001b[0m\u001b[0mOpError\u001b[0m \u001b[1;32mas\u001b[0m \u001b[0me\u001b[0m\u001b[1;33m:\u001b[0m\u001b[1;33m\u001b[0m\u001b[0m\n",
      "\u001b[1;32m~\\Anaconda\\lib\\site-packages\\tensorflow\\python\\client\\session.py\u001b[0m in \u001b[0;36m_run_fn\u001b[1;34m(session, feed_dict, fetch_list, target_list, options, run_metadata)\u001b[0m\n\u001b[0;32m   1120\u001b[0m                                  \u001b[0mfeed_dict\u001b[0m\u001b[1;33m,\u001b[0m \u001b[0mfetch_list\u001b[0m\u001b[1;33m,\u001b[0m \u001b[0mtarget_list\u001b[0m\u001b[1;33m,\u001b[0m\u001b[1;33m\u001b[0m\u001b[0m\n\u001b[1;32m-> 1121\u001b[1;33m                                  status, run_metadata)\n\u001b[0m\u001b[0;32m   1122\u001b[0m \u001b[1;33m\u001b[0m\u001b[0m\n",
      "\u001b[1;32m~\\Anaconda\\lib\\contextlib.py\u001b[0m in \u001b[0;36m__exit__\u001b[1;34m(self, type, value, traceback)\u001b[0m\n\u001b[0;32m     87\u001b[0m             \u001b[1;32mtry\u001b[0m\u001b[1;33m:\u001b[0m\u001b[1;33m\u001b[0m\u001b[0m\n\u001b[1;32m---> 88\u001b[1;33m                 \u001b[0mnext\u001b[0m\u001b[1;33m(\u001b[0m\u001b[0mself\u001b[0m\u001b[1;33m.\u001b[0m\u001b[0mgen\u001b[0m\u001b[1;33m)\u001b[0m\u001b[1;33m\u001b[0m\u001b[0m\n\u001b[0m\u001b[0;32m     89\u001b[0m             \u001b[1;32mexcept\u001b[0m \u001b[0mStopIteration\u001b[0m\u001b[1;33m:\u001b[0m\u001b[1;33m\u001b[0m\u001b[0m\n",
      "\u001b[1;32m~\\Anaconda\\lib\\site-packages\\tensorflow\\python\\framework\\errors_impl.py\u001b[0m in \u001b[0;36mraise_exception_on_not_ok_status\u001b[1;34m()\u001b[0m\n\u001b[0;32m    465\u001b[0m           \u001b[0mcompat\u001b[0m\u001b[1;33m.\u001b[0m\u001b[0mas_text\u001b[0m\u001b[1;33m(\u001b[0m\u001b[0mpywrap_tensorflow\u001b[0m\u001b[1;33m.\u001b[0m\u001b[0mTF_Message\u001b[0m\u001b[1;33m(\u001b[0m\u001b[0mstatus\u001b[0m\u001b[1;33m)\u001b[0m\u001b[1;33m)\u001b[0m\u001b[1;33m,\u001b[0m\u001b[1;33m\u001b[0m\u001b[0m\n\u001b[1;32m--> 466\u001b[1;33m           pywrap_tensorflow.TF_GetCode(status))\n\u001b[0m\u001b[0;32m    467\u001b[0m   \u001b[1;32mfinally\u001b[0m\u001b[1;33m:\u001b[0m\u001b[1;33m\u001b[0m\u001b[0m\n",
      "\u001b[1;31mResourceExhaustedError\u001b[0m: OOM when allocating tensor with shape[8,61133,61133]\n\t [[Node: embedding_5/Gather = Gather[Tindices=DT_INT32, Tparams=DT_FLOAT, validate_indices=true, _device=\"/job:localhost/replica:0/task:0/cpu:0\"](embedding_5/embeddings/read, embedding_5/Cast)]]",
      "\nDuring handling of the above exception, another exception occurred:\n",
      "\u001b[1;31mResourceExhaustedError\u001b[0m                    Traceback (most recent call last)",
      "\u001b[1;32m<ipython-input-64-816ec7a67481>\u001b[0m in \u001b[0;36m<module>\u001b[1;34m()\u001b[0m\n\u001b[1;32m----> 1\u001b[1;33m \u001b[0mmodelc\u001b[0m\u001b[1;33m.\u001b[0m\u001b[0mfit\u001b[0m\u001b[1;33m(\u001b[0m\u001b[0mX_trainc\u001b[0m\u001b[1;33m,\u001b[0m \u001b[0my_trainc\u001b[0m\u001b[1;33m,\u001b[0m \u001b[0mbatch_size\u001b[0m\u001b[1;33m=\u001b[0m\u001b[1;36m128\u001b[0m\u001b[1;33m,\u001b[0m \u001b[0mepochs\u001b[0m\u001b[1;33m=\u001b[0m\u001b[1;36m2\u001b[0m\u001b[1;33m)\u001b[0m\u001b[1;33m\u001b[0m\u001b[0m\n\u001b[0m",
      "\u001b[1;32m~\\Anaconda\\lib\\site-packages\\keras\\models.py\u001b[0m in \u001b[0;36mfit\u001b[1;34m(self, x, y, batch_size, epochs, verbose, callbacks, validation_split, validation_data, shuffle, class_weight, sample_weight, initial_epoch, steps_per_epoch, validation_steps, **kwargs)\u001b[0m\n\u001b[0;32m    958\u001b[0m                               \u001b[0minitial_epoch\u001b[0m\u001b[1;33m=\u001b[0m\u001b[0minitial_epoch\u001b[0m\u001b[1;33m,\u001b[0m\u001b[1;33m\u001b[0m\u001b[0m\n\u001b[0;32m    959\u001b[0m                               \u001b[0msteps_per_epoch\u001b[0m\u001b[1;33m=\u001b[0m\u001b[0msteps_per_epoch\u001b[0m\u001b[1;33m,\u001b[0m\u001b[1;33m\u001b[0m\u001b[0m\n\u001b[1;32m--> 960\u001b[1;33m                               validation_steps=validation_steps)\n\u001b[0m\u001b[0;32m    961\u001b[0m \u001b[1;33m\u001b[0m\u001b[0m\n\u001b[0;32m    962\u001b[0m     def evaluate(self, x, y, batch_size=32, verbose=1,\n",
      "\u001b[1;32m~\\Anaconda\\lib\\site-packages\\keras\\engine\\training.py\u001b[0m in \u001b[0;36mfit\u001b[1;34m(self, x, y, batch_size, epochs, verbose, callbacks, validation_split, validation_data, shuffle, class_weight, sample_weight, initial_epoch, steps_per_epoch, validation_steps, **kwargs)\u001b[0m\n\u001b[0;32m   1648\u001b[0m                               \u001b[0minitial_epoch\u001b[0m\u001b[1;33m=\u001b[0m\u001b[0minitial_epoch\u001b[0m\u001b[1;33m,\u001b[0m\u001b[1;33m\u001b[0m\u001b[0m\n\u001b[0;32m   1649\u001b[0m                               \u001b[0msteps_per_epoch\u001b[0m\u001b[1;33m=\u001b[0m\u001b[0msteps_per_epoch\u001b[0m\u001b[1;33m,\u001b[0m\u001b[1;33m\u001b[0m\u001b[0m\n\u001b[1;32m-> 1650\u001b[1;33m                               validation_steps=validation_steps)\n\u001b[0m\u001b[0;32m   1651\u001b[0m \u001b[1;33m\u001b[0m\u001b[0m\n\u001b[0;32m   1652\u001b[0m     def evaluate(self, x=None, y=None,\n",
      "\u001b[1;32m~\\Anaconda\\lib\\site-packages\\keras\\engine\\training.py\u001b[0m in \u001b[0;36m_fit_loop\u001b[1;34m(self, f, ins, out_labels, batch_size, epochs, verbose, callbacks, val_f, val_ins, shuffle, callback_metrics, initial_epoch, steps_per_epoch, validation_steps)\u001b[0m\n\u001b[0;32m   1211\u001b[0m                     \u001b[0mbatch_logs\u001b[0m\u001b[1;33m[\u001b[0m\u001b[1;34m'size'\u001b[0m\u001b[1;33m]\u001b[0m \u001b[1;33m=\u001b[0m \u001b[0mlen\u001b[0m\u001b[1;33m(\u001b[0m\u001b[0mbatch_ids\u001b[0m\u001b[1;33m)\u001b[0m\u001b[1;33m\u001b[0m\u001b[0m\n\u001b[0;32m   1212\u001b[0m                     \u001b[0mcallbacks\u001b[0m\u001b[1;33m.\u001b[0m\u001b[0mon_batch_begin\u001b[0m\u001b[1;33m(\u001b[0m\u001b[0mbatch_index\u001b[0m\u001b[1;33m,\u001b[0m \u001b[0mbatch_logs\u001b[0m\u001b[1;33m)\u001b[0m\u001b[1;33m\u001b[0m\u001b[0m\n\u001b[1;32m-> 1213\u001b[1;33m                     \u001b[0mouts\u001b[0m \u001b[1;33m=\u001b[0m \u001b[0mf\u001b[0m\u001b[1;33m(\u001b[0m\u001b[0mins_batch\u001b[0m\u001b[1;33m)\u001b[0m\u001b[1;33m\u001b[0m\u001b[0m\n\u001b[0m\u001b[0;32m   1214\u001b[0m                     \u001b[1;32mif\u001b[0m \u001b[1;32mnot\u001b[0m \u001b[0misinstance\u001b[0m\u001b[1;33m(\u001b[0m\u001b[0mouts\u001b[0m\u001b[1;33m,\u001b[0m \u001b[0mlist\u001b[0m\u001b[1;33m)\u001b[0m\u001b[1;33m:\u001b[0m\u001b[1;33m\u001b[0m\u001b[0m\n\u001b[0;32m   1215\u001b[0m                         \u001b[0mouts\u001b[0m \u001b[1;33m=\u001b[0m \u001b[1;33m[\u001b[0m\u001b[0mouts\u001b[0m\u001b[1;33m]\u001b[0m\u001b[1;33m\u001b[0m\u001b[0m\n",
      "\u001b[1;32m~\\Anaconda\\lib\\site-packages\\keras\\backend\\tensorflow_backend.py\u001b[0m in \u001b[0;36m__call__\u001b[1;34m(self, inputs)\u001b[0m\n\u001b[0;32m   2350\u001b[0m         \u001b[0msession\u001b[0m \u001b[1;33m=\u001b[0m \u001b[0mget_session\u001b[0m\u001b[1;33m(\u001b[0m\u001b[1;33m)\u001b[0m\u001b[1;33m\u001b[0m\u001b[0m\n\u001b[0;32m   2351\u001b[0m         updated = session.run(fetches=fetches, feed_dict=feed_dict,\n\u001b[1;32m-> 2352\u001b[1;33m                               **self.session_kwargs)\n\u001b[0m\u001b[0;32m   2353\u001b[0m         \u001b[1;32mreturn\u001b[0m \u001b[0mupdated\u001b[0m\u001b[1;33m[\u001b[0m\u001b[1;33m:\u001b[0m\u001b[0mlen\u001b[0m\u001b[1;33m(\u001b[0m\u001b[0mself\u001b[0m\u001b[1;33m.\u001b[0m\u001b[0moutputs\u001b[0m\u001b[1;33m)\u001b[0m\u001b[1;33m]\u001b[0m\u001b[1;33m\u001b[0m\u001b[0m\n\u001b[0;32m   2354\u001b[0m \u001b[1;33m\u001b[0m\u001b[0m\n",
      "\u001b[1;32m~\\Anaconda\\lib\\site-packages\\tensorflow\\python\\client\\session.py\u001b[0m in \u001b[0;36mrun\u001b[1;34m(self, fetches, feed_dict, options, run_metadata)\u001b[0m\n\u001b[0;32m    787\u001b[0m     \u001b[1;32mtry\u001b[0m\u001b[1;33m:\u001b[0m\u001b[1;33m\u001b[0m\u001b[0m\n\u001b[0;32m    788\u001b[0m       result = self._run(None, fetches, feed_dict, options_ptr,\n\u001b[1;32m--> 789\u001b[1;33m                          run_metadata_ptr)\n\u001b[0m\u001b[0;32m    790\u001b[0m       \u001b[1;32mif\u001b[0m \u001b[0mrun_metadata\u001b[0m\u001b[1;33m:\u001b[0m\u001b[1;33m\u001b[0m\u001b[0m\n\u001b[0;32m    791\u001b[0m         \u001b[0mproto_data\u001b[0m \u001b[1;33m=\u001b[0m \u001b[0mtf_session\u001b[0m\u001b[1;33m.\u001b[0m\u001b[0mTF_GetBuffer\u001b[0m\u001b[1;33m(\u001b[0m\u001b[0mrun_metadata_ptr\u001b[0m\u001b[1;33m)\u001b[0m\u001b[1;33m\u001b[0m\u001b[0m\n",
      "\u001b[1;32m~\\Anaconda\\lib\\site-packages\\tensorflow\\python\\client\\session.py\u001b[0m in \u001b[0;36m_run\u001b[1;34m(self, handle, fetches, feed_dict, options, run_metadata)\u001b[0m\n\u001b[0;32m    995\u001b[0m     \u001b[1;32mif\u001b[0m \u001b[0mfinal_fetches\u001b[0m \u001b[1;32mor\u001b[0m \u001b[0mfinal_targets\u001b[0m\u001b[1;33m:\u001b[0m\u001b[1;33m\u001b[0m\u001b[0m\n\u001b[0;32m    996\u001b[0m       results = self._do_run(handle, final_targets, final_fetches,\n\u001b[1;32m--> 997\u001b[1;33m                              feed_dict_string, options, run_metadata)\n\u001b[0m\u001b[0;32m    998\u001b[0m     \u001b[1;32melse\u001b[0m\u001b[1;33m:\u001b[0m\u001b[1;33m\u001b[0m\u001b[0m\n\u001b[0;32m    999\u001b[0m       \u001b[0mresults\u001b[0m \u001b[1;33m=\u001b[0m \u001b[1;33m[\u001b[0m\u001b[1;33m]\u001b[0m\u001b[1;33m\u001b[0m\u001b[0m\n",
      "\u001b[1;32m~\\Anaconda\\lib\\site-packages\\tensorflow\\python\\client\\session.py\u001b[0m in \u001b[0;36m_do_run\u001b[1;34m(self, handle, target_list, fetch_list, feed_dict, options, run_metadata)\u001b[0m\n\u001b[0;32m   1130\u001b[0m     \u001b[1;32mif\u001b[0m \u001b[0mhandle\u001b[0m \u001b[1;32mis\u001b[0m \u001b[1;32mNone\u001b[0m\u001b[1;33m:\u001b[0m\u001b[1;33m\u001b[0m\u001b[0m\n\u001b[0;32m   1131\u001b[0m       return self._do_call(_run_fn, self._session, feed_dict, fetch_list,\n\u001b[1;32m-> 1132\u001b[1;33m                            target_list, options, run_metadata)\n\u001b[0m\u001b[0;32m   1133\u001b[0m     \u001b[1;32melse\u001b[0m\u001b[1;33m:\u001b[0m\u001b[1;33m\u001b[0m\u001b[0m\n\u001b[0;32m   1134\u001b[0m       return self._do_call(_prun_fn, self._session, handle, feed_dict,\n",
      "\u001b[1;32m~\\Anaconda\\lib\\site-packages\\tensorflow\\python\\client\\session.py\u001b[0m in \u001b[0;36m_do_call\u001b[1;34m(self, fn, *args)\u001b[0m\n\u001b[0;32m   1150\u001b[0m         \u001b[1;32mexcept\u001b[0m \u001b[0mKeyError\u001b[0m\u001b[1;33m:\u001b[0m\u001b[1;33m\u001b[0m\u001b[0m\n\u001b[0;32m   1151\u001b[0m           \u001b[1;32mpass\u001b[0m\u001b[1;33m\u001b[0m\u001b[0m\n\u001b[1;32m-> 1152\u001b[1;33m       \u001b[1;32mraise\u001b[0m \u001b[0mtype\u001b[0m\u001b[1;33m(\u001b[0m\u001b[0me\u001b[0m\u001b[1;33m)\u001b[0m\u001b[1;33m(\u001b[0m\u001b[0mnode_def\u001b[0m\u001b[1;33m,\u001b[0m \u001b[0mop\u001b[0m\u001b[1;33m,\u001b[0m \u001b[0mmessage\u001b[0m\u001b[1;33m)\u001b[0m\u001b[1;33m\u001b[0m\u001b[0m\n\u001b[0m\u001b[0;32m   1153\u001b[0m \u001b[1;33m\u001b[0m\u001b[0m\n\u001b[0;32m   1154\u001b[0m   \u001b[1;32mdef\u001b[0m \u001b[0m_extend_graph\u001b[0m\u001b[1;33m(\u001b[0m\u001b[0mself\u001b[0m\u001b[1;33m)\u001b[0m\u001b[1;33m:\u001b[0m\u001b[1;33m\u001b[0m\u001b[0m\n",
      "\u001b[1;31mResourceExhaustedError\u001b[0m: OOM when allocating tensor with shape[8,61133,61133]\n\t [[Node: embedding_5/Gather = Gather[Tindices=DT_INT32, Tparams=DT_FLOAT, validate_indices=true, _device=\"/job:localhost/replica:0/task:0/cpu:0\"](embedding_5/embeddings/read, embedding_5/Cast)]]\n\nCaused by op 'embedding_5/Gather', defined at:\n  File \"C:\\Users\\rezvanjoshaghani\\Anaconda\\lib\\runpy.py\", line 193, in _run_module_as_main\n    \"__main__\", mod_spec)\n  File \"C:\\Users\\rezvanjoshaghani\\Anaconda\\lib\\runpy.py\", line 85, in _run_code\n    exec(code, run_globals)\n  File \"C:\\Users\\rezvanjoshaghani\\AppData\\Roaming\\Python\\Python36\\site-packages\\ipykernel\\__main__.py\", line 3, in <module>\n    app.launch_new_instance()\n  File \"C:\\Users\\rezvanjoshaghani\\AppData\\Roaming\\Python\\Python36\\site-packages\\traitlets\\config\\application.py\", line 658, in launch_instance\n    app.start()\n  File \"C:\\Users\\rezvanjoshaghani\\AppData\\Roaming\\Python\\Python36\\site-packages\\ipykernel\\kernelapp.py\", line 477, in start\n    ioloop.IOLoop.instance().start()\n  File \"C:\\Users\\rezvanjoshaghani\\AppData\\Roaming\\Python\\Python36\\site-packages\\zmq\\eventloop\\ioloop.py\", line 177, in start\n    super(ZMQIOLoop, self).start()\n  File \"C:\\Users\\rezvanjoshaghani\\AppData\\Roaming\\Python\\Python36\\site-packages\\tornado\\ioloop.py\", line 888, in start\n    handler_func(fd_obj, events)\n  File \"C:\\Users\\rezvanjoshaghani\\AppData\\Roaming\\Python\\Python36\\site-packages\\tornado\\stack_context.py\", line 277, in null_wrapper\n    return fn(*args, **kwargs)\n  File \"C:\\Users\\rezvanjoshaghani\\AppData\\Roaming\\Python\\Python36\\site-packages\\zmq\\eventloop\\zmqstream.py\", line 440, in _handle_events\n    self._handle_recv()\n  File \"C:\\Users\\rezvanjoshaghani\\AppData\\Roaming\\Python\\Python36\\site-packages\\zmq\\eventloop\\zmqstream.py\", line 472, in _handle_recv\n    self._run_callback(callback, msg)\n  File \"C:\\Users\\rezvanjoshaghani\\AppData\\Roaming\\Python\\Python36\\site-packages\\zmq\\eventloop\\zmqstream.py\", line 414, in _run_callback\n    callback(*args, **kwargs)\n  File \"C:\\Users\\rezvanjoshaghani\\AppData\\Roaming\\Python\\Python36\\site-packages\\tornado\\stack_context.py\", line 277, in null_wrapper\n    return fn(*args, **kwargs)\n  File \"C:\\Users\\rezvanjoshaghani\\AppData\\Roaming\\Python\\Python36\\site-packages\\ipykernel\\kernelbase.py\", line 283, in dispatcher\n    return self.dispatch_shell(stream, msg)\n  File \"C:\\Users\\rezvanjoshaghani\\AppData\\Roaming\\Python\\Python36\\site-packages\\ipykernel\\kernelbase.py\", line 235, in dispatch_shell\n    handler(stream, idents, msg)\n  File \"C:\\Users\\rezvanjoshaghani\\AppData\\Roaming\\Python\\Python36\\site-packages\\ipykernel\\kernelbase.py\", line 399, in execute_request\n    user_expressions, allow_stdin)\n  File \"C:\\Users\\rezvanjoshaghani\\AppData\\Roaming\\Python\\Python36\\site-packages\\ipykernel\\ipkernel.py\", line 196, in do_execute\n    res = shell.run_cell(code, store_history=store_history, silent=silent)\n  File \"C:\\Users\\rezvanjoshaghani\\AppData\\Roaming\\Python\\Python36\\site-packages\\ipykernel\\zmqshell.py\", line 533, in run_cell\n    return super(ZMQInteractiveShell, self).run_cell(*args, **kwargs)\n  File \"C:\\Users\\rezvanjoshaghani\\AppData\\Roaming\\Python\\Python36\\site-packages\\IPython\\core\\interactiveshell.py\", line 2728, in run_cell\n    interactivity=interactivity, compiler=compiler, result=result)\n  File \"C:\\Users\\rezvanjoshaghani\\AppData\\Roaming\\Python\\Python36\\site-packages\\IPython\\core\\interactiveshell.py\", line 2850, in run_ast_nodes\n    if self.run_code(code, result):\n  File \"C:\\Users\\rezvanjoshaghani\\AppData\\Roaming\\Python\\Python36\\site-packages\\IPython\\core\\interactiveshell.py\", line 2910, in run_code\n    exec(code_obj, self.user_global_ns, self.user_ns)\n  File \"<ipython-input-63-4b2e79ca6adc>\", line 2, in <module>\n    modelc.add(Embedding(len(vocabc), maxlenc, input_length=X_trainc.shape[1]))\n  File \"C:\\Users\\rezvanjoshaghani\\Anaconda\\lib\\site-packages\\keras\\models.py\", line 464, in add\n    layer(x)\n  File \"C:\\Users\\rezvanjoshaghani\\Anaconda\\lib\\site-packages\\keras\\engine\\topology.py\", line 603, in __call__\n    output = self.call(inputs, **kwargs)\n  File \"C:\\Users\\rezvanjoshaghani\\Anaconda\\lib\\site-packages\\keras\\layers\\embeddings.py\", line 134, in call\n    out = K.gather(self.embeddings, inputs)\n  File \"C:\\Users\\rezvanjoshaghani\\Anaconda\\lib\\site-packages\\keras\\backend\\tensorflow_backend.py\", line 1188, in gather\n    return tf.gather(reference, indices)\n  File \"C:\\Users\\rezvanjoshaghani\\Anaconda\\lib\\site-packages\\tensorflow\\python\\ops\\gen_array_ops.py\", line 1179, in gather\n    validate_indices=validate_indices, name=name)\n  File \"C:\\Users\\rezvanjoshaghani\\Anaconda\\lib\\site-packages\\tensorflow\\python\\framework\\op_def_library.py\", line 767, in apply_op\n    op_def=op_def)\n  File \"C:\\Users\\rezvanjoshaghani\\Anaconda\\lib\\site-packages\\tensorflow\\python\\framework\\ops.py\", line 2506, in create_op\n    original_op=self._default_original_op, op_def=op_def)\n  File \"C:\\Users\\rezvanjoshaghani\\Anaconda\\lib\\site-packages\\tensorflow\\python\\framework\\ops.py\", line 1269, in __init__\n    self._traceback = _extract_stack()\n\nResourceExhaustedError (see above for traceback): OOM when allocating tensor with shape[8,61133,61133]\n\t [[Node: embedding_5/Gather = Gather[Tindices=DT_INT32, Tparams=DT_FLOAT, validate_indices=true, _device=\"/job:localhost/replica:0/task:0/cpu:0\"](embedding_5/embeddings/read, embedding_5/Cast)]]\n"
     ]
    }
   ],
   "source": [
    "modelc.fit(X_trainc, y_trainc, batch_size=128, epochs=10)"
   ]
  },
  {
   "cell_type": "code",
   "execution_count": null,
   "metadata": {},
   "outputs": [],
   "source": [
    "modelc.save('model-clamp.h5')"
   ]
  },
  {
   "cell_type": "markdown",
   "metadata": {},
   "source": [
    "# Creating the Test Set"
   ]
  },
  {
   "cell_type": "code",
   "execution_count": 65,
   "metadata": {},
   "outputs": [],
   "source": [
    "X_test = sequence.pad_sequences(test.ind, maxlen=maxlen)\n",
    "X_test = np.array([x.ravel() for x in X_test])"
   ]
  },
  {
   "cell_type": "code",
   "execution_count": 66,
   "metadata": {},
   "outputs": [
    {
     "data": {
      "text/plain": [
       "array([1, 1], dtype=int64)"
      ]
     },
     "execution_count": 66,
     "metadata": {},
     "output_type": "execute_result"
    }
   ],
   "source": [
    "Y_test = np.array([x for x in test.diet])\n",
    "Y_test"
   ]
  },
  {
   "cell_type": "markdown",
   "metadata": {},
   "source": [
    "# Testing the Model for Accuracy"
   ]
  },
  {
   "cell_type": "code",
   "execution_count": 67,
   "metadata": {},
   "outputs": [
    {
     "name": "stdout",
     "output_type": "stream",
     "text": [
      "Test score: 0.591000080109\n",
      "Test accuracy: 1.0\n"
     ]
    }
   ],
   "source": [
    "score = model.evaluate(X_test, Y_test, verbose=0)\n",
    "print('Test score:', score[0])\n",
    "print('Test accuracy:', score[1])"
   ]
  },
  {
   "cell_type": "code",
   "execution_count": null,
   "metadata": {},
   "outputs": [],
   "source": []
  },
  {
   "cell_type": "code",
   "execution_count": 106,
   "metadata": {},
   "outputs": [],
   "source": [
    "data['diabet']=data.label.map(lambda x: x[10])"
   ]
  },
  {
   "cell_type": "code",
   "execution_count": 107,
   "metadata": {},
   "outputs": [
    {
     "data": {
      "text/html": [
       "<div>\n",
       "<style>\n",
       "    .dataframe thead tr:only-child th {\n",
       "        text-align: right;\n",
       "    }\n",
       "\n",
       "    .dataframe thead th {\n",
       "        text-align: left;\n",
       "    }\n",
       "\n",
       "    .dataframe tbody tr th {\n",
       "        vertical-align: top;\n",
       "    }\n",
       "</style>\n",
       "<table border=\"1\" class=\"dataframe\">\n",
       "  <thead>\n",
       "    <tr style=\"text-align: right;\">\n",
       "      <th></th>\n",
       "      <th>text</th>\n",
       "      <th>label</th>\n",
       "      <th>split</th>\n",
       "      <th>ind</th>\n",
       "      <th>diet</th>\n",
       "      <th>lens</th>\n",
       "      <th>diabet</th>\n",
       "    </tr>\n",
       "  </thead>\n",
       "  <tbody>\n",
       "    <tr>\n",
       "      <th>0</th>\n",
       "      <td>associate  circle     .D.   Jr. 845-41-54-4 ...</td>\n",
       "      <td>[0, 1, 0, 1, 0, 1, 0, 1, 0, 0, 1, 1, 1]</td>\n",
       "      <td>[associate, circle, year, old, pound, gentlema...</td>\n",
       "      <td>[552, 1419, 9356, 5815, 6504, 3301, 7026, 1691...</td>\n",
       "      <td>1</td>\n",
       "      <td>1921</td>\n",
       "      <td>1</td>\n",
       "    </tr>\n",
       "    <tr>\n",
       "      <th>1</th>\n",
       "      <td>MERCY care CENTER    associate    AR 72985   M...</td>\n",
       "      <td>[0, 1, 0, 1, 0, 0, 0, 1, 0, 0, 0, 1, 0]</td>\n",
       "      <td>[mercy, care, center, associate, come, further...</td>\n",
       "      <td>[5059, 1169, 1289, 552, 1575, 3213, 2786, 4334...</td>\n",
       "      <td>0</td>\n",
       "      <td>404</td>\n",
       "      <td>0</td>\n",
       "    </tr>\n",
       "    <tr>\n",
       "      <th>2</th>\n",
       "      <td>Personal  Overall   be 81 yr\\nold male present...</td>\n",
       "      <td>[1, 1, 0, 1, 0, 0, 0, 1, 0, 0, 1, 1, 0]</td>\n",
       "      <td>[personal, overall, old, male, present, multip...</td>\n",
       "      <td>[6245, 5963, 5815, 4901, 6576, 5334, 8531, 286...</td>\n",
       "      <td>1</td>\n",
       "      <td>743</td>\n",
       "      <td>1</td>\n",
       "    </tr>\n",
       "    <tr>\n",
       "      <th>3</th>\n",
       "      <td>HUNTINGTON EMERGENCY DEPT visit THOMAS-YOSEF,J...</td>\n",
       "      <td>[0, 1, 0, 1, 0, 0, 0, 1, 0, 0, 0, 1, 0]</td>\n",
       "      <td>[huntington, emergency, dept, visit, julium, v...</td>\n",
       "      <td>[3831, 2586, 2073, 9082, 4419, 9082, 1953, 612...</td>\n",
       "      <td>0</td>\n",
       "      <td>763</td>\n",
       "      <td>0</td>\n",
       "    </tr>\n",
       "    <tr>\n",
       "      <th>4</th>\n",
       "      <td>JENNIFER BOOKER LC Unit No NASHUA MEMORIAL HOS...</td>\n",
       "      <td>[0, 1, 0, 0, 0, 0, 0, 1, 1, 0, 1, 1, 1]</td>\n",
       "      <td>[jennifer, booker, unit, nashua, memorial, hos...</td>\n",
       "      <td>[4393, 942, 8808, 5427, 5040, 3779, 144, 1953,...</td>\n",
       "      <td>1</td>\n",
       "      <td>808</td>\n",
       "      <td>1</td>\n",
       "    </tr>\n",
       "    <tr>\n",
       "      <th>5</th>\n",
       "      <td>Dr.      doctor  RE TUTTLE   DOB   Dr.  thank...</td>\n",
       "      <td>[0, 1, 0, 1, 1, 1, 0, 1, 0, 0, 1, 1, 1]</td>\n",
       "      <td>[doctor, tuttle, dob, thank, refer, understand...</td>\n",
       "      <td>[2308, 8688, 2305, 8373, 7026, 8784, 7026, 278...</td>\n",
       "      <td>1</td>\n",
       "      <td>1726</td>\n",
       "      <td>1</td>\n",
       "    </tr>\n",
       "    <tr>\n",
       "      <th>6</th>\n",
       "      <td>HEALTH CENTER date  RACINE MAINE name   NIHC ...</td>\n",
       "      <td>[0, 1, 0, 1, 0, 1, 0, 1, 0, 0, 0, 1, 1]</td>\n",
       "      <td>[health, center, date, racine, maine, name, ni...</td>\n",
       "      <td>[3583, 1289, 1953, 6885, 4896, 5411, 5560, 664...</td>\n",
       "      <td>0</td>\n",
       "      <td>1477</td>\n",
       "      <td>0</td>\n",
       "    </tr>\n",
       "    <tr>\n",
       "      <th>7</th>\n",
       "      <td>EDVISIT^75659490^ROOT PERCY^02/16/95^CARR RACH...</td>\n",
       "      <td>[0, 1, 0, 1, 1, 0, 0, 1, 0, 0, 1, 1, 0]</td>\n",
       "      <td>[edvisit, root, percy, carr, rachel, patient, ...</td>\n",
       "      <td>[2515, 7308, 6193, 1169, 6884, 6124, 7525, 166...</td>\n",
       "      <td>1</td>\n",
       "      <td>960</td>\n",
       "      <td>1</td>\n",
       "    </tr>\n",
       "    <tr>\n",
       "      <th>8</th>\n",
       "      <td>745  drive y.o. infection arm\\nday ago injur...</td>\n",
       "      <td>[1, 1, 0, 1, 0, 1, 0, 1, 0, 0, 1, 1, 0]</td>\n",
       "      <td>[drive, infection, arm, day, ago, injure, fore...</td>\n",
       "      <td>[2379, 4112, 480, 1960, 184, 4090, 3114, 7613,...</td>\n",
       "      <td>1</td>\n",
       "      <td>1047</td>\n",
       "      <td>1</td>\n",
       "    </tr>\n",
       "    <tr>\n",
       "      <th>9</th>\n",
       "      <td>Mr.  be see today\\nhave see \\nweek stop Predni...</td>\n",
       "      <td>[0, 1, 0, 1, 0, 0, 0, 1, 0, 0, 0, 1, 0]</td>\n",
       "      <td>[see, today, have, see, week, stop, prednisone...</td>\n",
       "      <td>[7525, 8510, 3544, 7525, 9177, 7979, 6553, 598...</td>\n",
       "      <td>0</td>\n",
       "      <td>649</td>\n",
       "      <td>0</td>\n",
       "    </tr>\n",
       "    <tr>\n",
       "      <th>10</th>\n",
       "      <td>silver ridge EMERGENCY DEPT visit OROZCO,KYLE ...</td>\n",
       "      <td>[0, 1, 0, 1, 1, 0, 0, 1, 0, 0, 1, 1, 0]</td>\n",
       "      <td>[silver, ridge, emergency, dept, visit, orozco...</td>\n",
       "      <td>[7678, 7253, 2586, 2073, 9082, 5896, 4523, 908...</td>\n",
       "      <td>1</td>\n",
       "      <td>588</td>\n",
       "      <td>1</td>\n",
       "    </tr>\n",
       "    <tr>\n",
       "      <th>11</th>\n",
       "      <td>BCH EMERGENCY DEPT visit HESS,CLARENCE  visit ...</td>\n",
       "      <td>[0, 1, 0, 1, 0, 0, 0, 1, 0, 0, 0, 1, 0]</td>\n",
       "      <td>[bch, emergency, dept, visit, hess, clarence, ...</td>\n",
       "      <td>[738, 2586, 2073, 9082, 3679, 1447, 9082, 1953...</td>\n",
       "      <td>0</td>\n",
       "      <td>795</td>\n",
       "      <td>0</td>\n",
       "    </tr>\n",
       "    <tr>\n",
       "      <th>12</th>\n",
       "      <td>DAMERON EMERGENCY DEPT visit VALENZUELA,BRIAN ...</td>\n",
       "      <td>[1, 1, 0, 1, 0, 1, 0, 1, 0, 0, 1, 1, 0]</td>\n",
       "      <td>[dameron, emergency, dept, visit, valenzuela, ...</td>\n",
       "      <td>[1939, 2586, 2073, 9082, 8946, 1015, 9082, 195...</td>\n",
       "      <td>1</td>\n",
       "      <td>1527</td>\n",
       "      <td>1</td>\n",
       "    </tr>\n",
       "    <tr>\n",
       "      <th>13</th>\n",
       "      <td>Personal  Overall  year old right hand man pur...</td>\n",
       "      <td>[1, 0, 0, 1, 1, 0, 0, 1, 1, 0, 1, 1, 0]</td>\n",
       "      <td>[personal, overall, year, old, right, hand, ma...</td>\n",
       "      <td>[6245, 5963, 9356, 5815, 7259, 3514, 4918, 678...</td>\n",
       "      <td>1</td>\n",
       "      <td>1180</td>\n",
       "      <td>1</td>\n",
       "    </tr>\n",
       "    <tr>\n",
       "      <th>14</th>\n",
       "      <td>EMERGENCY DEPT visit BRANCH,EARNEST visit date...</td>\n",
       "      <td>[1, 0, 0, 0, 1, 0, 0, 1, 0, 0, 1, 1, 0]</td>\n",
       "      <td>[emergency, dept, visit, branch, earnest, visi...</td>\n",
       "      <td>[2586, 2073, 9082, 991, 2471, 9082, 1953, 3724...</td>\n",
       "      <td>1</td>\n",
       "      <td>838</td>\n",
       "      <td>1</td>\n",
       "    </tr>\n",
       "    <tr>\n",
       "      <th>15</th>\n",
       "      <td>HGH Unit No saint VINCENT HOSPITAL ADULT  da...</td>\n",
       "      <td>[1, 1, 0, 1, 0, 1, 0, 0, 1, 0, 0, 1, 0]</td>\n",
       "      <td>[hgh, unit, saint, vincent, hospital, adult, d...</td>\n",
       "      <td>[3694, 8808, 7396, 9068, 3779, 144, 1953, 9184...</td>\n",
       "      <td>0</td>\n",
       "      <td>657</td>\n",
       "      <td>0</td>\n",
       "    </tr>\n",
       "    <tr>\n",
       "      <th>16</th>\n",
       "      <td>04   .D.  circle  WA 42646       see patient ...</td>\n",
       "      <td>[0, 1, 0, 1, 1, 1, 0, 1, 0, 0, 1, 0, 0]</td>\n",
       "      <td>[circle, see, patient, office, today, seem, ca...</td>\n",
       "      <td>[1419, 7525, 6124, 5802, 8510, 7528, 1190, 624...</td>\n",
       "      <td>1</td>\n",
       "      <td>864</td>\n",
       "      <td>1</td>\n",
       "    </tr>\n",
       "    <tr>\n",
       "      <th>17</th>\n",
       "      <td>HDH INTERNAL  associate y.o. white male hype...</td>\n",
       "      <td>[0, 1, 0, 1, 0, 1, 0, 1, 0, 0, 0, 1, 0]</td>\n",
       "      <td>[hdh, internal, associate, white, male, hypert...</td>\n",
       "      <td>[3576, 4227, 552, 9217, 4901, 3904, 3874, 7198...</td>\n",
       "      <td>0</td>\n",
       "      <td>606</td>\n",
       "      <td>0</td>\n",
       "    </tr>\n",
       "    <tr>\n",
       "      <th>18</th>\n",
       "      <td>PROBLEM  mellitu    due bleed  partial PUD PVD...</td>\n",
       "      <td>[1, 1, 0, 0, 0, 0, 0, 1, 1, 0, 0, 1, 0]</td>\n",
       "      <td>[problem, mellitu, due, bleed, partial, pud, p...</td>\n",
       "      <td>[6623, 5039, 2403, 890, 6097, 6769, 6803, 4003...</td>\n",
       "      <td>0</td>\n",
       "      <td>507</td>\n",
       "      <td>0</td>\n",
       "    </tr>\n",
       "    <tr>\n",
       "      <th>19</th>\n",
       "      <td>RACHAEL G. OBRYAN .D. VALLEJO  HOSPITAL ENDOCR...</td>\n",
       "      <td>[0, 1, 0, 1, 1, 1, 0, 1, 0, 0, 1, 1, 0]</td>\n",
       "      <td>[rachael, obryan, vallejo, hospital, endocrino...</td>\n",
       "      <td>[6883, 5755, 8949, 3779, 2625, 2284, 7026, 630...</td>\n",
       "      <td>1</td>\n",
       "      <td>937</td>\n",
       "      <td>1</td>\n",
       "    </tr>\n",
       "    <tr>\n",
       "      <th>20</th>\n",
       "      <td>. key RE:Fair bill MR#:220-41-86-4  . key .  ...</td>\n",
       "      <td>[0, 1, 0, 1, 1, 0, 0, 1, 1, 0, 1, 1, 0]</td>\n",
       "      <td>[key, fair, bill, key, see, bill, fair, today,...</td>\n",
       "      <td>[4475, 2896, 828, 4475, 7525, 828, 2896, 8510,...</td>\n",
       "      <td>1</td>\n",
       "      <td>1321</td>\n",
       "      <td>1</td>\n",
       "    </tr>\n",
       "    <tr>\n",
       "      <th>21</th>\n",
       "      <td>admit note   .  CCH Unit number date Admis...</td>\n",
       "      <td>[0, 1, 0, 1, 1, 1, 1, 1, 0, 0, 1, 1, 0]</td>\n",
       "      <td>[admit, note, cch, unit, number, date, admissi...</td>\n",
       "      <td>[135, 5681, 1252, 8808, 5724, 1953, 135, 602, ...</td>\n",
       "      <td>1</td>\n",
       "      <td>1680</td>\n",
       "      <td>1</td>\n",
       "    </tr>\n",
       "    <tr>\n",
       "      <th>22</th>\n",
       "      <td>BOWNE EMERGENCY DEPT visit GODWIN,YAIR visit d...</td>\n",
       "      <td>[0, 0, 0, 1, 1, 1, 0, 1, 0, 0, 1, 1, 0]</td>\n",
       "      <td>[bowne, emergency, dept, visit, godwin, yair, ...</td>\n",
       "      <td>[963, 2586, 2073, 9082, 3380, 9341, 9082, 1953...</td>\n",
       "      <td>1</td>\n",
       "      <td>1662</td>\n",
       "      <td>1</td>\n",
       "    </tr>\n",
       "    <tr>\n",
       "      <th>23</th>\n",
       "      <td>name YOUNT PATRICIum MRN dictate BRANDON VICE...</td>\n",
       "      <td>[0, 1, 0, 1, 1, 1, 0, 1, 1, 0, 1, 1, 0]</td>\n",
       "      <td>[name, yount, patricium, mrn, dictate, brandon...</td>\n",
       "      <td>[5411, 9384, 6121, 5285, 2151, 993, 9054, 7098...</td>\n",
       "      <td>1</td>\n",
       "      <td>990</td>\n",
       "      <td>1</td>\n",
       "    </tr>\n",
       "    <tr>\n",
       "      <th>24</th>\n",
       "      <td>' do painful R facial weaknes\\n hunt syndrome\\...</td>\n",
       "      <td>[1, 1, 0, 1, 1, 1, 0, 1, 0, 0, 1, 1, 1]</td>\n",
       "      <td>[painful, facial, weaknes, hunt, syndrome, tak...</td>\n",
       "      <td>[6014, 2886, 9169, 3830, 8215, 8255, 8315, 408...</td>\n",
       "      <td>1</td>\n",
       "      <td>1169</td>\n",
       "      <td>1</td>\n",
       "    </tr>\n",
       "    <tr>\n",
       "      <th>25</th>\n",
       "      <td>LMC LMC SURGERY CLINIC note  CC consult hemo...</td>\n",
       "      <td>[1, 1, 0, 1, 1, 0, 0, 1, 0, 0, 1, 1, 0]</td>\n",
       "      <td>[lmc, lmc, surgery, clinic, note, consult, hem...</td>\n",
       "      <td>[4752, 4752, 8160, 1473, 5681, 1691, 3647, 380...</td>\n",
       "      <td>1</td>\n",
       "      <td>1462</td>\n",
       "      <td>1</td>\n",
       "    </tr>\n",
       "    <tr>\n",
       "      <th>26</th>\n",
       "      <td>M.D.   care      FL RE    #471-90-84-7  Dr....</td>\n",
       "      <td>[0, 1, 0, 1, 1, 0, 0, 1, 0, 0, 0, 1, 0]</td>\n",
       "      <td>[care, thank, refer, patient, preoperative, ev...</td>\n",
       "      <td>[1169, 8373, 7026, 6124, 6571, 2786, 8450, 450...</td>\n",
       "      <td>0</td>\n",
       "      <td>1292</td>\n",
       "      <td>0</td>\n",
       "    </tr>\n",
       "    <tr>\n",
       "      <th>27</th>\n",
       "      <td>PCC   PRIMARY care  drive   RE   PCC 090-73-07...</td>\n",
       "      <td>[0, 1, 0, 1, 1, 1, 0, 1, 0, 0, 1, 1, 1]</td>\n",
       "      <td>[pcc, primary, care, drive, pcc, reason, visit...</td>\n",
       "      <td>[6133, 6601, 1169, 2379, 6133, 6959, 9082, 157...</td>\n",
       "      <td>1</td>\n",
       "      <td>1373</td>\n",
       "      <td>1</td>\n",
       "    </tr>\n",
       "    <tr>\n",
       "      <th>28</th>\n",
       "      <td>name   MRN patient be 58-year-old white female...</td>\n",
       "      <td>[0, 1, 0, 1, 0, 0, 0, 1, 1, 0, 1, 1, 1]</td>\n",
       "      <td>[name, mrn, patient, white, female, present, f...</td>\n",
       "      <td>[5411, 5285, 6124, 9217, 2954, 6576, 3096, 869...</td>\n",
       "      <td>1</td>\n",
       "      <td>1568</td>\n",
       "      <td>1</td>\n",
       "    </tr>\n",
       "    <tr>\n",
       "      <th>29</th>\n",
       "      <td>care    PRESTON FRANCE  HISTORY present ILLN...</td>\n",
       "      <td>[0, 1, 0, 1, 0, 0, 0, 1, 1, 0, 0, 1, 0]</td>\n",
       "      <td>[care, preston, france, history, present, illn...</td>\n",
       "      <td>[1169, 6583, 3158, 3724, 6576, 4011, 6124, 927...</td>\n",
       "      <td>0</td>\n",
       "      <td>1028</td>\n",
       "      <td>0</td>\n",
       "    </tr>\n",
       "    <tr>\n",
       "      <th>...</th>\n",
       "      <td>...</td>\n",
       "      <td>...</td>\n",
       "      <td>...</td>\n",
       "      <td>...</td>\n",
       "      <td>...</td>\n",
       "      <td>...</td>\n",
       "      <td>...</td>\n",
       "    </tr>\n",
       "    <tr>\n",
       "      <th>172</th>\n",
       "      <td>EDVISIT^11289501^FAY BROOK^9/18/2094^XAYSANA Y...</td>\n",
       "      <td>[1, 0, 0, 1, 1, 0, 0, 0, 0, 0, 0, 1, 0]</td>\n",
       "      <td>[edvisit, fay, brook, xaysana, yusef, confirm,...</td>\n",
       "      <td>[2515, 2933, 1040, 9321, 9388, 1648, 3544, 424...</td>\n",
       "      <td>0</td>\n",
       "      <td>1126</td>\n",
       "      <td>0</td>\n",
       "    </tr>\n",
       "    <tr>\n",
       "      <th>173</th>\n",
       "      <td>DALEY,WADE MRN y/o man HBP h/o microfallicular...</td>\n",
       "      <td>[0, 0, 0, 1, 1, 1, 0, 1, 1, 0, 0, 1, 0]</td>\n",
       "      <td>[daley, wade, mrn, man, hbp, microfallicular, ...</td>\n",
       "      <td>[1934, 9125, 5285, 4918, 3558, 5138, 8449, 114...</td>\n",
       "      <td>0</td>\n",
       "      <td>1292</td>\n",
       "      <td>0</td>\n",
       "    </tr>\n",
       "    <tr>\n",
       "      <th>174</th>\n",
       "      <td>record  ISHIDA NATHAN MRN DOB 1/24/2076 s...</td>\n",
       "      <td>[1, 0, 0, 1, 1, 0, 1, 1, 0, 0, 0, 1, 0]</td>\n",
       "      <td>[record, ishida, nathan, mrn, dob, sex, regist...</td>\n",
       "      <td>[6993, 4333, 5434, 5285, 2305, 7592, 7041, 554...</td>\n",
       "      <td>0</td>\n",
       "      <td>1379</td>\n",
       "      <td>0</td>\n",
       "    </tr>\n",
       "    <tr>\n",
       "      <th>175</th>\n",
       "      <td>ZOLLMAN EMERGENCY DEPT visit MASSEY,RAMONA vis...</td>\n",
       "      <td>[1, 0, 0, 1, 1, 1, 0, 1, 0, 0, 1, 0, 0]</td>\n",
       "      <td>[zollman, emergency, dept, visit, massey, ramo...</td>\n",
       "      <td>[9416, 2586, 2073, 9082, 4962, 6915, 9082, 195...</td>\n",
       "      <td>1</td>\n",
       "      <td>1113</td>\n",
       "      <td>1</td>\n",
       "    </tr>\n",
       "    <tr>\n",
       "      <th>176</th>\n",
       "      <td>PICH   Suite GREENWOOD NORA  KY CHIEF COMPLAIN...</td>\n",
       "      <td>[0, 0, 0, 1, 0, 0, 0, 1, 1, 0, 0, 1, 0]</td>\n",
       "      <td>[pich, suite, greenwood, nora, chief, complain...</td>\n",
       "      <td>[6318, 8107, 3439, 5664, 1365, 1609, 1575, 889...</td>\n",
       "      <td>0</td>\n",
       "      <td>1879</td>\n",
       "      <td>0</td>\n",
       "    </tr>\n",
       "    <tr>\n",
       "      <th>177</th>\n",
       "      <td>KEKELA EMERGENCY DEPT visit DIETZ,SUSIE visit ...</td>\n",
       "      <td>[0, 1, 0, 1, 0, 1, 0, 1, 1, 0, 1, 1, 0]</td>\n",
       "      <td>[kekela, emergency, dept, visit, dietz, susie,...</td>\n",
       "      <td>[4455, 2586, 2073, 9082, 2158, 8176, 9082, 195...</td>\n",
       "      <td>1</td>\n",
       "      <td>780</td>\n",
       "      <td>1</td>\n",
       "    </tr>\n",
       "    <tr>\n",
       "      <th>178</th>\n",
       "      <td>EDVISIT^14477347^Bennett ^09/20/92^NOE NATALEY...</td>\n",
       "      <td>[0, 0, 0, 0, 0, 0, 0, 1, 0, 0, 0, 1, 0]</td>\n",
       "      <td>[edvisit, bennett, noe, nataley, kinslee, chie...</td>\n",
       "      <td>[2515, 780, 5593, 5433, 4488, 1365, 1609, 2287...</td>\n",
       "      <td>0</td>\n",
       "      <td>689</td>\n",
       "      <td>0</td>\n",
       "    </tr>\n",
       "    <tr>\n",
       "      <th>179</th>\n",
       "      <td>intern admit note date   CATHY TURK PT name   ...</td>\n",
       "      <td>[0, 0, 0, 1, 0, 0, 0, 1, 0, 0, 1, 1, 0]</td>\n",
       "      <td>[intern, admit, note, date, cathy, turk, name,...</td>\n",
       "      <td>[4227, 135, 5681, 1953, 1232, 8685, 5411, 6993...</td>\n",
       "      <td>1</td>\n",
       "      <td>1764</td>\n",
       "      <td>1</td>\n",
       "    </tr>\n",
       "    <tr>\n",
       "      <th>180</th>\n",
       "      <td>KCM EMERGENCY DEPT visit RIVERS,KARSTEN visit ...</td>\n",
       "      <td>[1, 0, 0, 0, 0, 1, 0, 1, 1, 0, 1, 1, 0]</td>\n",
       "      <td>[kcm, emergency, dept, visit, rivers, karsten,...</td>\n",
       "      <td>[4448, 2586, 2073, 9082, 7277, 4432, 9082, 195...</td>\n",
       "      <td>1</td>\n",
       "      <td>1339</td>\n",
       "      <td>1</td>\n",
       "    </tr>\n",
       "    <tr>\n",
       "      <th>181</th>\n",
       "      <td>PCC EMERGENCY DEPT visit FERRARA,LAUREN visit ...</td>\n",
       "      <td>[1, 0, 0, 1, 0, 1, 0, 1, 0, 0, 1, 1, 0]</td>\n",
       "      <td>[pcc, emergency, dept, visit, ferrara, lauren,...</td>\n",
       "      <td>[6133, 2586, 2073, 9082, 2963, 4593, 9082, 195...</td>\n",
       "      <td>1</td>\n",
       "      <td>878</td>\n",
       "      <td>1</td>\n",
       "    </tr>\n",
       "    <tr>\n",
       "      <th>182</th>\n",
       "      <td>record available follow DM HTN do new problem\\...</td>\n",
       "      <td>[1, 0, 0, 1, 0, 1, 0, 1, 1, 0, 0, 1, 0]</td>\n",
       "      <td>[record, available, follow, htn, new, problem,...</td>\n",
       "      <td>[6993, 637, 3096, 3818, 5525, 6623, 6430, 1021...</td>\n",
       "      <td>0</td>\n",
       "      <td>843</td>\n",
       "      <td>0</td>\n",
       "    </tr>\n",
       "    <tr>\n",
       "      <th>183</th>\n",
       "      <td>LEPROSARIUM EMERGENCY DEPT visit OLIVIER,OZELL...</td>\n",
       "      <td>[1, 0, 0, 0, 0, 1, 0, 0, 1, 0, 0, 1, 0]</td>\n",
       "      <td>[leprosarium, emergency, dept, visit, olivier,...</td>\n",
       "      <td>[4645, 2586, 2073, 9082, 5824, 6003, 9082, 195...</td>\n",
       "      <td>0</td>\n",
       "      <td>1661</td>\n",
       "      <td>0</td>\n",
       "    </tr>\n",
       "    <tr>\n",
       "      <th>184</th>\n",
       "      <td>name FLAHERTY XAVIER MRN dictate ROSITum ko ....</td>\n",
       "      <td>[0, 1, 0, 1, 0, 1, 0, 1, 1, 0, 1, 1, 0]</td>\n",
       "      <td>[name, flaherty, xavier, mrn, dictate, rositum...</td>\n",
       "      <td>[5411, 3029, 9319, 5285, 2151, 7315, 6124, 490...</td>\n",
       "      <td>1</td>\n",
       "      <td>1482</td>\n",
       "      <td>1</td>\n",
       "    </tr>\n",
       "    <tr>\n",
       "      <th>185</th>\n",
       "      <td>wood  OLIVE XAVIER  WV   .D. wood   WV RE  ...</td>\n",
       "      <td>[1, 0, 0, 1, 0, 1, 0, 1, 0, 0, 1, 1, 0]</td>\n",
       "      <td>[wood, olive, xavier, wood, present, evaluatio...</td>\n",
       "      <td>[9274, 5813, 9319, 9274, 6576, 2786, 8373, 702...</td>\n",
       "      <td>1</td>\n",
       "      <td>1381</td>\n",
       "      <td>1</td>\n",
       "    </tr>\n",
       "    <tr>\n",
       "      <th>186</th>\n",
       "      <td>reason visit Mr.  be follow-up multiple issue\\...</td>\n",
       "      <td>[0, 0, 0, 1, 0, 1, 0, 1, 1, 0, 0, 1, 0]</td>\n",
       "      <td>[reason, visit, multiple, issue, pain, have, p...</td>\n",
       "      <td>[6959, 9082, 5334, 4346, 6014, 3544, 6656, 222...</td>\n",
       "      <td>0</td>\n",
       "      <td>850</td>\n",
       "      <td>0</td>\n",
       "    </tr>\n",
       "    <tr>\n",
       "      <th>187</th>\n",
       "      <td>harry R.  M.D.         RE  .  ATCH  harry  th...</td>\n",
       "      <td>[1, 0, 0, 1, 0, 1, 0, 1, 0, 0, 0, 1, 0]</td>\n",
       "      <td>[harry, atch, harry, thank, kind, referral, ab...</td>\n",
       "      <td>[3534, 570, 3534, 8373, 4485, 7027, 28, 5681, ...</td>\n",
       "      <td>0</td>\n",
       "      <td>1292</td>\n",
       "      <td>0</td>\n",
       "    </tr>\n",
       "    <tr>\n",
       "      <th>188</th>\n",
       "      <td>Unit No PUBLIC institute   date  MEDICATION...</td>\n",
       "      <td>[1, 0, 0, 1, 0, 1, 0, 1, 0, 0, 1, 0, 0]</td>\n",
       "      <td>[unit, public, institute, date, medication, do...</td>\n",
       "      <td>[8808, 6768, 4187, 1953, 5014, 2341, 3360, 139...</td>\n",
       "      <td>1</td>\n",
       "      <td>1330</td>\n",
       "      <td>1</td>\n",
       "    </tr>\n",
       "    <tr>\n",
       "      <th>189</th>\n",
       "      <td>circle HEATH HANNAH   CHIEF COMPLAINT stroke...</td>\n",
       "      <td>[1, 0, 0, 0, 0, 0, 0, 0, 1, 0, 0, 0, 0]</td>\n",
       "      <td>[circle, heath, hannah, chief, complaint, stro...</td>\n",
       "      <td>[1419, 3578, 3523, 1365, 1609, 8021, 3724, 657...</td>\n",
       "      <td>0</td>\n",
       "      <td>1616</td>\n",
       "      <td>0</td>\n",
       "    </tr>\n",
       "    <tr>\n",
       "      <th>190</th>\n",
       "      <td>EDVISIT^06129040^MACK ROSE^08/16/92^GRAHAM ANG...</td>\n",
       "      <td>[0, 0, 0, 0, 1, 0, 1, 1, 0, 0, 1, 1, 0]</td>\n",
       "      <td>[edvisit, mack, rose, graham, angela, patient,...</td>\n",
       "      <td>[2515, 4877, 7311, 3406, 328, 6124, 9082, 7611...</td>\n",
       "      <td>1</td>\n",
       "      <td>1804</td>\n",
       "      <td>1</td>\n",
       "    </tr>\n",
       "    <tr>\n",
       "      <th>191</th>\n",
       "      <td>care PULMONARY fellow admit note reason Admis...</td>\n",
       "      <td>[0, 0, 0, 1, 1, 1, 1, 1, 0, 0, 0, 1, 0]</td>\n",
       "      <td>[care, pulmonary, fellow, admit, note, reason,...</td>\n",
       "      <td>[1169, 6775, 2953, 135, 5681, 6959, 135, 3085,...</td>\n",
       "      <td>0</td>\n",
       "      <td>1375</td>\n",
       "      <td>0</td>\n",
       "    </tr>\n",
       "    <tr>\n",
       "      <th>192</th>\n",
       "      <td>040   MOS DEREK  WI History present  Compl...</td>\n",
       "      <td>[1, 1, 0, 1, 1, 1, 0, 1, 0, 0, 1, 1, 0]</td>\n",
       "      <td>[mos, derek, history, present, complaint, pati...</td>\n",
       "      <td>[5258, 2076, 3724, 6576, 1609, 6124, 4918, 779...</td>\n",
       "      <td>1</td>\n",
       "      <td>1803</td>\n",
       "      <td>1</td>\n",
       "    </tr>\n",
       "    <tr>\n",
       "      <th>193</th>\n",
       "      <td>Complaint  cysto left stent ESWL,meatal dilat...</td>\n",
       "      <td>[0, 0, 0, 1, 0, 0, 0, 1, 1, 0, 0, 1, 0]</td>\n",
       "      <td>[complaint, cysto, left, stent, eswl, meatal, ...</td>\n",
       "      <td>[1609, 1916, 4629, 7941, 2764, 5009, 2179, 372...</td>\n",
       "      <td>0</td>\n",
       "      <td>1128</td>\n",
       "      <td>0</td>\n",
       "    </tr>\n",
       "    <tr>\n",
       "      <th>194</th>\n",
       "      <td>Walk-in clinic   HPus Ms.  be 74-year-old fema...</td>\n",
       "      <td>[0, 0, 0, 1, 0, 1, 0, 1, 0, 0, 0, 1, 0]</td>\n",
       "      <td>[clinic, hpus, female, present, clinic, even, ...</td>\n",
       "      <td>[1473, 3800, 2954, 6576, 1473, 2784, 3096, 212...</td>\n",
       "      <td>0</td>\n",
       "      <td>796</td>\n",
       "      <td>0</td>\n",
       "    </tr>\n",
       "    <tr>\n",
       "      <th>195</th>\n",
       "      <td>06   .D.  Way Suite   RE   WMC#727-19-02  doc...</td>\n",
       "      <td>[0, 0, 0, 1, 0, 1, 0, 1, 0, 0, 0, 1, 0]</td>\n",
       "      <td>[way, suite, wmc, doctor, have, pleasure, see,...</td>\n",
       "      <td>[9159, 8107, 9264, 2308, 3544, 6372, 7525, 536...</td>\n",
       "      <td>0</td>\n",
       "      <td>1219</td>\n",
       "      <td>0</td>\n",
       "    </tr>\n",
       "    <tr>\n",
       "      <th>196</th>\n",
       "      <td>DR  CLINIC STANTON nurse STANTON nurse home PR...</td>\n",
       "      <td>[0, 0, 0, 1, 1, 1, 0, 1, 0, 0, 1, 1, 0]</td>\n",
       "      <td>[clinic, stanton, nurse, stanton, nurse, home,...</td>\n",
       "      <td>[1473, 7912, 5729, 7912, 5729, 3761, 6601, 116...</td>\n",
       "      <td>1</td>\n",
       "      <td>1132</td>\n",
       "      <td>1</td>\n",
       "    </tr>\n",
       "    <tr>\n",
       "      <th>197</th>\n",
       "      <td>CC ear pain cough HPus female c/o cough clear ...</td>\n",
       "      <td>[1, 1, 0, 0, 1, 1, 0, 1, 1, 0, 1, 1, 0]</td>\n",
       "      <td>[ear, pain, cough, hpus, female, cough, clear,...</td>\n",
       "      <td>[2467, 6014, 1771, 3800, 2954, 1771, 1463, 531...</td>\n",
       "      <td>1</td>\n",
       "      <td>1001</td>\n",
       "      <td>1</td>\n",
       "    </tr>\n",
       "    <tr>\n",
       "      <th>198</th>\n",
       "      <td>fellow note    MRN 236-07-19 date note reason...</td>\n",
       "      <td>[1, 0, 0, 1, 0, 1, 0, 1, 0, 0, 1, 1, 0]</td>\n",
       "      <td>[fellow, note, mrn, date, note, reason, consul...</td>\n",
       "      <td>[2953, 5681, 5285, 1953, 5681, 6959, 1691, 543...</td>\n",
       "      <td>1</td>\n",
       "      <td>1788</td>\n",
       "      <td>1</td>\n",
       "    </tr>\n",
       "    <tr>\n",
       "      <th>199</th>\n",
       "      <td>SLHC EMERGENCY DEPT visit DO,TANYA V visit dat...</td>\n",
       "      <td>[1, 0, 0, 1, 0, 1, 0, 1, 1, 0, 1, 1, 0]</td>\n",
       "      <td>[slhc, emergency, dept, visit, tanya, visit, d...</td>\n",
       "      <td>[7726, 2586, 2073, 9082, 8272, 9082, 1953, 714...</td>\n",
       "      <td>1</td>\n",
       "      <td>1931</td>\n",
       "      <td>1</td>\n",
       "    </tr>\n",
       "    <tr>\n",
       "      <th>200</th>\n",
       "      <td>exam Male  be  present physical exam\\nha be l...</td>\n",
       "      <td>[0, 0, 0, 1, 0, 0, 0, 1, 1, 0, 1, 1, 0]</td>\n",
       "      <td>[exam, male, present, physical, exam, lose, ye...</td>\n",
       "      <td>[2803, 4901, 6576, 6309, 2803, 4792, 9356, 377...</td>\n",
       "      <td>1</td>\n",
       "      <td>1008</td>\n",
       "      <td>1</td>\n",
       "    </tr>\n",
       "    <tr>\n",
       "      <th>201</th>\n",
       "      <td>Mr.  come tonight complain pain varicose vein ...</td>\n",
       "      <td>[0, 0, 0, 1, 1, 1, 0, 1, 1, 0, 1, 1, 0]</td>\n",
       "      <td>[come, tonight, complain, pain, varicose, vein...</td>\n",
       "      <td>[1575, 8523, 1608, 6014, 8966, 8999, 9293, 936...</td>\n",
       "      <td>1</td>\n",
       "      <td>778</td>\n",
       "      <td>1</td>\n",
       "    </tr>\n",
       "  </tbody>\n",
       "</table>\n",
       "<p>202 rows × 7 columns</p>\n",
       "</div>"
      ],
      "text/plain": [
       "                                                  text  \\\n",
       "0      associate  circle     .D.   Jr. 845-41-54-4 ...   \n",
       "1    MERCY care CENTER    associate    AR 72985   M...   \n",
       "2    Personal  Overall   be 81 yr\\nold male present...   \n",
       "3    HUNTINGTON EMERGENCY DEPT visit THOMAS-YOSEF,J...   \n",
       "4    JENNIFER BOOKER LC Unit No NASHUA MEMORIAL HOS...   \n",
       "5     Dr.      doctor  RE TUTTLE   DOB   Dr.  thank...   \n",
       "6     HEALTH CENTER date  RACINE MAINE name   NIHC ...   \n",
       "7    EDVISIT^75659490^ROOT PERCY^02/16/95^CARR RACH...   \n",
       "8      745  drive y.o. infection arm\\nday ago injur...   \n",
       "9    Mr.  be see today\\nhave see \\nweek stop Predni...   \n",
       "10   silver ridge EMERGENCY DEPT visit OROZCO,KYLE ...   \n",
       "11   BCH EMERGENCY DEPT visit HESS,CLARENCE  visit ...   \n",
       "12   DAMERON EMERGENCY DEPT visit VALENZUELA,BRIAN ...   \n",
       "13   Personal  Overall  year old right hand man pur...   \n",
       "14   EMERGENCY DEPT visit BRANCH,EARNEST visit date...   \n",
       "15     HGH Unit No saint VINCENT HOSPITAL ADULT  da...   \n",
       "16    04   .D.  circle  WA 42646       see patient ...   \n",
       "17     HDH INTERNAL  associate y.o. white male hype...   \n",
       "18   PROBLEM  mellitu    due bleed  partial PUD PVD...   \n",
       "19   RACHAEL G. OBRYAN .D. VALLEJO  HOSPITAL ENDOCR...   \n",
       "20    . key RE:Fair bill MR#:220-41-86-4  . key .  ...   \n",
       "21       admit note   .  CCH Unit number date Admis...   \n",
       "22   BOWNE EMERGENCY DEPT visit GODWIN,YAIR visit d...   \n",
       "23    name YOUNT PATRICIum MRN dictate BRANDON VICE...   \n",
       "24   ' do painful R facial weaknes\\n hunt syndrome\\...   \n",
       "25     LMC LMC SURGERY CLINIC note  CC consult hemo...   \n",
       "26      M.D.   care      FL RE    #471-90-84-7  Dr....   \n",
       "27   PCC   PRIMARY care  drive   RE   PCC 090-73-07...   \n",
       "28   name   MRN patient be 58-year-old white female...   \n",
       "29     care    PRESTON FRANCE  HISTORY present ILLN...   \n",
       "..                                                 ...   \n",
       "172  EDVISIT^11289501^FAY BROOK^9/18/2094^XAYSANA Y...   \n",
       "173  DALEY,WADE MRN y/o man HBP h/o microfallicular...   \n",
       "174       record  ISHIDA NATHAN MRN DOB 1/24/2076 s...   \n",
       "175  ZOLLMAN EMERGENCY DEPT visit MASSEY,RAMONA vis...   \n",
       "176  PICH   Suite GREENWOOD NORA  KY CHIEF COMPLAIN...   \n",
       "177  KEKELA EMERGENCY DEPT visit DIETZ,SUSIE visit ...   \n",
       "178  EDVISIT^14477347^Bennett ^09/20/92^NOE NATALEY...   \n",
       "179  intern admit note date   CATHY TURK PT name   ...   \n",
       "180  KCM EMERGENCY DEPT visit RIVERS,KARSTEN visit ...   \n",
       "181  PCC EMERGENCY DEPT visit FERRARA,LAUREN visit ...   \n",
       "182  record available follow DM HTN do new problem\\...   \n",
       "183  LEPROSARIUM EMERGENCY DEPT visit OLIVIER,OZELL...   \n",
       "184   name FLAHERTY XAVIER MRN dictate ROSITum ko ....   \n",
       "185     wood  OLIVE XAVIER  WV   .D. wood   WV RE  ...   \n",
       "186  reason visit Mr.  be follow-up multiple issue\\...   \n",
       "187   harry R.  M.D.         RE  .  ATCH  harry  th...   \n",
       "188     Unit No PUBLIC institute   date  MEDICATION...   \n",
       "189    circle HEATH HANNAH   CHIEF COMPLAINT stroke...   \n",
       "190  EDVISIT^06129040^MACK ROSE^08/16/92^GRAHAM ANG...   \n",
       "191   care PULMONARY fellow admit note reason Admis...   \n",
       "192      040   MOS DEREK  WI History present  Compl...   \n",
       "193   Complaint  cysto left stent ESWL,meatal dilat...   \n",
       "194  Walk-in clinic   HPus Ms.  be 74-year-old fema...   \n",
       "195   06   .D.  Way Suite   RE   WMC#727-19-02  doc...   \n",
       "196  DR  CLINIC STANTON nurse STANTON nurse home PR...   \n",
       "197  CC ear pain cough HPus female c/o cough clear ...   \n",
       "198   fellow note    MRN 236-07-19 date note reason...   \n",
       "199  SLHC EMERGENCY DEPT visit DO,TANYA V visit dat...   \n",
       "200   exam Male  be  present physical exam\\nha be l...   \n",
       "201  Mr.  come tonight complain pain varicose vein ...   \n",
       "\n",
       "                                       label  \\\n",
       "0    [0, 1, 0, 1, 0, 1, 0, 1, 0, 0, 1, 1, 1]   \n",
       "1    [0, 1, 0, 1, 0, 0, 0, 1, 0, 0, 0, 1, 0]   \n",
       "2    [1, 1, 0, 1, 0, 0, 0, 1, 0, 0, 1, 1, 0]   \n",
       "3    [0, 1, 0, 1, 0, 0, 0, 1, 0, 0, 0, 1, 0]   \n",
       "4    [0, 1, 0, 0, 0, 0, 0, 1, 1, 0, 1, 1, 1]   \n",
       "5    [0, 1, 0, 1, 1, 1, 0, 1, 0, 0, 1, 1, 1]   \n",
       "6    [0, 1, 0, 1, 0, 1, 0, 1, 0, 0, 0, 1, 1]   \n",
       "7    [0, 1, 0, 1, 1, 0, 0, 1, 0, 0, 1, 1, 0]   \n",
       "8    [1, 1, 0, 1, 0, 1, 0, 1, 0, 0, 1, 1, 0]   \n",
       "9    [0, 1, 0, 1, 0, 0, 0, 1, 0, 0, 0, 1, 0]   \n",
       "10   [0, 1, 0, 1, 1, 0, 0, 1, 0, 0, 1, 1, 0]   \n",
       "11   [0, 1, 0, 1, 0, 0, 0, 1, 0, 0, 0, 1, 0]   \n",
       "12   [1, 1, 0, 1, 0, 1, 0, 1, 0, 0, 1, 1, 0]   \n",
       "13   [1, 0, 0, 1, 1, 0, 0, 1, 1, 0, 1, 1, 0]   \n",
       "14   [1, 0, 0, 0, 1, 0, 0, 1, 0, 0, 1, 1, 0]   \n",
       "15   [1, 1, 0, 1, 0, 1, 0, 0, 1, 0, 0, 1, 0]   \n",
       "16   [0, 1, 0, 1, 1, 1, 0, 1, 0, 0, 1, 0, 0]   \n",
       "17   [0, 1, 0, 1, 0, 1, 0, 1, 0, 0, 0, 1, 0]   \n",
       "18   [1, 1, 0, 0, 0, 0, 0, 1, 1, 0, 0, 1, 0]   \n",
       "19   [0, 1, 0, 1, 1, 1, 0, 1, 0, 0, 1, 1, 0]   \n",
       "20   [0, 1, 0, 1, 1, 0, 0, 1, 1, 0, 1, 1, 0]   \n",
       "21   [0, 1, 0, 1, 1, 1, 1, 1, 0, 0, 1, 1, 0]   \n",
       "22   [0, 0, 0, 1, 1, 1, 0, 1, 0, 0, 1, 1, 0]   \n",
       "23   [0, 1, 0, 1, 1, 1, 0, 1, 1, 0, 1, 1, 0]   \n",
       "24   [1, 1, 0, 1, 1, 1, 0, 1, 0, 0, 1, 1, 1]   \n",
       "25   [1, 1, 0, 1, 1, 0, 0, 1, 0, 0, 1, 1, 0]   \n",
       "26   [0, 1, 0, 1, 1, 0, 0, 1, 0, 0, 0, 1, 0]   \n",
       "27   [0, 1, 0, 1, 1, 1, 0, 1, 0, 0, 1, 1, 1]   \n",
       "28   [0, 1, 0, 1, 0, 0, 0, 1, 1, 0, 1, 1, 1]   \n",
       "29   [0, 1, 0, 1, 0, 0, 0, 1, 1, 0, 0, 1, 0]   \n",
       "..                                       ...   \n",
       "172  [1, 0, 0, 1, 1, 0, 0, 0, 0, 0, 0, 1, 0]   \n",
       "173  [0, 0, 0, 1, 1, 1, 0, 1, 1, 0, 0, 1, 0]   \n",
       "174  [1, 0, 0, 1, 1, 0, 1, 1, 0, 0, 0, 1, 0]   \n",
       "175  [1, 0, 0, 1, 1, 1, 0, 1, 0, 0, 1, 0, 0]   \n",
       "176  [0, 0, 0, 1, 0, 0, 0, 1, 1, 0, 0, 1, 0]   \n",
       "177  [0, 1, 0, 1, 0, 1, 0, 1, 1, 0, 1, 1, 0]   \n",
       "178  [0, 0, 0, 0, 0, 0, 0, 1, 0, 0, 0, 1, 0]   \n",
       "179  [0, 0, 0, 1, 0, 0, 0, 1, 0, 0, 1, 1, 0]   \n",
       "180  [1, 0, 0, 0, 0, 1, 0, 1, 1, 0, 1, 1, 0]   \n",
       "181  [1, 0, 0, 1, 0, 1, 0, 1, 0, 0, 1, 1, 0]   \n",
       "182  [1, 0, 0, 1, 0, 1, 0, 1, 1, 0, 0, 1, 0]   \n",
       "183  [1, 0, 0, 0, 0, 1, 0, 0, 1, 0, 0, 1, 0]   \n",
       "184  [0, 1, 0, 1, 0, 1, 0, 1, 1, 0, 1, 1, 0]   \n",
       "185  [1, 0, 0, 1, 0, 1, 0, 1, 0, 0, 1, 1, 0]   \n",
       "186  [0, 0, 0, 1, 0, 1, 0, 1, 1, 0, 0, 1, 0]   \n",
       "187  [1, 0, 0, 1, 0, 1, 0, 1, 0, 0, 0, 1, 0]   \n",
       "188  [1, 0, 0, 1, 0, 1, 0, 1, 0, 0, 1, 0, 0]   \n",
       "189  [1, 0, 0, 0, 0, 0, 0, 0, 1, 0, 0, 0, 0]   \n",
       "190  [0, 0, 0, 0, 1, 0, 1, 1, 0, 0, 1, 1, 0]   \n",
       "191  [0, 0, 0, 1, 1, 1, 1, 1, 0, 0, 0, 1, 0]   \n",
       "192  [1, 1, 0, 1, 1, 1, 0, 1, 0, 0, 1, 1, 0]   \n",
       "193  [0, 0, 0, 1, 0, 0, 0, 1, 1, 0, 0, 1, 0]   \n",
       "194  [0, 0, 0, 1, 0, 1, 0, 1, 0, 0, 0, 1, 0]   \n",
       "195  [0, 0, 0, 1, 0, 1, 0, 1, 0, 0, 0, 1, 0]   \n",
       "196  [0, 0, 0, 1, 1, 1, 0, 1, 0, 0, 1, 1, 0]   \n",
       "197  [1, 1, 0, 0, 1, 1, 0, 1, 1, 0, 1, 1, 0]   \n",
       "198  [1, 0, 0, 1, 0, 1, 0, 1, 0, 0, 1, 1, 0]   \n",
       "199  [1, 0, 0, 1, 0, 1, 0, 1, 1, 0, 1, 1, 0]   \n",
       "200  [0, 0, 0, 1, 0, 0, 0, 1, 1, 0, 1, 1, 0]   \n",
       "201  [0, 0, 0, 1, 1, 1, 0, 1, 1, 0, 1, 1, 0]   \n",
       "\n",
       "                                                 split  \\\n",
       "0    [associate, circle, year, old, pound, gentlema...   \n",
       "1    [mercy, care, center, associate, come, further...   \n",
       "2    [personal, overall, old, male, present, multip...   \n",
       "3    [huntington, emergency, dept, visit, julium, v...   \n",
       "4    [jennifer, booker, unit, nashua, memorial, hos...   \n",
       "5    [doctor, tuttle, dob, thank, refer, understand...   \n",
       "6    [health, center, date, racine, maine, name, ni...   \n",
       "7    [edvisit, root, percy, carr, rachel, patient, ...   \n",
       "8    [drive, infection, arm, day, ago, injure, fore...   \n",
       "9    [see, today, have, see, week, stop, prednisone...   \n",
       "10   [silver, ridge, emergency, dept, visit, orozco...   \n",
       "11   [bch, emergency, dept, visit, hess, clarence, ...   \n",
       "12   [dameron, emergency, dept, visit, valenzuela, ...   \n",
       "13   [personal, overall, year, old, right, hand, ma...   \n",
       "14   [emergency, dept, visit, branch, earnest, visi...   \n",
       "15   [hgh, unit, saint, vincent, hospital, adult, d...   \n",
       "16   [circle, see, patient, office, today, seem, ca...   \n",
       "17   [hdh, internal, associate, white, male, hypert...   \n",
       "18   [problem, mellitu, due, bleed, partial, pud, p...   \n",
       "19   [rachael, obryan, vallejo, hospital, endocrino...   \n",
       "20   [key, fair, bill, key, see, bill, fair, today,...   \n",
       "21   [admit, note, cch, unit, number, date, admissi...   \n",
       "22   [bowne, emergency, dept, visit, godwin, yair, ...   \n",
       "23   [name, yount, patricium, mrn, dictate, brandon...   \n",
       "24   [painful, facial, weaknes, hunt, syndrome, tak...   \n",
       "25   [lmc, lmc, surgery, clinic, note, consult, hem...   \n",
       "26   [care, thank, refer, patient, preoperative, ev...   \n",
       "27   [pcc, primary, care, drive, pcc, reason, visit...   \n",
       "28   [name, mrn, patient, white, female, present, f...   \n",
       "29   [care, preston, france, history, present, illn...   \n",
       "..                                                 ...   \n",
       "172  [edvisit, fay, brook, xaysana, yusef, confirm,...   \n",
       "173  [daley, wade, mrn, man, hbp, microfallicular, ...   \n",
       "174  [record, ishida, nathan, mrn, dob, sex, regist...   \n",
       "175  [zollman, emergency, dept, visit, massey, ramo...   \n",
       "176  [pich, suite, greenwood, nora, chief, complain...   \n",
       "177  [kekela, emergency, dept, visit, dietz, susie,...   \n",
       "178  [edvisit, bennett, noe, nataley, kinslee, chie...   \n",
       "179  [intern, admit, note, date, cathy, turk, name,...   \n",
       "180  [kcm, emergency, dept, visit, rivers, karsten,...   \n",
       "181  [pcc, emergency, dept, visit, ferrara, lauren,...   \n",
       "182  [record, available, follow, htn, new, problem,...   \n",
       "183  [leprosarium, emergency, dept, visit, olivier,...   \n",
       "184  [name, flaherty, xavier, mrn, dictate, rositum...   \n",
       "185  [wood, olive, xavier, wood, present, evaluatio...   \n",
       "186  [reason, visit, multiple, issue, pain, have, p...   \n",
       "187  [harry, atch, harry, thank, kind, referral, ab...   \n",
       "188  [unit, public, institute, date, medication, do...   \n",
       "189  [circle, heath, hannah, chief, complaint, stro...   \n",
       "190  [edvisit, mack, rose, graham, angela, patient,...   \n",
       "191  [care, pulmonary, fellow, admit, note, reason,...   \n",
       "192  [mos, derek, history, present, complaint, pati...   \n",
       "193  [complaint, cysto, left, stent, eswl, meatal, ...   \n",
       "194  [clinic, hpus, female, present, clinic, even, ...   \n",
       "195  [way, suite, wmc, doctor, have, pleasure, see,...   \n",
       "196  [clinic, stanton, nurse, stanton, nurse, home,...   \n",
       "197  [ear, pain, cough, hpus, female, cough, clear,...   \n",
       "198  [fellow, note, mrn, date, note, reason, consul...   \n",
       "199  [slhc, emergency, dept, visit, tanya, visit, d...   \n",
       "200  [exam, male, present, physical, exam, lose, ye...   \n",
       "201  [come, tonight, complain, pain, varicose, vein...   \n",
       "\n",
       "                                                   ind  diet  lens  diabet  \n",
       "0    [552, 1419, 9356, 5815, 6504, 3301, 7026, 1691...     1  1921       1  \n",
       "1    [5059, 1169, 1289, 552, 1575, 3213, 2786, 4334...     0   404       0  \n",
       "2    [6245, 5963, 5815, 4901, 6576, 5334, 8531, 286...     1   743       1  \n",
       "3    [3831, 2586, 2073, 9082, 4419, 9082, 1953, 612...     0   763       0  \n",
       "4    [4393, 942, 8808, 5427, 5040, 3779, 144, 1953,...     1   808       1  \n",
       "5    [2308, 8688, 2305, 8373, 7026, 8784, 7026, 278...     1  1726       1  \n",
       "6    [3583, 1289, 1953, 6885, 4896, 5411, 5560, 664...     0  1477       0  \n",
       "7    [2515, 7308, 6193, 1169, 6884, 6124, 7525, 166...     1   960       1  \n",
       "8    [2379, 4112, 480, 1960, 184, 4090, 3114, 7613,...     1  1047       1  \n",
       "9    [7525, 8510, 3544, 7525, 9177, 7979, 6553, 598...     0   649       0  \n",
       "10   [7678, 7253, 2586, 2073, 9082, 5896, 4523, 908...     1   588       1  \n",
       "11   [738, 2586, 2073, 9082, 3679, 1447, 9082, 1953...     0   795       0  \n",
       "12   [1939, 2586, 2073, 9082, 8946, 1015, 9082, 195...     1  1527       1  \n",
       "13   [6245, 5963, 9356, 5815, 7259, 3514, 4918, 678...     1  1180       1  \n",
       "14   [2586, 2073, 9082, 991, 2471, 9082, 1953, 3724...     1   838       1  \n",
       "15   [3694, 8808, 7396, 9068, 3779, 144, 1953, 9184...     0   657       0  \n",
       "16   [1419, 7525, 6124, 5802, 8510, 7528, 1190, 624...     1   864       1  \n",
       "17   [3576, 4227, 552, 9217, 4901, 3904, 3874, 7198...     0   606       0  \n",
       "18   [6623, 5039, 2403, 890, 6097, 6769, 6803, 4003...     0   507       0  \n",
       "19   [6883, 5755, 8949, 3779, 2625, 2284, 7026, 630...     1   937       1  \n",
       "20   [4475, 2896, 828, 4475, 7525, 828, 2896, 8510,...     1  1321       1  \n",
       "21   [135, 5681, 1252, 8808, 5724, 1953, 135, 602, ...     1  1680       1  \n",
       "22   [963, 2586, 2073, 9082, 3380, 9341, 9082, 1953...     1  1662       1  \n",
       "23   [5411, 9384, 6121, 5285, 2151, 993, 9054, 7098...     1   990       1  \n",
       "24   [6014, 2886, 9169, 3830, 8215, 8255, 8315, 408...     1  1169       1  \n",
       "25   [4752, 4752, 8160, 1473, 5681, 1691, 3647, 380...     1  1462       1  \n",
       "26   [1169, 8373, 7026, 6124, 6571, 2786, 8450, 450...     0  1292       0  \n",
       "27   [6133, 6601, 1169, 2379, 6133, 6959, 9082, 157...     1  1373       1  \n",
       "28   [5411, 5285, 6124, 9217, 2954, 6576, 3096, 869...     1  1568       1  \n",
       "29   [1169, 6583, 3158, 3724, 6576, 4011, 6124, 927...     0  1028       0  \n",
       "..                                                 ...   ...   ...     ...  \n",
       "172  [2515, 2933, 1040, 9321, 9388, 1648, 3544, 424...     0  1126       0  \n",
       "173  [1934, 9125, 5285, 4918, 3558, 5138, 8449, 114...     0  1292       0  \n",
       "174  [6993, 4333, 5434, 5285, 2305, 7592, 7041, 554...     0  1379       0  \n",
       "175  [9416, 2586, 2073, 9082, 4962, 6915, 9082, 195...     1  1113       1  \n",
       "176  [6318, 8107, 3439, 5664, 1365, 1609, 1575, 889...     0  1879       0  \n",
       "177  [4455, 2586, 2073, 9082, 2158, 8176, 9082, 195...     1   780       1  \n",
       "178  [2515, 780, 5593, 5433, 4488, 1365, 1609, 2287...     0   689       0  \n",
       "179  [4227, 135, 5681, 1953, 1232, 8685, 5411, 6993...     1  1764       1  \n",
       "180  [4448, 2586, 2073, 9082, 7277, 4432, 9082, 195...     1  1339       1  \n",
       "181  [6133, 2586, 2073, 9082, 2963, 4593, 9082, 195...     1   878       1  \n",
       "182  [6993, 637, 3096, 3818, 5525, 6623, 6430, 1021...     0   843       0  \n",
       "183  [4645, 2586, 2073, 9082, 5824, 6003, 9082, 195...     0  1661       0  \n",
       "184  [5411, 3029, 9319, 5285, 2151, 7315, 6124, 490...     1  1482       1  \n",
       "185  [9274, 5813, 9319, 9274, 6576, 2786, 8373, 702...     1  1381       1  \n",
       "186  [6959, 9082, 5334, 4346, 6014, 3544, 6656, 222...     0   850       0  \n",
       "187  [3534, 570, 3534, 8373, 4485, 7027, 28, 5681, ...     0  1292       0  \n",
       "188  [8808, 6768, 4187, 1953, 5014, 2341, 3360, 139...     1  1330       1  \n",
       "189  [1419, 3578, 3523, 1365, 1609, 8021, 3724, 657...     0  1616       0  \n",
       "190  [2515, 4877, 7311, 3406, 328, 6124, 9082, 7611...     1  1804       1  \n",
       "191  [1169, 6775, 2953, 135, 5681, 6959, 135, 3085,...     0  1375       0  \n",
       "192  [5258, 2076, 3724, 6576, 1609, 6124, 4918, 779...     1  1803       1  \n",
       "193  [1609, 1916, 4629, 7941, 2764, 5009, 2179, 372...     0  1128       0  \n",
       "194  [1473, 3800, 2954, 6576, 1473, 2784, 3096, 212...     0   796       0  \n",
       "195  [9159, 8107, 9264, 2308, 3544, 6372, 7525, 536...     0  1219       0  \n",
       "196  [1473, 7912, 5729, 7912, 5729, 3761, 6601, 116...     1  1132       1  \n",
       "197  [2467, 6014, 1771, 3800, 2954, 1771, 1463, 531...     1  1001       1  \n",
       "198  [2953, 5681, 5285, 1953, 5681, 6959, 1691, 543...     1  1788       1  \n",
       "199  [7726, 2586, 2073, 9082, 8272, 9082, 1953, 714...     1  1931       1  \n",
       "200  [2803, 4901, 6576, 6309, 2803, 4792, 9356, 377...     1  1008       1  \n",
       "201  [1575, 8523, 1608, 6014, 8966, 8999, 9293, 936...     1   778       1  \n",
       "\n",
       "[202 rows x 7 columns]"
      ]
     },
     "execution_count": 107,
     "metadata": {},
     "output_type": "execute_result"
    }
   ],
   "source": [
    "data"
   ]
  },
  {
   "cell_type": "code",
   "execution_count": 109,
   "metadata": {},
   "outputs": [
    {
     "data": {
      "text/plain": [
       "((162, 7), (40, 7))"
      ]
     },
     "execution_count": 109,
     "metadata": {},
     "output_type": "execute_result"
    }
   ],
   "source": [
    "train=data.sample(frac=0.8)\n",
    "test=data.drop(train.index)\n",
    "\n",
    "train.shape, test.shape"
   ]
  },
  {
   "cell_type": "code",
   "execution_count": 110,
   "metadata": {},
   "outputs": [
    {
     "data": {
      "text/plain": [
       "3293"
      ]
     },
     "execution_count": 110,
     "metadata": {},
     "output_type": "execute_result"
    }
   ],
   "source": [
    "from keras.preprocessing import sequence\n",
    "\n",
    "data['lens'] = data.ind.map(lambda x: len(x))\n",
    "maxlen = max(data.lens)\n",
    "data = data[data.lens != 0]\n",
    "maxlen"
   ]
  },
  {
   "cell_type": "code",
   "execution_count": 111,
   "metadata": {},
   "outputs": [],
   "source": [
    "X_train = sequence.pad_sequences(train.ind, maxlen=maxlen)\n",
    "X_train = np.array([x.ravel() for x in X_train])"
   ]
  },
  {
   "cell_type": "code",
   "execution_count": 112,
   "metadata": {},
   "outputs": [
    {
     "data": {
      "text/plain": [
       "array([0, 1, 1, 0, 1, 1, 0, 0, 0, 1, 1, 0, 1, 0, 1, 1, 1, 1, 1, 0, 1, 1, 1,\n",
       "       1, 1, 0, 1, 0, 0, 1, 0, 1, 0, 1, 1, 0, 1, 0, 0, 1, 0, 1, 0, 1, 1, 0,\n",
       "       1, 1, 0, 0, 0, 0, 0, 0, 0, 0, 1, 0, 1, 0, 1, 0, 1, 0, 0, 0, 0, 1, 0,\n",
       "       1, 1, 1, 1, 1, 1, 1, 0, 0, 0, 0, 1, 1, 0, 0, 1, 1, 0, 0, 1, 1, 0, 0,\n",
       "       1, 0, 1, 0, 0, 1, 0, 1, 1, 0, 1, 0, 0, 1, 1, 0, 1, 0, 0, 1, 1, 1, 1,\n",
       "       1, 0, 0, 0, 0, 1, 0, 1, 1, 1, 1, 1, 1, 1, 0, 0, 0, 1, 1, 1, 1, 1, 0,\n",
       "       1, 0, 1, 1, 0, 1, 1, 1, 0, 0, 0, 0, 1, 0, 1, 0, 1, 0, 0, 1, 1, 1, 1,\n",
       "       0], dtype=int64)"
      ]
     },
     "execution_count": 112,
     "metadata": {},
     "output_type": "execute_result"
    }
   ],
   "source": [
    "y_train = np.array([x for x in train.diabet])\n",
    "y_train"
   ]
  },
  {
   "cell_type": "code",
   "execution_count": 113,
   "metadata": {},
   "outputs": [
    {
     "name": "stdout",
     "output_type": "stream",
     "text": [
      "_________________________________________________________________\n",
      "Layer (type)                 Output Shape              Param #   \n",
      "=================================================================\n",
      "embedding_10 (Embedding)     (None, 3293, 3293)        31039818  \n",
      "_________________________________________________________________\n",
      "dense_19 (Dense)             (None, 3293, 100)         329400    \n",
      "_________________________________________________________________\n",
      "dropout_10 (Dropout)         (None, 3293, 100)         0         \n",
      "_________________________________________________________________\n",
      "lstm_10 (LSTM)               (None, 100)               80400     \n",
      "_________________________________________________________________\n",
      "dense_20 (Dense)             (None, 1)                 101       \n",
      "=================================================================\n",
      "Total params: 31,449,719\n",
      "Trainable params: 31,449,719\n",
      "Non-trainable params: 0\n",
      "_________________________________________________________________\n",
      "None\n"
     ]
    }
   ],
   "source": [
    "import numpy\n",
    "import keras\n",
    "from keras.datasets import imdb\n",
    "from keras.models import Sequential\n",
    "from keras.layers import Dense\n",
    "from keras.layers import LSTM\n",
    "from keras.layers import GRU\n",
    "from keras.layers.convolutional import Conv1D\n",
    "from keras.layers.convolutional import MaxPooling1D\n",
    "from keras.layers.embeddings import Embedding\n",
    "from keras.layers import Flatten\n",
    "from keras.layers import Dropout\n",
    "from keras.preprocessing import sequence\n",
    "import numpy as np\n",
    "import random\n",
    "\n",
    "model = Sequential()\n",
    "model.add(Embedding(len(vocab), maxlen, input_length=X_train.shape[1]))\n",
    "model.add(Dense(100, activation='sigmoid'))\n",
    "model.add(Dropout(0.5))\n",
    "model.add(LSTM(100))\n",
    "model.add(Dense(1, activation='sigmoid'))\n",
    "model.compile(loss='binary_crossentropy', optimizer='adagrad', metrics=['accuracy'])\n",
    "print(model.summary())"
   ]
  },
  {
   "cell_type": "code",
   "execution_count": 114,
   "metadata": {},
   "outputs": [
    {
     "name": "stdout",
     "output_type": "stream",
     "text": [
      "Epoch 1/10\n",
      "162/162 [==============================] - 182s 1s/step - loss: 0.6967 - acc: 0.4506\n",
      "Epoch 2/10\n",
      "162/162 [==============================] - 186s 1s/step - loss: 1.0254 - acc: 0.4877\n",
      "Epoch 3/10\n",
      "162/162 [==============================] - 189s 1s/step - loss: 0.6794 - acc: 0.5494\n",
      "Epoch 4/10\n",
      "162/162 [==============================] - 188s 1s/step - loss: 0.6185 - acc: 0.5741\n",
      "Epoch 5/10\n",
      "162/162 [==============================] - 194s 1s/step - loss: 0.5128 - acc: 0.8333\n",
      "Epoch 6/10\n",
      "162/162 [==============================] - 182s 1s/step - loss: 0.4233 - acc: 0.8642\n",
      "Epoch 7/10\n",
      "162/162 [==============================] - 189s 1s/step - loss: 0.3079 - acc: 0.8951\n",
      "Epoch 8/10\n",
      "162/162 [==============================] - 183s 1s/step - loss: 0.1763 - acc: 0.9568\n",
      "Epoch 9/10\n",
      "162/162 [==============================] - 183s 1s/step - loss: 0.0936 - acc: 0.9877\n",
      "Epoch 10/10\n",
      "162/162 [==============================] - 179s 1s/step - loss: 0.0682 - acc: 1.0000\n"
     ]
    },
    {
     "data": {
      "text/plain": [
       "<keras.callbacks.History at 0x20f0ea28b00>"
      ]
     },
     "execution_count": 114,
     "metadata": {},
     "output_type": "execute_result"
    }
   ],
   "source": [
    "model.fit(X_train, y_train, batch_size=128, epochs=10)"
   ]
  },
  {
   "cell_type": "code",
   "execution_count": 115,
   "metadata": {},
   "outputs": [],
   "source": [
    "X_test = sequence.pad_sequences(test.ind, maxlen=maxlen)\n",
    "X_test = np.array([x.ravel() for x in X_test])"
   ]
  },
  {
   "cell_type": "code",
   "execution_count": 116,
   "metadata": {},
   "outputs": [
    {
     "data": {
      "text/plain": [
       "array([1, 1, 1, 1, 0, 0, 1, 1, 1, 1, 1, 0, 0, 1, 1, 0, 0, 1, 1, 1, 0, 0, 1,\n",
       "       0, 1, 0, 1, 1, 1, 1, 1, 0, 0, 1, 1, 0, 1, 1, 1, 0], dtype=int64)"
      ]
     },
     "execution_count": 116,
     "metadata": {},
     "output_type": "execute_result"
    }
   ],
   "source": [
    "Y_test = np.array([x for x in test.diabet])\n",
    "Y_test"
   ]
  },
  {
   "cell_type": "code",
   "execution_count": 117,
   "metadata": {},
   "outputs": [
    {
     "name": "stdout",
     "output_type": "stream",
     "text": [
      "Test score: 0.980154585838\n",
      "Test accuracy: 0.675\n"
     ]
    }
   ],
   "source": [
    "score = model.evaluate(X_test, Y_test, verbose=0)\n",
    "print('Test score:', score[0])\n",
    "print('Test accuracy:', score[1])"
   ]
  },
  {
   "cell_type": "code",
   "execution_count": null,
   "metadata": {},
   "outputs": [],
   "source": [
    "  "
   ]
  }
 ],
 "metadata": {
  "kernelspec": {
   "display_name": "Python [default]",
   "language": "python",
   "name": "python3"
  },
  "language_info": {
   "codemirror_mode": {
    "name": "ipython",
    "version": 3
   },
   "file_extension": ".py",
   "mimetype": "text/x-python",
   "name": "python",
   "nbconvert_exporter": "python",
   "pygments_lexer": "ipython3",
   "version": "3.6.3"
  }
 },
 "nbformat": 4,
 "nbformat_minor": 2
}
